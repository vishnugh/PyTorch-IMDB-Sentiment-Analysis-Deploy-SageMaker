{
 "cells": [
  {
   "cell_type": "markdown",
   "metadata": {},
   "source": [
    "# Creating a Sentiment Analysis Web App\n",
    "## Using PyTorch and SageMaker\n",
    "\n",
    "_Deep Learning Nanodegree Program | Deployment_\n",
    "\n",
    "---\n",
    "\n",
    "Now that we have a basic understanding of how SageMaker works we will try to use it to construct a complete project from end to end. Our goal will be to have a simple web page which a user can use to enter a movie review. The web page will then send the review off to our deployed model which will predict the sentiment of the entered review.\n",
    "\n",
    "## Instructions\n",
    "\n",
    "Some template code has already been provided for you, and you will need to implement additional functionality to successfully complete this notebook. You will not need to modify the included code beyond what is requested. Sections that begin with '**TODO**' in the header indicate that you need to complete or implement some portion within them. Instructions will be provided for each section and the specifics of the implementation are marked in the code block with a `# TODO: ...` comment. Please be sure to read the instructions carefully!\n",
    "\n",
    "In addition to implementing code, there will be questions for you to answer which relate to the task and your implementation. Each section where you will answer a question is preceded by a '**Question:**' header. Carefully read each question and provide your answer below the '**Answer:**' header by editing the Markdown cell.\n",
    "\n",
    "> **Note**: Code and Markdown cells can be executed using the **Shift+Enter** keyboard shortcut. In addition, a cell can be edited by typically clicking it (double-click for Markdown cells) or by pressing **Enter** while it is highlighted.\n",
    "\n",
    "## General Outline\n",
    "\n",
    "Recall the general outline for SageMaker projects using a notebook instance.\n",
    "\n",
    "1. Download or otherwise retrieve the data.\n",
    "2. Process / Prepare the data.\n",
    "3. Upload the processed data to S3.\n",
    "4. Train a chosen model.\n",
    "5. Test the trained model (typically using a batch transform job).\n",
    "6. Deploy the trained model.\n",
    "7. Use the deployed model.\n",
    "\n",
    "For this project, you will be following the steps in the general outline with some modifications. \n",
    "\n",
    "First, you will not be testing the model in its own step. You will still be testing the model, however, you will do it by deploying your model and then using the deployed model by sending the test data to it. One of the reasons for doing this is so that you can make sure that your deployed model is working correctly before moving forward.\n",
    "\n",
    "In addition, you will deploy and use your trained model a second time. In the second iteration you will customize the way that your trained model is deployed by including some of your own code. In addition, your newly deployed model will be used in the sentiment analysis web app."
   ]
  },
  {
   "cell_type": "markdown",
   "metadata": {},
   "source": [
    "## Step 1: Downloading the data\n",
    "\n",
    "As in the XGBoost in SageMaker notebook, we will be using the [IMDb dataset](http://ai.stanford.edu/~amaas/data/sentiment/)\n",
    "\n",
    "> Maas, Andrew L., et al. [Learning Word Vectors for Sentiment Analysis](http://ai.stanford.edu/~amaas/data/sentiment/). In _Proceedings of the 49th Annual Meeting of the Association for Computational Linguistics: Human Language Technologies_. Association for Computational Linguistics, 2011."
   ]
  },
  {
   "cell_type": "code",
   "execution_count": 1,
   "metadata": {},
   "outputs": [
    {
     "name": "stdout",
     "output_type": "stream",
     "text": [
      "mkdir: cannot create directory ‘../data’: File exists\n",
      "--2019-05-24 09:08:48--  http://ai.stanford.edu/~amaas/data/sentiment/aclImdb_v1.tar.gz\n",
      "Resolving ai.stanford.edu (ai.stanford.edu)... 171.64.68.10\n",
      "Connecting to ai.stanford.edu (ai.stanford.edu)|171.64.68.10|:80... connected.\n",
      "HTTP request sent, awaiting response... 200 OK\n",
      "Length: 84125825 (80M) [application/x-gzip]\n",
      "Saving to: ‘../data/aclImdb_v1.tar.gz’\n",
      "\n",
      "../data/aclImdb_v1. 100%[===================>]  80.23M  5.92MB/s    in 20s     \n",
      "\n",
      "2019-05-24 09:09:10 (3.93 MB/s) - ‘../data/aclImdb_v1.tar.gz’ saved [84125825/84125825]\n",
      "\n"
     ]
    }
   ],
   "source": [
    "%mkdir ../data\n",
    "!wget -O ../data/aclImdb_v1.tar.gz http://ai.stanford.edu/~amaas/data/sentiment/aclImdb_v1.tar.gz\n",
    "!tar -zxf ../data/aclImdb_v1.tar.gz -C ../data"
   ]
  },
  {
   "cell_type": "markdown",
   "metadata": {},
   "source": [
    "## Step 2: Preparing and Processing the data\n",
    "\n",
    "Also, as in the XGBoost notebook, we will be doing some initial data processing. The first few steps are the same as in the XGBoost example. To begin with, we will read in each of the reviews and combine them into a single input structure. Then, we will split the dataset into a training set and a testing set."
   ]
  },
  {
   "cell_type": "code",
   "execution_count": 2,
   "metadata": {},
   "outputs": [],
   "source": [
    "import os\n",
    "import glob\n",
    "\n",
    "def read_imdb_data(data_dir='../data/aclImdb'):\n",
    "    data = {}\n",
    "    labels = {}\n",
    "    \n",
    "    for data_type in ['train', 'test']:\n",
    "        data[data_type] = {}\n",
    "        labels[data_type] = {}\n",
    "        \n",
    "        for sentiment in ['pos', 'neg']:\n",
    "            data[data_type][sentiment] = []\n",
    "            labels[data_type][sentiment] = []\n",
    "            \n",
    "            path = os.path.join(data_dir, data_type, sentiment, '*.txt')\n",
    "            files = glob.glob(path)\n",
    "            \n",
    "            for f in files:\n",
    "                with open(f) as review:\n",
    "                    data[data_type][sentiment].append(review.read())\n",
    "                    # Here we represent a positive review by '1' and a negative review by '0'\n",
    "                    labels[data_type][sentiment].append(1 if sentiment == 'pos' else 0)\n",
    "                    \n",
    "            assert len(data[data_type][sentiment]) == len(labels[data_type][sentiment]), \\\n",
    "                    \"{}/{} data size does not match labels size\".format(data_type, sentiment)\n",
    "                \n",
    "    return data, labels"
   ]
  },
  {
   "cell_type": "code",
   "execution_count": 3,
   "metadata": {},
   "outputs": [
    {
     "name": "stdout",
     "output_type": "stream",
     "text": [
      "IMDB reviews: train = 12500 pos / 12500 neg, test = 12500 pos / 12500 neg\n"
     ]
    }
   ],
   "source": [
    "data, labels = read_imdb_data()\n",
    "print(\"IMDB reviews: train = {} pos / {} neg, test = {} pos / {} neg\".format(\n",
    "            len(data['train']['pos']), len(data['train']['neg']),\n",
    "            len(data['test']['pos']), len(data['test']['neg'])))"
   ]
  },
  {
   "cell_type": "markdown",
   "metadata": {},
   "source": [
    "Now that we've read the raw training and testing data from the downloaded dataset, we will combine the positive and negative reviews and shuffle the resulting records."
   ]
  },
  {
   "cell_type": "code",
   "execution_count": 4,
   "metadata": {},
   "outputs": [],
   "source": [
    "from sklearn.utils import shuffle\n",
    "\n",
    "def prepare_imdb_data(data, labels):\n",
    "    \"\"\"Prepare training and test sets from IMDb movie reviews.\"\"\"\n",
    "    \n",
    "    #Combine positive and negative reviews and labels\n",
    "    data_train = data['train']['pos'] + data['train']['neg']\n",
    "    data_test = data['test']['pos'] + data['test']['neg']\n",
    "    labels_train = labels['train']['pos'] + labels['train']['neg']\n",
    "    labels_test = labels['test']['pos'] + labels['test']['neg']\n",
    "    \n",
    "    #Shuffle reviews and corresponding labels within training and test sets\n",
    "    data_train, labels_train = shuffle(data_train, labels_train)\n",
    "    data_test, labels_test = shuffle(data_test, labels_test)\n",
    "    \n",
    "    # Return a unified training data, test data, training labels, test labets\n",
    "    return data_train, data_test, labels_train, labels_test"
   ]
  },
  {
   "cell_type": "code",
   "execution_count": 5,
   "metadata": {},
   "outputs": [
    {
     "name": "stdout",
     "output_type": "stream",
     "text": [
      "IMDb reviews (combined): train = 25000, test = 25000\n"
     ]
    }
   ],
   "source": [
    "train_X, test_X, train_y, test_y = prepare_imdb_data(data, labels)\n",
    "print(\"IMDb reviews (combined): train = {}, test = {}\".format(len(train_X), len(test_X)))"
   ]
  },
  {
   "cell_type": "markdown",
   "metadata": {},
   "source": [
    "Now that we have our training and testing sets unified and prepared, we should do a quick check and see an example of the data our model will be trained on. This is generally a good idea as it allows you to see how each of the further processing steps affects the reviews and it also ensures that the data has been loaded correctly."
   ]
  },
  {
   "cell_type": "code",
   "execution_count": 6,
   "metadata": {},
   "outputs": [
    {
     "name": "stdout",
     "output_type": "stream",
     "text": [
      "A Christmas Story Is A Holiday Classic And My Favorite Movie. So Naturally, I Was Elated When This Movie Came Out In 1994. I Saw It Opening Day and Was Prepared To Enjoy Myself. I Came Away Revolted And Digusted. The Anticipation that Rang True In A Christmas Story Is Curiously Missing from This mess. A Red Ryder BB Gun Is Better to get than a chinese top.And It Is Not Very Funny At all. Charles Grodin Is Good but the Buck Stops There. Bottom Line:1 Star. Don't Even Bother.\n",
      "0\n"
     ]
    }
   ],
   "source": [
    "print(train_X[100])\n",
    "print(train_y[100])"
   ]
  },
  {
   "cell_type": "markdown",
   "metadata": {},
   "source": [
    "The first step in processing the reviews is to make sure that any html tags that appear should be removed. In addition we wish to tokenize our input, that way words such as *entertained* and *entertaining* are considered the same with regard to sentiment analysis."
   ]
  },
  {
   "cell_type": "code",
   "execution_count": 7,
   "metadata": {},
   "outputs": [],
   "source": [
    "import nltk\n",
    "from nltk.corpus import stopwords\n",
    "from nltk.stem.porter import *\n",
    "\n",
    "import re\n",
    "from bs4 import BeautifulSoup\n",
    "\n",
    "def review_to_words(review):\n",
    "    nltk.download(\"stopwords\", quiet=True)\n",
    "    stemmer = PorterStemmer()\n",
    "    \n",
    "    text = BeautifulSoup(review, \"html.parser\").get_text() # Remove HTML tags\n",
    "    text = re.sub(r\"[^a-zA-Z0-9]\", \" \", text.lower()) # Convert to lower case\n",
    "    words = text.split() # Split string into words\n",
    "    words = [w for w in words if w not in stopwords.words(\"english\")] # Remove stopwords\n",
    "    words = [PorterStemmer().stem(w) for w in words] # stem\n",
    "    \n",
    "    return words"
   ]
  },
  {
   "cell_type": "markdown",
   "metadata": {},
   "source": [
    "The `review_to_words` method defined above uses `BeautifulSoup` to remove any html tags that appear and uses the `nltk` package to tokenize the reviews. As a check to ensure we know how everything is working, try applying `review_to_words` to one of the reviews in the training set."
   ]
  },
  {
   "cell_type": "code",
   "execution_count": 8,
   "metadata": {},
   "outputs": [
    {
     "data": {
      "text/plain": [
       "['christma',\n",
       " 'stori',\n",
       " 'holiday',\n",
       " 'classic',\n",
       " 'favorit',\n",
       " 'movi',\n",
       " 'natur',\n",
       " 'elat',\n",
       " 'movi',\n",
       " 'came',\n",
       " '1994',\n",
       " 'saw',\n",
       " 'open',\n",
       " 'day',\n",
       " 'prepar',\n",
       " 'enjoy',\n",
       " 'came',\n",
       " 'away',\n",
       " 'revolt',\n",
       " 'digust',\n",
       " 'anticip',\n",
       " 'rang',\n",
       " 'true',\n",
       " 'christma',\n",
       " 'stori',\n",
       " 'curious',\n",
       " 'miss',\n",
       " 'mess',\n",
       " 'red',\n",
       " 'ryder',\n",
       " 'bb',\n",
       " 'gun',\n",
       " 'better',\n",
       " 'get',\n",
       " 'chines',\n",
       " 'top',\n",
       " 'funni',\n",
       " 'charl',\n",
       " 'grodin',\n",
       " 'good',\n",
       " 'buck',\n",
       " 'stop',\n",
       " 'bottom',\n",
       " 'line',\n",
       " '1',\n",
       " 'star',\n",
       " 'even',\n",
       " 'bother']"
      ]
     },
     "execution_count": 8,
     "metadata": {},
     "output_type": "execute_result"
    }
   ],
   "source": [
    "# TODO: Apply review_to_words to a review (train_X[100] or any other review)\n",
    "review_to_words(train_X[100])"
   ]
  },
  {
   "cell_type": "markdown",
   "metadata": {},
   "source": [
    "**Question:** Above we mentioned that `review_to_words` method removes html formatting and allows us to tokenize the words found in a review, for example, converting *entertained* and *entertaining* into *entertain* so that they are treated as though they are the same word. What else, if anything, does this method do to the input?"
   ]
  },
  {
   "cell_type": "markdown",
   "metadata": {},
   "source": [
    "**Answer:** \n",
    "\n",
    "The review_to_words method performs few operations to process the words before it can be used. They are as follows - \n",
    "* First it removes all the HTML tags using BeautifulSoup.\n",
    "* Then it replaces all the non-alpha-numeric tags with space and converts everything to lower case.\n",
    "* Converts the sentence into a list of words.\n",
    "* Removes all the stopwords(the common words which doesn't carry much information like 'The', 'is') from the list.\n",
    "* Stemming is performed on each word. Basically stripping each word of its suffixes and prefixes so that only the root word is left."
   ]
  },
  {
   "cell_type": "markdown",
   "metadata": {},
   "source": [
    "The method below applies the `review_to_words` method to each of the reviews in the training and testing datasets. In addition it caches the results. This is because performing this processing step can take a long time. This way if you are unable to complete the notebook in the current session, you can come back without needing to process the data a second time."
   ]
  },
  {
   "cell_type": "code",
   "execution_count": 9,
   "metadata": {},
   "outputs": [],
   "source": [
    "import pickle\n",
    "\n",
    "cache_dir = os.path.join(\"../cache\", \"sentiment_analysis\")  # where to store cache files\n",
    "os.makedirs(cache_dir, exist_ok=True)  # ensure cache directory exists\n",
    "\n",
    "def preprocess_data(data_train, data_test, labels_train, labels_test,\n",
    "                    cache_dir=cache_dir, cache_file=\"preprocessed_data.pkl\"):\n",
    "    \"\"\"Convert each review to words; read from cache if available.\"\"\"\n",
    "\n",
    "    # If cache_file is not None, try to read from it first\n",
    "    cache_data = None\n",
    "    if cache_file is not None:\n",
    "        try:\n",
    "            with open(os.path.join(cache_dir, cache_file), \"rb\") as f:\n",
    "                cache_data = pickle.load(f)\n",
    "            print(\"Read preprocessed data from cache file:\", cache_file)\n",
    "        except:\n",
    "            pass  # unable to read from cache, but that's okay\n",
    "    \n",
    "    # If cache is missing, then do the heavy lifting\n",
    "    if cache_data is None:\n",
    "        # Preprocess training and test data to obtain words for each review\n",
    "        #words_train = list(map(review_to_words, data_train))\n",
    "        #words_test = list(map(review_to_words, data_test))\n",
    "        words_train = [review_to_words(review) for review in data_train]\n",
    "        words_test = [review_to_words(review) for review in data_test]\n",
    "        \n",
    "        # Write to cache file for future runs\n",
    "        if cache_file is not None:\n",
    "            cache_data = dict(words_train=words_train, words_test=words_test,\n",
    "                              labels_train=labels_train, labels_test=labels_test)\n",
    "            with open(os.path.join(cache_dir, cache_file), \"wb\") as f:\n",
    "                pickle.dump(cache_data, f)\n",
    "            print(\"Wrote preprocessed data to cache file:\", cache_file)\n",
    "    else:\n",
    "        # Unpack data loaded from cache file\n",
    "        words_train, words_test, labels_train, labels_test = (cache_data['words_train'],\n",
    "                cache_data['words_test'], cache_data['labels_train'], cache_data['labels_test'])\n",
    "    \n",
    "    return words_train, words_test, labels_train, labels_test"
   ]
  },
  {
   "cell_type": "code",
   "execution_count": 10,
   "metadata": {},
   "outputs": [
    {
     "name": "stdout",
     "output_type": "stream",
     "text": [
      "Read preprocessed data from cache file: preprocessed_data.pkl\n"
     ]
    }
   ],
   "source": [
    "# Preprocess data\n",
    "train_X, test_X, train_y, test_y = preprocess_data(train_X, test_X, train_y, test_y)"
   ]
  },
  {
   "cell_type": "code",
   "execution_count": 11,
   "metadata": {},
   "outputs": [
    {
     "name": "stdout",
     "output_type": "stream",
     "text": [
      "['cheap', 'mind', 'blisteringli', 'dull', 'stori', 'act', 'singl', 'good', 'line', 'even', 'line', 'bad', 'enough', 'good', 'memor', 'deliveri', 'even', 'blooper', 'reel', 'includ', 'dvd', 'show', 'inept', 'actor', 'littl', 'fun', 'esoter', 'occult', 'basi', 'apathet', 'inauthent', 'antagonist', 'fail', 'creepi', 'believ', 'homoerot', 'overton', 'pointlessli', 'tame', 'dissatisfi', 'limit', 'young', 'boy', 'caress', 'chest', 'flaccid', 'boxer', 'gay', 'enough', 'appreci', 'littl', 'action', 'might', 'least', 'kept', 'girlfriend', 'awak']\n"
     ]
    }
   ],
   "source": [
    "print(train_X[100])"
   ]
  },
  {
   "cell_type": "markdown",
   "metadata": {},
   "source": [
    "## Transform the data\n",
    "\n",
    "In the XGBoost notebook we transformed the data from its word representation to a bag-of-words feature representation. For the model we are going to construct in this notebook we will construct a feature representation which is very similar. To start, we will represent each word as an integer. Of course, some of the words that appear in the reviews occur very infrequently and so likely don't contain much information for the purposes of sentiment analysis. The way we will deal with this problem is that we will fix the size of our working vocabulary and we will only include the words that appear most frequently. We will then combine all of the infrequent words into a single category and, in our case, we will label it as `1`.\n",
    "\n",
    "Since we will be using a recurrent neural network, it will be convenient if the length of each review is the same. To do this, we will fix a size for our reviews and then pad short reviews with the category 'no word' (which we will label `0`) and truncate long reviews."
   ]
  },
  {
   "cell_type": "markdown",
   "metadata": {},
   "source": [
    "### (TODO) Create a word dictionary\n",
    "\n",
    "To begin with, we need to construct a way to map words that appear in the reviews to integers. Here we fix the size of our vocabulary (including the 'no word' and 'infrequent' categories) to be `5000` but you may wish to change this to see how it affects the model.\n",
    "\n",
    "> **TODO:** Complete the implementation for the `build_dict()` method below. Note that even though the vocab_size is set to `5000`, we only want to construct a mapping for the most frequently appearing `4998` words. This is because we want to reserve the special labels `0` for 'no word' and `1` for 'infrequent word'."
   ]
  },
  {
   "cell_type": "code",
   "execution_count": 12,
   "metadata": {},
   "outputs": [],
   "source": [
    "import numpy as np\n",
    "from collections import Counter\n",
    "\n",
    "def build_dict(data, vocab_size = 5000):\n",
    "    \"\"\"Construct and return a dictionary mapping each of the most frequently appearing words to a unique integer.\"\"\"\n",
    "    \n",
    "    # TODO: Determine how often each word appears in `data`. Note that `data` is a list of sentences and that a\n",
    "    #       sentence is a list of words.\n",
    "    \n",
    "    word_count = {} # A dict storing the words that appear in the reviews along with how often they occur\n",
    "    \n",
    "    for review in data:\n",
    "        count = Counter(review)\n",
    "        for word in count:\n",
    "            word_count[word] = count[word] + (word_count[word] if word in word_count else 0)\n",
    "        \n",
    "    # TODO: Sort the words found in `data` so that sorted_words[0] is the most frequently appearing word and\n",
    "    #       sorted_words[-1] is the least frequently appearing word.\n",
    "    \n",
    "    sorted_words = sorted(word_count, key = lambda w:  word_count[w], reverse = True)\n",
    "    \n",
    "    word_dict = {} # This is what we are building, a dictionary that translates words into integers\n",
    "    for idx, word in enumerate(sorted_words[:vocab_size - 2]): # The -2 is so that we save room for the 'no word'\n",
    "        word_dict[word] = idx + 2                              # 'infrequent' labels\n",
    "        \n",
    "    return word_dict"
   ]
  },
  {
   "cell_type": "code",
   "execution_count": 13,
   "metadata": {},
   "outputs": [],
   "source": [
    "word_dict = build_dict(train_X)"
   ]
  },
  {
   "cell_type": "markdown",
   "metadata": {},
   "source": [
    "**Question:** What are the five most frequently appearing (tokenized) words in the training set? Does it makes sense that these words appear frequently in the training set?"
   ]
  },
  {
   "cell_type": "markdown",
   "metadata": {},
   "source": [
    "**Answer:**\n",
    "In the 'word_dict' the words with less index value are the more frequently appearing words. So the five most appearing words are -\n",
    "1. movie\n",
    "2. film\n",
    "3. one\n",
    "4. like\n",
    "5. time\n",
    "\n",
    "'movie' and 'film' are the most frequently used words, this makes sense as these words are bound to come up when you are writing a review about a movie/film. Other three words are also very frequently used in reviews, in common phrases like 'one of the best/worst' or 'had a great/bad time'."
   ]
  },
  {
   "cell_type": "code",
   "execution_count": 14,
   "metadata": {},
   "outputs": [
    {
     "name": "stdout",
     "output_type": "stream",
     "text": [
      "{'movi': 2, 'film': 3, 'one': 4, 'like': 5, 'time': 6, 'good': 7, 'make': 8, 'charact': 9, 'get': 10, 'see': 11, 'watch': 12, 'stori': 13, 'even': 14, 'would': 15, 'realli': 16, 'well': 17, 'scene': 18, 'look': 19, 'show': 20, 'much': 21, 'end': 22, 'peopl': 23, 'bad': 24, 'go': 25, 'great': 26, 'also': 27, 'first': 28, 'love': 29, 'think': 30, 'way': 31, 'act': 32, 'play': 33, 'made': 34, 'thing': 35, 'could': 36, 'know': 37, 'say': 38, 'seem': 39, 'work': 40, 'plot': 41, 'two': 42, 'actor': 43, 'year': 44, 'come': 45, 'mani': 46, 'seen': 47, 'take': 48, 'want': 49, 'life': 50, 'never': 51, 'littl': 52, 'best': 53, 'tri': 54, 'man': 55, 'ever': 56, 'give': 57, 'better': 58, 'still': 59, 'perform': 60, 'find': 61, 'feel': 62, 'part': 63, 'back': 64, 'use': 65, 'someth': 66, 'director': 67, 'actual': 68, 'interest': 69, 'lot': 70, 'real': 71, 'old': 72, 'cast': 73, 'though': 74, 'live': 75, 'star': 76, 'enjoy': 77, 'guy': 78, 'anoth': 79, 'new': 80, 'role': 81, 'noth': 82, '10': 83, 'funni': 84, 'music': 85, 'point': 86, 'start': 87, 'set': 88, 'girl': 89, 'origin': 90, 'day': 91, 'world': 92, 'everi': 93, 'believ': 94, 'turn': 95, 'quit': 96, 'direct': 97, 'us': 98, 'thought': 99, 'fact': 100, 'minut': 101, 'horror': 102, 'kill': 103, 'action': 104, 'comedi': 105, 'pretti': 106, 'young': 107, 'wonder': 108, 'happen': 109, 'around': 110, 'got': 111, 'effect': 112, 'right': 113, 'long': 114, 'howev': 115, 'big': 116, 'line': 117, 'famili': 118, 'enough': 119, 'seri': 120, 'may': 121, 'need': 122, 'fan': 123, 'bit': 124, 'script': 125, 'beauti': 126, 'person': 127, 'becom': 128, 'without': 129, 'must': 130, 'alway': 131, 'friend': 132, 'tell': 133, 'reason': 134, 'saw': 135, 'last': 136, 'final': 137, 'kid': 138, 'almost': 139, 'put': 140, 'least': 141, 'sure': 142, 'done': 143, 'whole': 144, 'place': 145, 'complet': 146, 'kind': 147, 'differ': 148, 'expect': 149, 'shot': 150, 'far': 151, 'mean': 152, 'anyth': 153, 'book': 154, 'laugh': 155, 'might': 156, 'name': 157, 'sinc': 158, 'begin': 159, '2': 160, 'probabl': 161, 'woman': 162, 'help': 163, 'entertain': 164, 'let': 165, 'screen': 166, 'call': 167, 'tv': 168, 'moment': 169, 'away': 170, 'read': 171, 'yet': 172, 'rather': 173, 'worst': 174, 'run': 175, 'fun': 176, 'lead': 177, 'hard': 178, 'audienc': 179, 'idea': 180, 'anyon': 181, 'episod': 182, 'american': 183, 'found': 184, 'appear': 185, 'bore': 186, 'especi': 187, 'although': 188, 'hope': 189, 'keep': 190, 'cours': 191, 'anim': 192, 'job': 193, 'goe': 194, 'move': 195, 'sens': 196, 'dvd': 197, 'version': 198, 'war': 199, 'money': 200, 'someon': 201, 'mind': 202, 'mayb': 203, 'problem': 204, 'true': 205, 'hous': 206, 'everyth': 207, 'nice': 208, 'second': 209, 'rate': 210, 'three': 211, 'night': 212, 'face': 213, 'follow': 214, 'recommend': 215, 'main': 216, 'product': 217, 'worth': 218, 'leav': 219, 'human': 220, 'special': 221, 'excel': 222, 'togeth': 223, 'wast': 224, 'everyon': 225, 'sound': 226, 'john': 227, 'hand': 228, '1': 229, 'father': 230, 'later': 231, 'eye': 232, 'said': 233, 'view': 234, 'instead': 235, 'review': 236, 'boy': 237, 'high': 238, 'hour': 239, 'miss': 240, 'talk': 241, 'classic': 242, 'wife': 243, 'understand': 244, 'left': 245, 'care': 246, 'black': 247, 'death': 248, 'open': 249, 'murder': 250, 'write': 251, 'half': 252, 'head': 253, 'rememb': 254, 'chang': 255, 'viewer': 256, 'fight': 257, 'gener': 258, 'surpris': 259, 'includ': 260, 'short': 261, 'die': 262, 'fall': 263, 'less': 264, 'els': 265, 'entir': 266, 'piec': 267, 'involv': 268, 'pictur': 269, 'simpli': 270, 'home': 271, 'top': 272, 'power': 273, 'total': 274, 'usual': 275, 'budget': 276, 'attempt': 277, 'suppos': 278, 'releas': 279, 'hollywood': 280, 'terribl': 281, 'song': 282, 'men': 283, 'possibl': 284, 'featur': 285, 'portray': 286, 'disappoint': 287, 'poor': 288, '3': 289, 'coupl': 290, 'stupid': 291, 'camera': 292, 'dead': 293, 'wrong': 294, 'low': 295, 'produc': 296, 'either': 297, 'video': 298, 'aw': 299, 'definit': 300, 'except': 301, 'rest': 302, 'given': 303, 'absolut': 304, 'women': 305, 'lack': 306, 'word': 307, 'writer': 308, 'titl': 309, 'talent': 310, 'decid': 311, 'full': 312, 'perfect': 313, 'along': 314, 'style': 315, 'close': 316, 'truli': 317, 'school': 318, 'save': 319, 'emot': 320, 'sex': 321, 'age': 322, 'next': 323, 'bring': 324, 'mr': 325, 'case': 326, 'killer': 327, 'heart': 328, 'comment': 329, 'sort': 330, 'creat': 331, 'perhap': 332, 'came': 333, 'brother': 334, 'sever': 335, 'joke': 336, 'art': 337, 'dialogu': 338, 'game': 339, 'small': 340, 'base': 341, 'flick': 342, 'written': 343, 'sequenc': 344, 'meet': 345, 'earli': 346, 'often': 347, 'other': 348, 'mother': 349, 'develop': 350, 'humor': 351, 'actress': 352, 'consid': 353, 'dark': 354, 'guess': 355, 'amaz': 356, 'unfortun': 357, 'light': 358, 'lost': 359, 'exampl': 360, 'cinema': 361, 'drama': 362, 'white': 363, 'ye': 364, 'experi': 365, 'imagin': 366, 'mention': 367, 'stop': 368, 'natur': 369, 'forc': 370, 'manag': 371, 'felt': 372, 'cut': 373, 'present': 374, 'children': 375, 'fail': 376, 'son': 377, 'support': 378, 'car': 379, 'qualiti': 380, 'ask': 381, 'hit': 382, 'side': 383, 'voic': 384, 'extrem': 385, 'impress': 386, 'wors': 387, 'evil': 388, 'stand': 389, 'went': 390, 'certainli': 391, 'basic': 392, 'oh': 393, 'overal': 394, 'favorit': 395, 'horribl': 396, 'mysteri': 397, 'number': 398, 'type': 399, 'danc': 400, 'wait': 401, 'hero': 402, '5': 403, 'alreadi': 404, 'learn': 405, 'matter': 406, '4': 407, 'michael': 408, 'genr': 409, 'fine': 410, 'despit': 411, 'throughout': 412, 'walk': 413, 'success': 414, 'histori': 415, 'question': 416, 'zombi': 417, 'town': 418, 'realiz': 419, 'relationship': 420, 'child': 421, 'past': 422, 'daughter': 423, 'late': 424, 'b': 425, 'wish': 426, 'hate': 427, 'credit': 428, 'event': 429, 'theme': 430, 'touch': 431, 'citi': 432, 'today': 433, 'sometim': 434, 'behind': 435, 'god': 436, 'twist': 437, 'sit': 438, 'deal': 439, 'annoy': 440, 'stay': 441, 'abl': 442, 'rent': 443, 'pleas': 444, 'edit': 445, 'blood': 446, 'deserv': 447, 'anyway': 448, 'comic': 449, 'appar': 450, 'soon': 451, 'gave': 452, 'etc': 453, 'level': 454, 'slow': 455, 'chanc': 456, 'score': 457, 'bodi': 458, 'brilliant': 459, 'incred': 460, 'figur': 461, 'situat': 462, 'major': 463, 'self': 464, 'stuff': 465, 'decent': 466, 'element': 467, 'dream': 468, 'return': 469, 'obvious': 470, 'continu': 471, 'order': 472, 'pace': 473, 'ridicul': 474, 'happi': 475, 'add': 476, 'group': 477, 'highli': 478, 'thank': 479, 'ladi': 480, 'novel': 481, 'speak': 482, 'pain': 483, 'career': 484, 'shoot': 485, 'strang': 486, 'heard': 487, 'sad': 488, 'husband': 489, 'polic': 490, 'import': 491, 'break': 492, 'took': 493, 'cannot': 494, 'strong': 495, 'predict': 496, 'robert': 497, 'violenc': 498, 'hilari': 499, 'recent': 500, 'countri': 501, 'known': 502, 'particularli': 503, 'pick': 504, 'documentari': 505, 'season': 506, 'critic': 507, 'jame': 508, 'compar': 509, 'alon': 510, 'obviou': 511, 'told': 512, 'state': 513, 'visual': 514, 'rock': 515, 'exist': 516, 'offer': 517, 'theater': 518, 'opinion': 519, 'gore': 520, 'crap': 521, 'hold': 522, 'result': 523, 'hear': 524, 'room': 525, 'realiti': 526, 'effort': 527, 'clich': 528, 'thriller': 529, 'caus': 530, 'explain': 531, 'sequel': 532, 'serious': 533, 'king': 534, 'local': 535, 'ago': 536, 'hell': 537, 'none': 538, 'note': 539, 'allow': 540, 'david': 541, 'sister': 542, 'simpl': 543, 'femal': 544, 'deliv': 545, 'ok': 546, 'convinc': 547, 'class': 548, 'check': 549, 'suspens': 550, 'win': 551, 'buy': 552, 'oscar': 553, 'huge': 554, 'valu': 555, 'sexual': 556, 'cool': 557, 'scari': 558, 'similar': 559, 'excit': 560, 'provid': 561, 'apart': 562, 'exactli': 563, 'avoid': 564, 'shown': 565, 'seriou': 566, 'english': 567, 'taken': 568, 'whose': 569, 'cinematographi': 570, 'shock': 571, 'polit': 572, 'spoiler': 573, 'offic': 574, 'across': 575, 'middl': 576, 'street': 577, 'pass': 578, 'messag': 579, 'silli': 580, 'somewhat': 581, 'charm': 582, 'modern': 583, 'confus': 584, 'filmmak': 585, 'form': 586, 'tale': 587, 'singl': 588, 'jack': 589, 'mostli': 590, 'attent': 591, 'carri': 592, 'william': 593, 'sing': 594, 'subject': 595, 'five': 596, 'prove': 597, 'richard': 598, 'stage': 599, 'team': 600, 'cop': 601, 'unlik': 602, 'georg': 603, 'televis': 604, 'monster': 605, 'earth': 606, 'villain': 607, 'cover': 608, 'pay': 609, 'marri': 610, 'toward': 611, 'build': 612, 'parent': 613, 'pull': 614, 'due': 615, 'fill': 616, 'respect': 617, 'dialog': 618, 'four': 619, 'remind': 620, 'futur': 621, 'typic': 622, 'weak': 623, '7': 624, 'cheap': 625, 'intellig': 626, 'atmospher': 627, 'british': 628, 'clearli': 629, '80': 630, 'non': 631, 'paul': 632, 'dog': 633, 'artist': 634, 'fast': 635, 'knew': 636, '8': 637, 'crime': 638, 'easili': 639, 'escap': 640, 'adult': 641, 'doubt': 642, 'detail': 643, 'date': 644, 'fire': 645, 'romant': 646, 'member': 647, 'gun': 648, 'drive': 649, 'straight': 650, 'fit': 651, 'beyond': 652, 'attack': 653, 'imag': 654, 'upon': 655, 'posit': 656, 'whether': 657, 'peter': 658, 'fantast': 659, 'captur': 660, 'aspect': 661, 'appreci': 662, 'ten': 663, 'plan': 664, 'discov': 665, 'remain': 666, 'period': 667, 'near': 668, 'realist': 669, 'air': 670, 'mark': 671, 'red': 672, 'dull': 673, 'adapt': 674, 'within': 675, 'spend': 676, 'lose': 677, 'materi': 678, 'color': 679, 'chase': 680, 'mari': 681, 'storylin': 682, 'forget': 683, 'bunch': 684, 'clear': 685, 'lee': 686, 'victim': 687, 'nearli': 688, 'box': 689, 'york': 690, 'match': 691, 'inspir': 692, 'mess': 693, 'finish': 694, 'standard': 695, 'easi': 696, 'truth': 697, 'suffer': 698, 'busi': 699, 'dramat': 700, 'bill': 701, 'space': 702, 'western': 703, 'e': 704, 'list': 705, 'battl': 706, 'notic': 707, 'de': 708, 'french': 709, 'ad': 710, '9': 711, 'tom': 712, 'larg': 713, 'among': 714, 'eventu': 715, 'accept': 716, 'train': 717, 'agre': 718, 'soundtrack': 719, 'spirit': 720, 'third': 721, 'teenag': 722, 'adventur': 723, 'soldier': 724, 'suggest': 725, 'sorri': 726, 'famou': 727, 'drug': 728, 'normal': 729, 'babi': 730, 'cri': 731, 'troubl': 732, 'ultim': 733, 'contain': 734, 'certain': 735, 'cultur': 736, 'romanc': 737, 'rare': 738, 'lame': 739, 'somehow': 740, 'mix': 741, 'disney': 742, 'gone': 743, 'cartoon': 744, 'student': 745, 'reveal': 746, 'fear': 747, 'suck': 748, 'kept': 749, 'attract': 750, 'appeal': 751, 'premis': 752, 'design': 753, 'secret': 754, 'greatest': 755, 'shame': 756, 'throw': 757, 'copi': 758, 'scare': 759, 'wit': 760, 'america': 761, 'admit': 762, 'particular': 763, 'brought': 764, 'relat': 765, 'screenplay': 766, 'whatev': 767, 'pure': 768, '70': 769, 'averag': 770, 'harri': 771, 'master': 772, 'describ': 773, 'treat': 774, 'male': 775, '20': 776, 'issu': 777, 'fantasi': 778, 'warn': 779, 'inde': 780, 'forward': 781, 'background': 782, 'free': 783, 'project': 784, 'memor': 785, 'japanes': 786, 'poorli': 787, 'award': 788, 'locat': 789, 'amus': 790, 'potenti': 791, 'struggl': 792, 'weird': 793, 'magic': 794, 'societi': 795, 'okay': 796, 'accent': 797, 'imdb': 798, 'doctor': 799, 'water': 800, 'hot': 801, '30': 802, 'dr': 803, 'express': 804, 'alien': 805, 'odd': 806, 'choic': 807, 'crazi': 808, 'studio': 809, 'fiction': 810, 'becam': 811, 'control': 812, 'masterpiec': 813, 'fli': 814, 'difficult': 815, 'joe': 816, 'scream': 817, 'costum': 818, 'lover': 819, 'uniqu': 820, 'refer': 821, 'remak': 822, 'girlfriend': 823, 'vampir': 824, 'prison': 825, 'execut': 826, 'wear': 827, 'jump': 828, 'wood': 829, 'unless': 830, 'creepi': 831, 'cheesi': 832, 'superb': 833, 'otherwis': 834, 'parti': 835, 'roll': 836, 'ghost': 837, 'public': 838, 'mad': 839, 'depict': 840, 'badli': 841, 'moral': 842, 'week': 843, 'jane': 844, 'earlier': 845, 'fi': 846, 'dumb': 847, 'flaw': 848, 'grow': 849, 'deep': 850, 'sci': 851, 'maker': 852, 'cat': 853, 'older': 854, 'connect': 855, 'footag': 856, 'plenti': 857, 'bother': 858, 'outsid': 859, 'stick': 860, 'gay': 861, 'catch': 862, 'co': 863, 'plu': 864, 'popular': 865, 'equal': 866, 'social': 867, 'quickli': 868, 'disturb': 869, 'perfectli': 870, 'dress': 871, '90': 872, 'era': 873, 'mistak': 874, 'lie': 875, 'ride': 876, 'previou': 877, 'combin': 878, 'concept': 879, 'band': 880, 'rich': 881, 'answer': 882, 'surviv': 883, 'front': 884, 'christma': 885, 'sweet': 886, 'insid': 887, 'concern': 888, 'bare': 889, 'eat': 890, 'ben': 891, 'beat': 892, 'listen': 893, 'c': 894, 'term': 895, 'serv': 896, 'meant': 897, 'la': 898, 'german': 899, 'hardli': 900, 'stereotyp': 901, 'law': 902, 'innoc': 903, 'desper': 904, 'promis': 905, 'memori': 906, 'intent': 907, 'cute': 908, 'steal': 909, 'variou': 910, 'inform': 911, 'brain': 912, 'post': 913, 'tone': 914, 'island': 915, 'amount': 916, 'track': 917, 'nuditi': 918, 'compani': 919, 'store': 920, 'claim': 921, 'flat': 922, '50': 923, 'hair': 924, 'land': 925, 'univers': 926, 'danger': 927, 'scott': 928, 'fairli': 929, 'kick': 930, 'player': 931, 'plain': 932, 'crew': 933, 'step': 934, 'toni': 935, 'share': 936, 'tast': 937, 'centuri': 938, 'engag': 939, 'achiev': 940, 'travel': 941, 'cold': 942, 'suit': 943, 'record': 944, 'rip': 945, 'sadli': 946, 'manner': 947, 'tension': 948, 'spot': 949, 'wrote': 950, 'fascin': 951, 'intens': 952, 'familiar': 953, 'remark': 954, 'burn': 955, 'depth': 956, 'histor': 957, 'destroy': 958, 'sleep': 959, 'purpos': 960, 'languag': 961, 'ruin': 962, 'ignor': 963, 'delight': 964, 'italian': 965, 'unbeliev': 966, 'abil': 967, 'soul': 968, 'collect': 969, 'detect': 970, 'clever': 971, 'violent': 972, 'rape': 973, 'reach': 974, 'door': 975, 'liter': 976, 'scienc': 977, 'trash': 978, 'caught': 979, 'commun': 980, 'reveng': 981, 'creatur': 982, 'approach': 983, 'trip': 984, 'fashion': 985, 'intrigu': 986, 'skill': 987, 'paint': 988, 'introduc': 989, 'channel': 990, 'complex': 991, 'camp': 992, 'christian': 993, 'hole': 994, 'extra': 995, 'limit': 996, 'ann': 997, 'mental': 998, 'immedi': 999, 'slightli': 1000, '6': 1001, 'comput': 1002, 'mere': 1003, 'million': 1004, 'slasher': 1005, 'conclus': 1006, 'suddenli': 1007, 'imposs': 1008, 'neither': 1009, 'crimin': 1010, 'teen': 1011, 'spent': 1012, 'physic': 1013, 'nation': 1014, 'respons': 1015, 'planet': 1016, 'receiv': 1017, 'fake': 1018, 'sick': 1019, 'blue': 1020, 'bizarr': 1021, 'embarrass': 1022, 'indian': 1023, '15': 1024, 'ring': 1025, 'drop': 1026, 'pop': 1027, 'drag': 1028, 'haunt': 1029, 'suspect': 1030, 'pointless': 1031, 'search': 1032, 'edg': 1033, 'handl': 1034, 'biggest': 1035, 'common': 1036, 'arriv': 1037, 'hurt': 1038, 'faith': 1039, 'technic': 1040, 'angel': 1041, 'genuin': 1042, 'dad': 1043, 'solid': 1044, 'awesom': 1045, 'f': 1046, 'focu': 1047, 'van': 1048, 'former': 1049, 'colleg': 1050, 'count': 1051, 'tear': 1052, 'heavi': 1053, 'wall': 1054, 'rais': 1055, 'laughabl': 1056, 'younger': 1057, 'visit': 1058, 'excus': 1059, 'fair': 1060, 'sign': 1061, 'cult': 1062, 'motion': 1063, 'tough': 1064, 'key': 1065, 'desir': 1066, 'super': 1067, 'stun': 1068, 'addit': 1069, 'exploit': 1070, 'cloth': 1071, 'tortur': 1072, 'smith': 1073, 'davi': 1074, 'race': 1075, 'cross': 1076, 'author': 1077, 'jim': 1078, 'consist': 1079, 'minor': 1080, 'compel': 1081, 'focus': 1082, 'chemistri': 1083, 'commit': 1084, 'pathet': 1085, 'park': 1086, 'tradit': 1087, 'frank': 1088, 'obsess': 1089, 'grade': 1090, '60': 1091, 'asid': 1092, 'brutal': 1093, 'somewher': 1094, 'steve': 1095, 'rule': 1096, 'opportun': 1097, 'explor': 1098, 'u': 1099, 'depress': 1100, 'grant': 1101, 'besid': 1102, 'honest': 1103, 'anti': 1104, 'dub': 1105, 'trailer': 1106, 'intend': 1107, 'bar': 1108, 'longer': 1109, 'regard': 1110, 'scientist': 1111, 'west': 1112, 'judg': 1113, 'decad': 1114, 'silent': 1115, 'creativ': 1116, 'armi': 1117, 'wild': 1118, 'g': 1119, 'south': 1120, 'stewart': 1121, 'draw': 1122, 'road': 1123, 'govern': 1124, 'boss': 1125, 'ex': 1126, 'practic': 1127, 'gang': 1128, 'surprisingli': 1129, 'festiv': 1130, 'motiv': 1131, 'club': 1132, 'london': 1133, 'green': 1134, 'page': 1135, 'redeem': 1136, 'display': 1137, 'idiot': 1138, 'aliv': 1139, 'machin': 1140, 'militari': 1141, 'thrill': 1142, 'repeat': 1143, 'folk': 1144, '100': 1145, 'nobodi': 1146, 'yeah': 1147, '40': 1148, 'journey': 1149, 'garbag': 1150, 'smile': 1151, 'tire': 1152, 'ground': 1153, 'mood': 1154, 'bought': 1155, 'stone': 1156, 'sam': 1157, 'cost': 1158, 'mouth': 1159, 'noir': 1160, 'agent': 1161, 'terrif': 1162, 'requir': 1163, 'utterli': 1164, 'area': 1165, 'honestli': 1166, 'sexi': 1167, 'geniu': 1168, 'report': 1169, 'humour': 1170, 'investig': 1171, 'glad': 1172, 'enter': 1173, 'serial': 1174, 'occasion': 1175, 'narr': 1176, 'passion': 1177, 'marriag': 1178, 'climax': 1179, 'studi': 1180, 'industri': 1181, 'nowher': 1182, 'ship': 1183, 'center': 1184, 'charli': 1185, 'demon': 1186, 'hors': 1187, 'bear': 1188, 'loos': 1189, 'wow': 1190, 'hang': 1191, 'graphic': 1192, 'admir': 1193, 'giant': 1194, 'send': 1195, 'damn': 1196, 'loud': 1197, 'profession': 1198, 'rel': 1199, 'nake': 1200, 'subtl': 1201, 'blow': 1202, 'bottom': 1203, 'insult': 1204, 'batman': 1205, 'kelli': 1206, 'r': 1207, 'boyfriend': 1208, 'doubl': 1209, 'initi': 1210, 'frame': 1211, 'gem': 1212, 'opera': 1213, 'affect': 1214, 'drawn': 1215, 'challeng': 1216, 'cinemat': 1217, 'church': 1218, 'nightmar': 1219, 'seek': 1220, 'evid': 1221, 'fulli': 1222, 'j': 1223, 'l': 1224, 'essenti': 1225, 'arm': 1226, 'conflict': 1227, 'henri': 1228, 'grace': 1229, 'wind': 1230, 'christoph': 1231, 'assum': 1232, 'narrat': 1233, 'witch': 1234, 'hunt': 1235, 'push': 1236, 'wise': 1237, 'chri': 1238, 'nomin': 1239, 'month': 1240, 'repres': 1241, 'avail': 1242, 'hide': 1243, 'sceneri': 1244, 'affair': 1245, 'smart': 1246, 'thu': 1247, 'justic': 1248, 'bond': 1249, 'outstand': 1250, 'flashback': 1251, 'interview': 1252, 'constantli': 1253, 'presenc': 1254, 'satisfi': 1255, 'bed': 1256, 'central': 1257, 'iron': 1258, 'sell': 1259, 'content': 1260, 'gag': 1261, 'everybodi': 1262, 'slowli': 1263, 'hotel': 1264, 'hire': 1265, 'system': 1266, 'adam': 1267, 'charl': 1268, 'thrown': 1269, 'individu': 1270, 'hey': 1271, 'mediocr': 1272, 'jone': 1273, 'allen': 1274, 'ray': 1275, 'billi': 1276, 'lesson': 1277, 'photographi': 1278, 'cameo': 1279, 'fellow': 1280, 'pari': 1281, 'strike': 1282, 'brief': 1283, 'independ': 1284, 'rise': 1285, 'absurd': 1286, 'neg': 1287, 'phone': 1288, 'impact': 1289, 'ill': 1290, 'model': 1291, 'born': 1292, 'spoil': 1293, 'angl': 1294, 'fresh': 1295, 'likabl': 1296, 'abus': 1297, 'hill': 1298, 'discuss': 1299, 'sight': 1300, 'ahead': 1301, 'photograph': 1302, 'sent': 1303, 'occur': 1304, 'blame': 1305, 'logic': 1306, 'shine': 1307, 'mainli': 1308, 'bruce': 1309, 'commerci': 1310, 'skip': 1311, 'forev': 1312, 'surround': 1313, 'teacher': 1314, 'segment': 1315, 'held': 1316, 'blond': 1317, 'zero': 1318, 'trap': 1319, 'satir': 1320, 'summer': 1321, 'resembl': 1322, 'queen': 1323, 'ball': 1324, 'six': 1325, 'fool': 1326, 'tragedi': 1327, 'twice': 1328, 'sub': 1329, 'reaction': 1330, 'pack': 1331, 'bomb': 1332, 'hospit': 1333, 'will': 1334, 'protagonist': 1335, 'mile': 1336, 'sport': 1337, 'mom': 1338, 'jerri': 1339, 'trust': 1340, 'drink': 1341, 'vote': 1342, 'encount': 1343, 'plane': 1344, 'station': 1345, 'current': 1346, 'al': 1347, 'program': 1348, 'martin': 1349, 'choos': 1350, 'celebr': 1351, 'join': 1352, 'favourit': 1353, 'round': 1354, 'field': 1355, 'tragic': 1356, 'lord': 1357, 'jean': 1358, 'vision': 1359, 'robot': 1360, 'arthur': 1361, 'tie': 1362, 'random': 1363, 'fortun': 1364, 'roger': 1365, 'dread': 1366, 'intern': 1367, 'psycholog': 1368, 'prefer': 1369, 'improv': 1370, 'nonsens': 1371, 'epic': 1372, 'legend': 1373, 'pleasur': 1374, 'formula': 1375, 'highlight': 1376, 'tape': 1377, '11': 1378, 'dollar': 1379, 'porn': 1380, 'gorgeou': 1381, 'thin': 1382, 'object': 1383, 'wide': 1384, 'fox': 1385, 'influenc': 1386, 'ugli': 1387, 'buddi': 1388, 'nasti': 1389, 'prepar': 1390, 'ii': 1391, 'warm': 1392, 'progress': 1393, 'reflect': 1394, 'supposedli': 1395, 'worthi': 1396, 'youth': 1397, 'unusu': 1398, 'length': 1399, 'latter': 1400, 'crash': 1401, 'shop': 1402, 'seven': 1403, 'childhood': 1404, 'superior': 1405, 'theatr': 1406, 'remot': 1407, 'funniest': 1408, 'disgust': 1409, 'pilot': 1410, 'paid': 1411, 'castl': 1412, 'fell': 1413, 'convers': 1414, 'trick': 1415, 'establish': 1416, 'disast': 1417, 'rob': 1418, 'gangster': 1419, 'heaven': 1420, 'ident': 1421, 'suicid': 1422, 'mine': 1423, 'disappear': 1424, 'tend': 1425, 'mask': 1426, 'heroin': 1427, 'decis': 1428, 'forgotten': 1429, 'singer': 1430, 'partner': 1431, 'brian': 1432, 'desert': 1433, 'recogn': 1434, 'alan': 1435, 'p': 1436, 'thoroughli': 1437, 'sky': 1438, 'ms': 1439, 'stuck': 1440, 'replac': 1441, 'accur': 1442, 'market': 1443, 'clue': 1444, 'danni': 1445, 'eddi': 1446, 'seemingli': 1447, 'andi': 1448, 'uncl': 1449, 'commentari': 1450, 'devil': 1451, 'jackson': 1452, 'that': 1453, 'refus': 1454, 'therefor': 1455, 'pair': 1456, 'unit': 1457, 'fate': 1458, 'fault': 1459, 'accid': 1460, 'river': 1461, 'ed': 1462, 'tune': 1463, 'afraid': 1464, 'stephen': 1465, 'clean': 1466, 'hidden': 1467, 'russian': 1468, 'quick': 1469, 'convey': 1470, 'readi': 1471, 'test': 1472, 'captain': 1473, 'instanc': 1474, 'irrit': 1475, 'european': 1476, 'daniel': 1477, 'frustrat': 1478, 'insan': 1479, 'food': 1480, 'wed': 1481, 'rescu': 1482, '1950': 1483, 'chines': 1484, 'lock': 1485, 'dirti': 1486, 'angri': 1487, 'joy': 1488, 'price': 1489, 'steven': 1490, 'bland': 1491, 'cage': 1492, 'rang': 1493, 'anymor': 1494, 'wooden': 1495, 'rush': 1496, 'jason': 1497, 'n': 1498, 'news': 1499, 'worri': 1500, 'martial': 1501, 'twenti': 1502, '12': 1503, 'led': 1504, 'board': 1505, 'hunter': 1506, 'cgi': 1507, 'transform': 1508, 'symbol': 1509, 'piti': 1510, 'invent': 1511, 'x': 1512, 'onto': 1513, 'johnni': 1514, 'sentiment': 1515, 'attitud': 1516, 'process': 1517, 'explan': 1518, 'owner': 1519, 'awar': 1520, 'aim': 1521, 'floor': 1522, 'target': 1523, 'necessari': 1524, 'favor': 1525, 'energi': 1526, 'religi': 1527, 'opposit': 1528, 'insight': 1529, 'window': 1530, 'blind': 1531, 'chick': 1532, 'movement': 1533, 'mountain': 1534, 'comparison': 1535, 'possess': 1536, 'research': 1537, 'deepli': 1538, 'comed': 1539, 'rain': 1540, 'grand': 1541, 'whatsoev': 1542, 'bank': 1543, 'began': 1544, 'shadow': 1545, 'mid': 1546, 'princ': 1547, 'parodi': 1548, 'friendship': 1549, 'pre': 1550, 'weapon': 1551, 'credibl': 1552, 'taylor': 1553, 'dougla': 1554, 'flesh': 1555, 'teach': 1556, 'bloodi': 1557, 'terror': 1558, 'protect': 1559, 'hint': 1560, 'marvel': 1561, 'anybodi': 1562, 'leader': 1563, 'watchabl': 1564, 'drunk': 1565, 'accord': 1566, 'superman': 1567, 'load': 1568, 'freddi': 1569, 'brown': 1570, 'appropri': 1571, 'seat': 1572, 'jeff': 1573, 'hitler': 1574, 'tim': 1575, 'unknown': 1576, 'charg': 1577, 'knock': 1578, 'villag': 1579, 'keaton': 1580, 'empti': 1581, 'enemi': 1582, 'england': 1583, 'media': 1584, 'unnecessari': 1585, 'utter': 1586, 'buck': 1587, 'craft': 1588, 'perspect': 1589, 'dare': 1590, 'wave': 1591, 'strength': 1592, 'correct': 1593, 'contrast': 1594, 'ford': 1595, 'nativ': 1596, 'kiss': 1597, 'distract': 1598, 'chill': 1599, 'speed': 1600, 'knowledg': 1601, 'soap': 1602, 'anywher': 1603, 'magnific': 1604, 'nazi': 1605, '1980': 1606, 'mission': 1607, 'breath': 1608, 'ice': 1609, 'fred': 1610, 'jr': 1611, 'crowd': 1612, 'moon': 1613, 'joan': 1614, 'soft': 1615, '000': 1616, 'frighten': 1617, 'kate': 1618, 'hundr': 1619, 'dick': 1620, 'dan': 1621, 'nick': 1622, 'simon': 1623, 'dozen': 1624, 'radio': 1625, 'somebodi': 1626, 'thousand': 1627, 'loss': 1628, 'academi': 1629, 'shakespear': 1630, 'andrew': 1631, 'account': 1632, 'vehicl': 1633, 'quot': 1634, 'sum': 1635, 'root': 1636, '1970': 1637, 'behavior': 1638, 'convent': 1639, 'leg': 1640, 'regular': 1641, 'gold': 1642, 'pretenti': 1643, 'worker': 1644, 'compet': 1645, 'demand': 1646, 'candi': 1647, 'explos': 1648, 'notabl': 1649, 'interpret': 1650, 'stretch': 1651, 'privat': 1652, 'japan': 1653, 'lynch': 1654, 'constant': 1655, 'debut': 1656, 'tarzan': 1657, 'prais': 1658, 'spi': 1659, 'translat': 1660, 'sea': 1661, 'revolv': 1662, 'franc': 1663, 'sat': 1664, 'jesu': 1665, 'threaten': 1666, 'technolog': 1667, 'quiet': 1668, 'ass': 1669, 'failur': 1670, 'met': 1671, 'toy': 1672, 'higher': 1673, 'aid': 1674, 'kevin': 1675, 'punch': 1676, 'interact': 1677, 'abandon': 1678, 'vh': 1679, 'mike': 1680, 'separ': 1681, 'bet': 1682, 'command': 1683, 'confront': 1684, 'techniqu': 1685, 'stunt': 1686, 'servic': 1687, 'recal': 1688, 'belong': 1689, 'gotten': 1690, 'site': 1691, 'freak': 1692, 'cabl': 1693, 'bug': 1694, 'foot': 1695, 'capabl': 1696, 'fu': 1697, 'african': 1698, 'jimmi': 1699, 'bright': 1700, 'fat': 1701, 'succeed': 1702, 'stock': 1703, 'clark': 1704, 'presid': 1705, 'boat': 1706, 'spanish': 1707, 'structur': 1708, 'gene': 1709, 'paper': 1710, 'kidnap': 1711, 'factor': 1712, 'belief': 1713, 'whilst': 1714, 'realis': 1715, 'educ': 1716, 'tree': 1717, 'attend': 1718, 'complic': 1719, 'witti': 1720, 'bob': 1721, 'realism': 1722, 'santa': 1723, 'broken': 1724, 'finest': 1725, 'assist': 1726, 'depart': 1727, 'v': 1728, 'smoke': 1729, 'up': 1730, 'observ': 1731, 'determin': 1732, 'routin': 1733, 'oper': 1734, 'domin': 1735, 'rubbish': 1736, 'fame': 1737, 'hat': 1738, 'lewi': 1739, 'kinda': 1740, 'hook': 1741, 'safe': 1742, 'morgan': 1743, 'foreign': 1744, 'advanc': 1745, 'lone': 1746, 'rank': 1747, 'numer': 1748, 'shallow': 1749, 'vs': 1750, 'werewolf': 1751, 'washington': 1752, 'civil': 1753, 'rose': 1754, 'shape': 1755, 'gari': 1756, 'morn': 1757, 'winner': 1758, 'ordinari': 1759, 'kong': 1760, 'accomplish': 1761, 'virtual': 1762, 'whenev': 1763, 'grab': 1764, 'peac': 1765, 'luck': 1766, 'h': 1767, 'offens': 1768, 'welcom': 1769, 'complain': 1770, 'activ': 1771, 'unfunni': 1772, 'contriv': 1773, 'bigger': 1774, 'patient': 1775, 'trek': 1776, 'dimension': 1777, 'con': 1778, 'pretend': 1779, 'code': 1780, 'dri': 1781, 'eric': 1782, 'wake': 1783, 'flash': 1784, 'lesbian': 1785, 'cain': 1786, 'guard': 1787, 'manipul': 1788, 'dancer': 1789, 'statu': 1790, 'corrupt': 1791, 'albert': 1792, 'signific': 1793, 'context': 1794, 'gain': 1795, 'awkward': 1796, 'sourc': 1797, 'speech': 1798, '13': 1799, 'psycho': 1800, 'clip': 1801, 'sean': 1802, 'corni': 1803, 'anthoni': 1804, 'w': 1805, 'curiou': 1806, 'advic': 1807, 'theatric': 1808, 'reli': 1809, 'priest': 1810, 'religion': 1811, 'flow': 1812, 'addict': 1813, 'secur': 1814, 'jennif': 1815, 'skin': 1816, 'specif': 1817, 'asian': 1818, 'howard': 1819, 'core': 1820, 'golden': 1821, 'promot': 1822, 'luke': 1823, 'comfort': 1824, 'organ': 1825, 'cash': 1826, 'lucki': 1827, 'cheat': 1828, 'associ': 1829, 'dislik': 1830, 'lower': 1831, 'contribut': 1832, 'regret': 1833, 'degre': 1834, 'frankli': 1835, 'balanc': 1836, 'devic': 1837, 'spell': 1838, 'wing': 1839, 'frequent': 1840, 'sake': 1841, 'forgiv': 1842, 'print': 1843, 'lake': 1844, 'mass': 1845, 'betti': 1846, 'thoma': 1847, 'crack': 1848, 'gordon': 1849, 'unexpect': 1850, 'amateur': 1851, 'depend': 1852, 'unfold': 1853, 'construct': 1854, 'categori': 1855, 'invit': 1856, 'grown': 1857, 'grew': 1858, 'intellectu': 1859, 'walter': 1860, 'condit': 1861, 'honor': 1862, 'matur': 1863, 'anna': 1864, 'sole': 1865, 'mirror': 1866, 'sudden': 1867, 'veteran': 1868, 'spectacular': 1869, 'robin': 1870, 'overli': 1871, 'grip': 1872, 'freedom': 1873, 'gift': 1874, 'card': 1875, 'experienc': 1876, 'demonstr': 1877, 'meanwhil': 1878, 'liner': 1879, 'section': 1880, 'theori': 1881, 'unabl': 1882, 'crappi': 1883, 'colour': 1884, 'subtitl': 1885, 'oliv': 1886, 'brilliantli': 1887, 'circumst': 1888, 'drew': 1889, 'sheriff': 1890, 'parker': 1891, 'cook': 1892, 'altern': 1893, 'pile': 1894, 'laughter': 1895, 'path': 1896, 'sheer': 1897, 'matt': 1898, 'defin': 1899, 'wander': 1900, 'lawyer': 1901, 'sinatra': 1902, 'treatment': 1903, 'relief': 1904, 'accident': 1905, 'hall': 1906, 'captiv': 1907, 'hank': 1908, 'dragon': 1909, 'gratuit': 1910, 'moor': 1911, 'halloween': 1912, 'wayn': 1913, 'barbara': 1914, 'kung': 1915, 'unintent': 1916, 'k': 1917, 'cowboy': 1918, 'jacki': 1919, 'broadway': 1920, 'wound': 1921, 'canadian': 1922, 'surreal': 1923, 'statement': 1924, 'winter': 1925, 'spoof': 1926, 'gonna': 1927, 'cheer': 1928, 'fish': 1929, 'compos': 1930, 'fare': 1931, 'treasur': 1932, 'emerg': 1933, 'unrealist': 1934, 'sensit': 1935, 'victor': 1936, 'woodi': 1937, 'neighbor': 1938, 'ran': 1939, 'driven': 1940, 'sympathet': 1941, 'menac': 1942, 'expos': 1943, 'glass': 1944, 'overlook': 1945, 'topic': 1946, 'authent': 1947, 'ancient': 1948, 'michel': 1949, 'chief': 1950, 'handsom': 1951, 'gross': 1952, 'built': 1953, 'contemporari': 1954, 'pleasant': 1955, 'stranger': 1956, 'russel': 1957, 'comedian': 1958, 'nevertheless': 1959, 'feet': 1960, 'network': 1961, 'cinderella': 1962, 'endless': 1963, 'blockbust': 1964, 'earn': 1965, 'miser': 1966, 'consider': 1967, 'gori': 1968, 'underr': 1969, 'letter': 1970, 'switch': 1971, 'solv': 1972, 'brook': 1973, 'edward': 1974, 'victoria': 1975, 'joseph': 1976, 'convict': 1977, 'virgin': 1978, 'bullet': 1979, 'scenario': 1980, 'chosen': 1981, 'alex': 1982, '0': 1983, 'scale': 1984, 'cynic': 1985, 'gut': 1986, 'outrag': 1987, 'com': 1988, 'sword': 1989, 'curs': 1990, 'juli': 1991, 'uk': 1992, 'substanc': 1993, 'driver': 1994, 'monkey': 1995, 'wrap': 1996, 'proper': 1997, 'screenwrit': 1998, 'remov': 1999, 'court': 2000, 'indic': 2001, 'bird': 2002, 'par': 2003, 'rental': 2004, 'inevit': 2005, 'consequ': 2006, 'naiv': 2007, 'nanci': 2008, 'grave': 2009, 'advertis': 2010, 'loser': 2011, 'roy': 2012, 'brave': 2013, 'germani': 2014, 'invis': 2015, 'le': 2016, 'fatal': 2017, 'bridg': 2018, 'slap': 2019, 'ador': 2020, 'loui': 2021, 'provok': 2022, 'anger': 2023, 'footbal': 2024, 'alcohol': 2025, 'chan': 2026, 'anderson': 2027, 'professor': 2028, 'willi': 2029, 'ryan': 2030, 'stumbl': 2031, 'australian': 2032, 'bat': 2033, 'sharp': 2034, '1930': 2035, 'patrick': 2036, 'assassin': 2037, 'amateurish': 2038, 'liber': 2039, 'refresh': 2040, 'cell': 2041, 'heck': 2042, 'eight': 2043, 'strongli': 2044, 'saturday': 2045, 'deni': 2046, 'trilog': 2047, 'lousi': 2048, 'ape': 2049, 'sin': 2050, 'san': 2051, 'vagu': 2052, 'justifi': 2053, 'resid': 2054, 'terrifi': 2055, 'sympathi': 2056, 'mini': 2057, 'reput': 2058, 'defeat': 2059, 'indi': 2060, 'creator': 2061, 'tediou': 2062, 'endur': 2063, 'expert': 2064, 'task': 2065, 'tabl': 2066, 'prevent': 2067, 'offend': 2068, 'basebal': 2069, 'employ': 2070, 'trial': 2071, 'rival': 2072, 'che': 2073, 'imit': 2074, 'europ': 2075, 'beach': 2076, 'weekend': 2077, 'dig': 2078, 'complaint': 2079, 'max': 2080, 'fairi': 2081, 'pitch': 2082, 'murphi': 2083, 'format': 2084, 'risk': 2085, 'purchas': 2086, 'reminisc': 2087, 'glimps': 2088, 'nois': 2089, 'harsh': 2090, 'titan': 2091, 'tini': 2092, 'hype': 2093, 'bite': 2094, 'powel': 2095, 'prime': 2096, 'north': 2097, 'till': 2098, '14': 2099, 'fals': 2100, 'strip': 2101, 'asleep': 2102, 'destruct': 2103, 'texa': 2104, 'africa': 2105, 'revel': 2106, 'descript': 2107, 'sitcom': 2108, 'semi': 2109, 'inner': 2110, 'spin': 2111, 'arrest': 2112, 'surfac': 2113, 'uninterest': 2114, 'excess': 2115, 'controversi': 2116, 'argu': 2117, 'dinosaur': 2118, 'maintain': 2119, 'makeup': 2120, 'twin': 2121, 'hitchcock': 2122, 'massiv': 2123, 'kim': 2124, 'ludicr': 2125, 'expens': 2126, 'reject': 2127, 'ideal': 2128, 'melodrama': 2129, 'stare': 2130, 'insist': 2131, 'supernatur': 2132, 'erot': 2133, 'ala': 2134, 'host': 2135, 'forest': 2136, 'ga': 2137, 'atroci': 2138, 'press': 2139, 'columbo': 2140, 'subplot': 2141, 'nail': 2142, 'dude': 2143, 'presum': 2144, 'notch': 2145, 'cant': 2146, 'identifi': 2147, 'method': 2148, 'character': 2149, 'forgett': 2150, 'crude': 2151, 'guest': 2152, 'plagu': 2153, 'closer': 2154, 'beast': 2155, 'border': 2156, 'foster': 2157, 'lion': 2158, 'landscap': 2159, 'ear': 2160, 'princess': 2161, 'urban': 2162, 'aunt': 2163, 'pacino': 2164, 'previous': 2165, 'jungl': 2166, 'birth': 2167, 'bound': 2168, 'accus': 2169, 'storytel': 2170, 'damag': 2171, 'chose': 2172, 'jess': 2173, 'doll': 2174, 'emma': 2175, 'thirti': 2176, 'propaganda': 2177, 'guid': 2178, 'nude': 2179, 'mate': 2180, 'mainstream': 2181, 'pet': 2182, 'whoever': 2183, 'warrior': 2184, '25': 2185, 'friday': 2186, 'poster': 2187, 'gritti': 2188, 'latest': 2189, 'cooper': 2190, 'upset': 2191, 'deadli': 2192, 'size': 2193, 'exact': 2194, 'merit': 2195, 'settl': 2196, '1990': 2197, 'citizen': 2198, 'contact': 2199, 'blend': 2200, 'ton': 2201, 'sun': 2202, 'buff': 2203, 'corps': 2204, 'rough': 2205, 'popul': 2206, 'contest': 2207, 'wilson': 2208, 'warner': 2209, 'environ': 2210, 'mgm': 2211, 'pitt': 2212, 'overcom': 2213, 'widow': 2214, 'bu': 2215, 'select': 2216, 'metal': 2217, 'rat': 2218, 'alic': 2219, 'link': 2220, 'revolut': 2221, 'guilti': 2222, 'lift': 2223, 'particip': 2224, 'ted': 2225, 'corpor': 2226, 'afternoon': 2227, 'exagger': 2228, 'matrix': 2229, 'moron': 2230, 'prostitut': 2231, 'accompani': 2232, '1960': 2233, 'johnson': 2234, 'corner': 2235, 'leagu': 2236, 'sincer': 2237, 'hood': 2238, 'multipl': 2239, 'friendli': 2240, 'holm': 2241, 'doom': 2242, 'clair': 2243, 'instal': 2244, 'lugosi': 2245, 'aka': 2246, 'junk': 2247, 'sunday': 2248, 'examin': 2249, 'advis': 2250, 'grim': 2251, 'blah': 2252, 'campi': 2253, 'string': 2254, 'defend': 2255, 'hip': 2256, 'irish': 2257, 'varieti': 2258, 'shake': 2259, 'shut': 2260, 'icon': 2261, 'confid': 2262, 'tight': 2263, 'pro': 2264, 'rachel': 2265, 'directli': 2266, 'sullivan': 2267, 'medic': 2268, 'mexican': 2269, 'jaw': 2270, 'denni': 2271, 'attach': 2272, 'goal': 2273, 'vietnam': 2274, 'truck': 2275, 'sentenc': 2276, 'prior': 2277, 'sarah': 2278, 'terrorist': 2279, 'legendari': 2280, 'dean': 2281, 'courag': 2282, 'duke': 2283, 'breast': 2284, 'bourn': 2285, 'donald': 2286, 'entri': 2287, 'hong': 2288, 'split': 2289, 'behav': 2290, 'yell': 2291, 'nose': 2292, 'proceed': 2293, 'un': 2294, 'forth': 2295, 'stolen': 2296, 'borrow': 2297, 'everywher': 2298, 'jerk': 2299, 'unconvinc': 2300, 'lifetim': 2301, 'gather': 2302, 'crush': 2303, 'swim': 2304, 'buri': 2305, 'concentr': 2306, 'confess': 2307, 'turkey': 2308, 'deliveri': 2309, 'pan': 2310, 'julia': 2311, 'california': 2312, 'spite': 2313, 'lip': 2314, 'downright': 2315, 'flight': 2316, 'hoffman': 2317, 'proud': 2318, 'freeman': 2319, 'offici': 2320, 'china': 2321, 'quest': 2322, 'reward': 2323, 'worthwhil': 2324, 'betray': 2325, 'lazi': 2326, 'sink': 2327, 'sir': 2328, 'fade': 2329, 'fabul': 2330, 'notori': 2331, 'inept': 2332, 'jon': 2333, 'jail': 2334, 'encourag': 2335, 'lisa': 2336, 'shower': 2337, 'survivor': 2338, 'bag': 2339, 'retard': 2340, 'relev': 2341, 'storm': 2342, 'cousin': 2343, 'susan': 2344, 'imageri': 2345, 'branagh': 2346, 'bell': 2347, 'teeth': 2348, 'finger': 2349, 'bride': 2350, 'toler': 2351, 'facial': 2352, 'summari': 2353, 'alright': 2354, 'shark': 2355, 'hugh': 2356, 'quirki': 2357, 'tremend': 2358, 'mexico': 2359, 'stab': 2360, 'trade': 2361, 'pose': 2362, 'hyster': 2363, 'bitter': 2364, 'blown': 2365, 'ha': 2366, 'von': 2367, 'scheme': 2368, 'cruel': 2369, 'ron': 2370, 'ned': 2371, 'larri': 2372, 'bone': 2373, 'address': 2374, 'christ': 2375, 'afterward': 2376, 'pursu': 2377, 'screw': 2378, 'beg': 2379, 'swear': 2380, 'feed': 2381, 'distinct': 2382, 'tour': 2383, 'thumb': 2384, 'snake': 2385, 'traci': 2386, 'chair': 2387, 'photo': 2388, 'occas': 2389, 'raw': 2390, 'stomach': 2391, 'obscur': 2392, 'mechan': 2393, 'necessarili': 2394, 'render': 2395, 'heavili': 2396, 'gruesom': 2397, 'chain': 2398, 'sidney': 2399, 'holiday': 2400, 'southern': 2401, 'hardi': 2402, 'argument': 2403, 'resist': 2404, 'cabin': 2405, 'understood': 2406, 'philip': 2407, 'indulg': 2408, 'satan': 2409, 'india': 2410, 'racist': 2411, 'stalk': 2412, 'integr': 2413, 'belov': 2414, 'fourth': 2415, 'forgot': 2416, 'lay': 2417, 'midnight': 2418, 'obnoxi': 2419, 'outfit': 2420, 'tongu': 2421, 'pregnant': 2422, 'inhabit': 2423, 'ticket': 2424, 'magazin': 2425, 'carol': 2426, 'deeper': 2427, 'garden': 2428, '17': 2429, 'slapstick': 2430, 'restor': 2431, 'incid': 2432, 'devot': 2433, 'brad': 2434, 'shoe': 2435, 'lincoln': 2436, 'disbelief': 2437, 'lili': 2438, 'benefit': 2439, 'sandler': 2440, 'guarante': 2441, 'maria': 2442, 'elizabeth': 2443, 'underground': 2444, 'divorc': 2445, 'anticip': 2446, 'cring': 2447, 'bbc': 2448, 'amazingli': 2449, 'explod': 2450, 'creation': 2451, 'mildli': 2452, 'slave': 2453, 'princip': 2454, 'greater': 2455, 'capit': 2456, 'extraordinari': 2457, 'halfway': 2458, 'lesli': 2459, 'introduct': 2460, 'funnier': 2461, 'text': 2462, 'advantag': 2463, 'wreck': 2464, 'overwhelm': 2465, 'enhanc': 2466, 'transfer': 2467, 'tap': 2468, 'extent': 2469, 'punish': 2470, 'preview': 2471, 'east': 2472, 'deliber': 2473, 'lo': 2474, 'lane': 2475, 'horrif': 2476, 'dynam': 2477, 'plant': 2478, 'jessica': 2479, 'error': 2480, 'miscast': 2481, 'sophist': 2482, 'appli': 2483, 'basi': 2484, 'vacat': 2485, 'vincent': 2486, 'homosexu': 2487, 'miller': 2488, 'ensu': 2489, '2000': 2490, 'extend': 2491, 'reed': 2492, 'via': 2493, 'sleazi': 2494, 'elev': 2495, 'uncomfort': 2496, 'spoken': 2497, 'measur': 2498, 'bollywood': 2499, 'mansion': 2500, 'steel': 2501, 'fix': 2502, 'alter': 2503, 'stanley': 2504, 'hippi': 2505, 'savag': 2506, 'overact': 2507, 'cathol': 2508, 'mous': 2509, 'conceiv': 2510, 'beer': 2511, 'assign': 2512, 'breathtak': 2513, 'goofi': 2514, 'daili': 2515, 'melt': 2516, 'blair': 2517, 'dentist': 2518, 'sacrific': 2519, 'properli': 2520, 'nowaday': 2521, 'oppos': 2522, 'succe': 2523, 'burt': 2524, 'subsequ': 2525, 'everyday': 2526, 'inspector': 2527, 'carpent': 2528, 'block': 2529, 'circl': 2530, 'neck': 2531, 'massacr': 2532, 'laura': 2533, 'mob': 2534, 'seagal': 2535, 'access': 2536, 'lesser': 2537, 'christi': 2538, 'grey': 2539, 'fay': 2540, 'portrait': 2541, 'concert': 2542, 'fallen': 2543, 'pool': 2544, 'usa': 2545, 'relax': 2546, 'chees': 2547, 'competit': 2548, 'sinist': 2549, 'jewish': 2550, 'react': 2551, 'jake': 2552, 'isol': 2553, 'nonetheless': 2554, 'appal': 2555, 'ironi': 2556, 'stink': 2557, 'immens': 2558, 'spiritu': 2559, 'lyric': 2560, '2006': 2561, 'suitabl': 2562, 'nine': 2563, 'chop': 2564, 'creep': 2565, 'adopt': 2566, 'user': 2567, 'nut': 2568, 'retir': 2569, 'navi': 2570, 'spring': 2571, 'shirt': 2572, 'rage': 2573, 'needless': 2574, 'sold': 2575, 'reduc': 2576, 'franchis': 2577, 'showcas': 2578, 'luci': 2579, 'bulli': 2580, 'stanwyck': 2581, 'jay': 2582, 'asham': 2583, 'uninspir': 2584, 'zone': 2585, 'digit': 2586, 'per': 2587, 'nurs': 2588, 'bath': 2589, 'sutherland': 2590, 'upper': 2591, 'amongst': 2592, '1940': 2593, 'oddli': 2594, '2001': 2595, 'laid': 2596, 'illustr': 2597, 'broadcast': 2598, 'throat': 2599, 'baker': 2600, 'disguis': 2601, 'stylish': 2602, 'aspir': 2603, 'brando': 2604, 'fulfil': 2605, 'neighborhood': 2606, 'pride': 2607, 'em': 2608, 'endear': 2609, 'thief': 2610, 'impli': 2611, 'nobl': 2612, '18': 2613, 'wwii': 2614, 'wanna': 2615, 'pound': 2616, 'diseas': 2617, 'coher': 2618, 'shoulder': 2619, 'albeit': 2620, 'dawn': 2621, 'dinner': 2622, 'prop': 2623, '16': 2624, 'cinematograph': 2625, 'distribut': 2626, 'shift': 2627, 'tens': 2628, 'bo': 2629, 'rochest': 2630, 'bett': 2631, 'surf': 2632, 'poignant': 2633, 'forti': 2634, 'contract': 2635, 'rebel': 2636, 'wash': 2637, 'snow': 2638, 'knife': 2639, 'silenc': 2640, 'function': 2641, 'matthau': 2642, 'shout': 2643, 'duti': 2644, 'cancel': 2645, 'horrend': 2646, 'henc': 2647, 'derek': 2648, 'silver': 2649, 'eeri': 2650, 'reunion': 2651, 'instinct': 2652, 'height': 2653, 'widmark': 2654, 'chuck': 2655, 'mindless': 2656, 'heat': 2657, 'proof': 2658, 'internet': 2659, 'cannib': 2660, 'elvira': 2661, 'greatli': 2662, 'incoher': 2663, 'repetit': 2664, 'absorb': 2665, 'neat': 2666, 'innov': 2667, 'glori': 2668, 'musician': 2669, 'alik': 2670, 'etern': 2671, 'pie': 2672, 'spielberg': 2673, 'torn': 2674, 'mill': 2675, 'elvi': 2676, 'premier': 2677, 'precis': 2678, 'britain': 2679, 'horrifi': 2680, 'redempt': 2681, 'homag': 2682, 'trite': 2683, 'fbi': 2684, 'crisi': 2685, 'infam': 2686, 'racism': 2687, 'nelson': 2688, 'bang': 2689, 'blank': 2690, 'announc': 2691, 'itali': 2692, 'burton': 2693, 'lovabl': 2694, 'diamond': 2695, 'wealthi': 2696, 'ensembl': 2697, 'flop': 2698, 'helen': 2699, 'happili': 2700, 'parallel': 2701, 'pat': 2702, 'wilder': 2703, 'dedic': 2704, 'resolut': 2705, 'hammer': 2706, 'chaplin': 2707, 'streisand': 2708, 'st': 2709, 'plastic': 2710, 'triumph': 2711, 'broke': 2712, 'conclud': 2713, 'carter': 2714, 'factori': 2715, 'disagre': 2716, 'mar': 2717, 'oil': 2718, 'cube': 2719, 'row': 2720, 'climb': 2721, 'rocket': 2722, 'own': 2723, 'chuckl': 2724, 'march': 2725, 'fighter': 2726, 'vega': 2727, 'weight': 2728, 'bush': 2729, 'meaning': 2730, 'enorm': 2731, 'wherea': 2732, 'sensibl': 2733, 'dump': 2734, 'boot': 2735, 'unforgett': 2736, 'kurt': 2737, 'spare': 2738, 'lust': 2739, 'thug': 2740, 'mst3k': 2741, 'luca': 2742, 'dane': 2743, 'difficulti': 2744, 'stress': 2745, 'caricatur': 2746, 'karloff': 2747, 'threat': 2748, 'butt': 2749, 'bobbi': 2750, 'rap': 2751, 'dear': 2752, 'engin': 2753, 'brand': 2754, 'arnold': 2755, 'fifti': 2756, 'adequ': 2757, 'journalist': 2758, 'flynn': 2759, 'ralph': 2760, 'elabor': 2761, 'barri': 2762, 'arrog': 2763, 'secretari': 2764, 'polish': 2765, 'swing': 2766, 'ego': 2767, 'homeless': 2768, 'hamlet': 2769, 'fest': 2770, 'fanci': 2771, 'arrang': 2772, 'unbear': 2773, 'conspiraci': 2774, 'float': 2775, 'spike': 2776, 'simpson': 2777, 'resort': 2778, 'puppet': 2779, 'grate': 2780, 'tool': 2781, 'induc': 2782, 'choreograph': 2783, 'tribut': 2784, 'pig': 2785, 'phillip': 2786, 'basement': 2787, 'guilt': 2788, 'cruis': 2789, 'exercis': 2790, 'muppet': 2791, 'boll': 2792, 'babe': 2793, 'ward': 2794, '24': 2795, 'puzzl': 2796, 'file': 2797, 'editor': 2798, 'layer': 2799, 'item': 2800, 'document': 2801, 'medium': 2802, 'scarecrow': 2803, 'slip': 2804, 'tower': 2805, 'korean': 2806, 'ham': 2807, 'toilet': 2808, 'stan': 2809, 'fianc': 2810, 'catherin': 2811, 'orient': 2812, 'larger': 2813, 'spark': 2814, 'denzel': 2815, 'assur': 2816, 'persona': 2817, 'glover': 2818, 'doc': 2819, 'minim': 2820, 'transit': 2821, 'slaughter': 2822, 'portion': 2823, 'inexplic': 2824, 'philosoph': 2825, 'librari': 2826, 'territori': 2827, 'superfici': 2828, 'sneak': 2829, 'dorothi': 2830, 'pg': 2831, 'ban': 2832, 'owe': 2833, 'shi': 2834, 'financi': 2835, 'walken': 2836, 'boredom': 2837, 'wolf': 2838, 'jet': 2839, 'jeremi': 2840, 'curti': 2841, 'metaphor': 2842, 'cusack': 2843, 'ambigu': 2844, 'profound': 2845, 'backdrop': 2846, 'eleph': 2847, 'multi': 2848, 'whale': 2849, 'hudson': 2850, 'elsewher': 2851, 'notion': 2852, 'viru': 2853, 'birthday': 2854, 'ultra': 2855, '2005': 2856, 'hack': 2857, 'implaus': 2858, 'gadget': 2859, 'stiff': 2860, 'union': 2861, 'rave': 2862, 'eva': 2863, '1st': 2864, 'canada': 2865, 'newspap': 2866, 'reader': 2867, 'disc': 2868, 'superhero': 2869, 'squar': 2870, 'urg': 2871, 'pad': 2872, 'lloyd': 2873, 'hawk': 2874, 'distanc': 2875, 'afford': 2876, 'bibl': 2877, 'deriv': 2878, 'eastwood': 2879, 'slight': 2880, 'poison': 2881, 'health': 2882, 'cure': 2883, 'drown': 2884, 'skit': 2885, 'button': 2886, 'essenc': 2887, 'spread': 2888, 'montag': 2889, 'restaur': 2890, 'huh': 2891, 'sadist': 2892, 'charisma': 2893, 'heston': 2894, 'godfath': 2895, 'estat': 2896, 'gradual': 2897, 'muslim': 2898, 'fetch': 2899, 'companion': 2900, 'maniac': 2901, 'dealt': 2902, 'scoobi': 2903, 'peak': 2904, 'lab': 2905, 'invest': 2906, 'cup': 2907, 'tea': 2908, 'kane': 2909, 'gothic': 2910, 'countless': 2911, 'servant': 2912, 'subtleti': 2913, 'ritter': 2914, 'alli': 2915, 'miik': 2916, 'elect': 2917, 'briefli': 2918, 'charismat': 2919, 'iii': 2920, 'heroic': 2921, 'electr': 2922, 'salli': 2923, 'toss': 2924, 'ingredi': 2925, 'reel': 2926, 'tender': 2927, 'neil': 2928, 'grandmoth': 2929, 'wannab': 2930, 'resourc': 2931, 'nuanc': 2932, 'admittedli': 2933, 'cole': 2934, 'bud': 2935, 'punk': 2936, 'mafia': 2937, 'stronger': 2938, 'label': 2939, 'poverti': 2940, 'stood': 2941, 'pauli': 2942, 'reev': 2943, 'shall': 2944, 'mild': 2945, 'dawson': 2946, 'kubrick': 2947, 'carrey': 2948, 'pit': 2949, 'gate': 2950, 'fond': 2951, 'updat': 2952, 'burst': 2953, 'smash': 2954, 'easier': 2955, 'tag': 2956, 'useless': 2957, 'assault': 2958, 'ian': 2959, 'smooth': 2960, 'cox': 2961, 'cardboard': 2962, 'astair': 2963, 'bakshi': 2964, 'terri': 2965, 'outcom': 2966, 'increasingli': 2967, 'rex': 2968, 'fist': 2969, 'melodramat': 2970, 'sketch': 2971, 'qualifi': 2972, 'coincid': 2973, 'exchang': 2974, 'vari': 2975, 'vulner': 2976, '2002': 2977, 'resolv': 2978, 'samurai': 2979, 'divers': 2980, 'suspend': 2981, 'blast': 2982, 'luckili': 2983, 'be': 2984, 'insert': 2985, 'tame': 2986, 'scratch': 2987, 'reynold': 2988, 'templ': 2989, 'brillianc': 2990, 'conveni': 2991, 'walker': 2992, 'meat': 2993, 'matthew': 2994, 'gotta': 2995, 'ambiti': 2996, 'pin': 2997, 'fisher': 2998, 'seventi': 2999, 'farm': 3000, 'jami': 3001, 'coach': 3002, 'strictli': 3003, 'hamilton': 3004, 'nuclear': 3005, 'soprano': 3006, 'instantli': 3007, 'recreat': 3008, 'worthless': 3009, 'timeless': 3010, 'discoveri': 3011, 'struck': 3012, 'convolut': 3013, 'eccentr': 3014, 'ninja': 3015, 'spooki': 3016, 'butcher': 3017, 'empir': 3018, 'cave': 3019, 'revers': 3020, 'monk': 3021, 'joey': 3022, 'clock': 3023, 'kudo': 3024, 'grasp': 3025, 'closet': 3026, 'brosnan': 3027, 'importantli': 3028, 'eighti': 3029, 'declar': 3030, 'gray': 3031, 'sidekick': 3032, 'pal': 3033, 'wipe': 3034, 'mitchel': 3035, 'fifteen': 3036, 'miracl': 3037, 'bleak': 3038, 'selfish': 3039, 'norman': 3040, 'communist': 3041, 'clown': 3042, 'sloppi': 3043, 'partli': 3044, 'evok': 3045, 'cliff': 3046, 'seller': 3047, 'inconsist': 3048, 'debat': 3049, 'chew': 3050, 'seed': 3051, 'enthusiast': 3052, 'lifestyl': 3053, 'psychiatrist': 3054, 'superbl': 3055, 'piano': 3056, 'aforement': 3057, 'destin': 3058, 'stoog': 3059, 'flawless': 3060, 'ho': 3061, 'farc': 3062, 'australia': 3063, '45': 3064, 'cheek': 3065, 'websit': 3066, 'dire': 3067, 'drivel': 3068, 'incompet': 3069, 'pressur': 3070, 'bash': 3071, 'regardless': 3072, 'wrestl': 3073, 'kitchen': 3074, 'directori': 3075, 'dash': 3076, 'slice': 3077, 'akshay': 3078, 'emili': 3079, 'anni': 3080, 'abc': 3081, 'wick': 3082, 'splatter': 3083, 'soviet': 3084, 'jar': 3085, 'increas': 3086, 'recov': 3087, 'helicopt': 3088, 'seduc': 3089, 'judi': 3090, 'cia': 3091, 'distant': 3092, 'chapter': 3093, 'glow': 3094, 'flower': 3095, 'cameron': 3096, 'suppli': 3097, 'ken': 3098, 'artifici': 3099, 'boil': 3100, 'curios': 3101, 'mann': 3102, 'doo': 3103, 'prize': 3104, 'pleasantli': 3105, 'lou': 3106, 'blob': 3107, 'duo': 3108, 'beaten': 3109, 'dave': 3110, 'cagney': 3111, 'turner': 3112, 'web': 3113, 'goldberg': 3114, 'favour': 3115, 'eleg': 3116, 'hop': 3117, 'drunken': 3118, 'craig': 3119, 'laurel': 3120, 'panic': 3121, 'craven': 3122, 'ellen': 3123, 'combat': 3124, 'splendid': 3125, 'francisco': 3126, 'ranger': 3127, 'glenn': 3128, 'perri': 3129, 'psychot': 3130, 'flip': 3131, 'min': 3132, 'hatr': 3133, 'graduat': 3134, 'wizard': 3135, 'gentl': 3136, 'shortli': 3137, 'rid': 3138, 'philosophi': 3139, 'fx': 3140, 'falk': 3141, '20th': 3142, 'plausibl': 3143, 'ruth': 3144, 'slightest': 3145, 'gandhi': 3146, 'greek': 3147, 'alexand': 3148, 'modesti': 3149, 'ocean': 3150, 'holi': 3151, 'harm': 3152, 'preciou': 3153, 'tall': 3154, 'knight': 3155, 'we': 3156, 'futurist': 3157, 'dracula': 3158, 'lend': 3159, 'legal': 3160, 'fund': 3161, 'jealou': 3162, 'manhattan': 3163, 'unpleas': 3164, 'felix': 3165, 'thread': 3166, 'scientif': 3167, 'forbidden': 3168, 'giallo': 3169, 'explicit': 3170, 'mock': 3171, 'ami': 3172, 'bless': 3173, 'digniti': 3174, 'tank': 3175, 'reviv': 3176, 'overdon': 3177, 'childish': 3178, 'nod': 3179, 'margaret': 3180, '99': 3181, 'elderli': 3182, 'unwatch': 3183, 'torment': 3184, 'pirat': 3185, 'fever': 3186, 'awaken': 3187, 'awe': 3188, 'eve': 3189, 'verhoeven': 3190, 'nerv': 3191, '2004': 3192, 'repeatedli': 3193, 'thick': 3194, 'yesterday': 3195, 'broad': 3196, 'mel': 3197, 'ambit': 3198, 'custom': 3199, 'eas': 3200, 'ah': 3201, 'royal': 3202, 'politician': 3203, 'bin': 3204, 'uniform': 3205, 'launch': 3206, 'automat': 3207, 'stiller': 3208, 'acclaim': 3209, 'rivet': 3210, 'absenc': 3211, 'roman': 3212, 'romero': 3213, 'griffith': 3214, 'kay': 3215, 'timothi': 3216, 'publish': 3217, 'lean': 3218, 'foul': 3219, 'crook': 3220, 'termin': 3221, 'phrase': 3222, 'sunshin': 3223, 'pulp': 3224, 'transport': 3225, 'homicid': 3226, 'bathroom': 3227, 'wallac': 3228, 'darker': 3229, 'purpl': 3230, 'antic': 3231, 'stinker': 3232, 'warren': 3233, 'tomato': 3234, 'pierc': 3235, 'gabriel': 3236, 'evolv': 3237, 'hollow': 3238, 'contrari': 3239, 'choreographi': 3240, 'karen': 3241, 'revolutionari': 3242, 'coloni': 3243, 'juvenil': 3244, '2003': 3245, 'packag': 3246, 'awak': 3247, 'ought': 3248, 'pray': 3249, 'li': 3250, 'kenneth': 3251, 'album': 3252, 'rambo': 3253, 'brazil': 3254, 'sixti': 3255, 'horrid': 3256, 'marin': 3257, 'eyr': 3258, 'q': 3259, 'saint': 3260, 'viciou': 3261, 'prom': 3262, 'donna': 3263, 'overr': 3264, 'candid': 3265, 'blade': 3266, 'twelv': 3267, 'mummi': 3268, 'boast': 3269, 'nerd': 3270, 'kapoor': 3271, 'option': 3272, 'conserv': 3273, 'stole': 3274, 'defi': 3275, 'ireland': 3276, 'mildr': 3277, 'dose': 3278, 'ramon': 3279, 'beatti': 3280, 'confirm': 3281, 'global': 3282, 'detract': 3283, 'funer': 3284, 'flame': 3285, 'fulci': 3286, 'collabor': 3287, 'protest': 3288, 'astonish': 3289, 'kirk': 3290, 'natali': 3291, 'trio': 3292, 'jazz': 3293, 'altman': 3294, 'leap': 3295, 'audio': 3296, 'racial': 3297, 'whip': 3298, 'mystic': 3299, 'enterpris': 3300, 'delici': 3301, 'nicholson': 3302, 'blake': 3303, 'yellow': 3304, 'spit': 3305, 'bottl': 3306, 'bull': 3307, 'destini': 3308, 'shade': 3309, 'tommi': 3310, 'fonda': 3311, 'neo': 3312, 'harder': 3313, 'adolesc': 3314, 'popcorn': 3315, 'enchant': 3316, 'reunit': 3317, 'bedroom': 3318, 'threw': 3319, 'staff': 3320, 'swedish': 3321, 'pseudo': 3322, 'altogeth': 3323, 'merci': 3324, 'meaningless': 3325, 'inherit': 3326, 'visibl': 3327, 'todd': 3328, 'vivid': 3329, 'decor': 3330, 'leonard': 3331, 'bust': 3332, 'exhibit': 3333, 'moodi': 3334, 'jew': 3335, 'respond': 3336, 'tip': 3337, 'lawrenc': 3338, 'suspici': 3339, 'await': 3340, 'roommat': 3341, 'uneven': 3342, 'ruthless': 3343, 'wire': 3344, 'fanat': 3345, 'lemmon': 3346, 'atlanti': 3347, 'crocodil': 3348, 'synopsi': 3349, 'befriend': 3350, 'voight': 3351, 'madonna': 3352, 'kennedi': 3353, 'reserv': 3354, 'edi': 3355, 'bold': 3356, 'voyag': 3357, 'carl': 3358, 'bradi': 3359, 'centr': 3360, 'dimens': 3361, 'audit': 3362, 'chao': 3363, 'ventur': 3364, '2007': 3365, 'unsettl': 3366, 'garner': 3367, 'palma': 3368, 'holli': 3369, 'clumsi': 3370, 'incident': 3371, 'abysm': 3372, 'bargain': 3373, 'rural': 3374, 'clint': 3375, 'elimin': 3376, 'mall': 3377, 'characterist': 3378, 'versu': 3379, 'echo': 3380, 'daddi': 3381, 'imperson': 3382, 'cari': 3383, 'hart': 3384, 'troop': 3385, 'humili': 3386, 'immigr': 3387, 'neglect': 3388, 'cuba': 3389, 'ant': 3390, 'trail': 3391, 'timon': 3392, 'cd': 3393, 'wealth': 3394, 'lit': 3395, 'acknowledg': 3396, '2nd': 3397, 'nearbi': 3398, 'poetic': 3399, 'tiger': 3400, 'jeffrey': 3401, 'domest': 3402, 'prejudic': 3403, 'collaps': 3404, 'mickey': 3405, 'saga': 3406, 'infect': 3407, 'repuls': 3408, 'solo': 3409, 'paus': 3410, 'pun': 3411, 'marshal': 3412, 'celluloid': 3413, 'homer': 3414, 'mistaken': 3415, 'harvey': 3416, '1996': 3417, 'leon': 3418, 'assembl': 3419, 'inan': 3420, 'gear': 3421, 'tribe': 3422, 'undoubtedli': 3423, 'promin': 3424, 'milk': 3425, 'chest': 3426, 'inappropri': 3427, 'sore': 3428, 'cake': 3429, 'apolog': 3430, 'equip': 3431, 'interrupt': 3432, 'hbo': 3433, 'ginger': 3434, 'coffe': 3435, 'pant': 3436, 'coat': 3437, 'olivi': 3438, 'vulgar': 3439, 'retain': 3440, 'embrac': 3441, 'colleagu': 3442, 'maggi': 3443, 'brooklyn': 3444, 'consum': 3445, 'florida': 3446, 'pen': 3447, 'instant': 3448, 'exot': 3449, 'solut': 3450, 'pot': 3451, 'institut': 3452, 'trace': 3453, 'primari': 3454, 'polanski': 3455, 'aveng': 3456, 'jenni': 3457, 'airplan': 3458, 'furthermor': 3459, 'devast': 3460, 'humbl': 3461, 'colonel': 3462, 'highest': 3463, 'rick': 3464, '1999': 3465, 'bowl': 3466, 'gender': 3467, 'descend': 3468, 'cope': 3469, 'wive': 3470, '3rd': 3471, 'disabl': 3472, 'poke': 3473, 'illog': 3474, 'sale': 3475, 'outer': 3476, 'strain': 3477, 'linda': 3478, 'seduct': 3479, 'godzilla': 3480, 'ya': 3481, 'smaller': 3482, 'dian': 3483, 'principl': 3484, 'dutch': 3485, 'primarili': 3486, 'dive': 3487, 'bubbl': 3488, 'scope': 3489, 'gloriou': 3490, 'dud': 3491, 'mixtur': 3492, 'beneath': 3493, 'lol': 3494, 'blatant': 3495, 'yard': 3496, 'vast': 3497, 'gundam': 3498, 'hal': 3499, 'predecessor': 3500, 'secondli': 3501, 'cue': 3502, 'inferior': 3503, 'rabbit': 3504, 'glamor': 3505, 'devoid': 3506, 'disjoint': 3507, 'z': 3508, 'trademark': 3509, 'et': 3510, 'senseless': 3511, 'domino': 3512, 'aggress': 3513, 'simplist': 3514, 'myer': 3515, 'museum': 3516, 'shelf': 3517, 'hideou': 3518, 'invas': 3519, 'april': 3520, 'pearl': 3521, 'alfr': 3522, 'arab': 3523, 'casual': 3524, 'grinch': 3525, 'talki': 3526, 'alert': 3527, 'shirley': 3528, 'breed': 3529, 'countrysid': 3530, 'streep': 3531, 'garbo': 3532, 'applaud': 3533, 'hopeless': 3534, 'illeg': 3535, 'acid': 3536, 'maci': 3537, 'stellar': 3538, 'vanish': 3539, 'disgrac': 3540, 'slide': 3541, 'sh': 3542, 'robberi': 3543, 'unhappi': 3544, 'oz': 3545, 'khan': 3546, 'loyal': 3547, 'mayor': 3548, 'defens': 3549, 'obtain': 3550, 'rendit': 3551, 'stir': 3552, 'robinson': 3553, 'experiment': 3554, 'boom': 3555, 'hardcor': 3556, 'mail': 3557, 'stack': 3558, 'uwe': 3559, 'dismiss': 3560, 'amanda': 3561, 'incomprehens': 3562, 'craze': 3563, 'dicken': 3564, 'grandfath': 3565, 'spider': 3566, 'declin': 3567, 'soccer': 3568, 'emphasi': 3569, 'hartley': 3570, 'tenant': 3571, 'psychic': 3572, 'counter': 3573, 'span': 3574, 'topless': 3575, 'fri': 3576, 'recruit': 3577, 'blew': 3578, 'scroog': 3579, 'diana': 3580, 'rifl': 3581, 'berlin': 3582, 'tempt': 3583, 'wont': 3584, 'riot': 3585, 'ration': 3586, 'wet': 3587, 'trashi': 3588, 'faster': 3589, 'goer': 3590, 'resurrect': 3591, 'revolt': 3592, 'bitch': 3593, 'justin': 3594, 'lumet': 3595, 'sympath': 3596, 'shed': 3597, 'woo': 3598, 'shaw': 3599, 'porno': 3600, 'parad': 3601, 'intim': 3602, 'sibl': 3603, 'niro': 3604, 'ethnic': 3605, 'wheel': 3606, 'partial': 3607, 'wendi': 3608, 'patriot': 3609, 'weakest': 3610, 'dealer': 3611, 'slick': 3612, 'choru': 3613, 'enlighten': 3614, 'lena': 3615, 'nephew': 3616, 'hopper': 3617, 'farmer': 3618, 'honesti': 3619, '00': 3620, 'region': 3621, 'immort': 3622, 'hesit': 3623, 'steam': 3624, 'jonathan': 3625, 'ensur': 3626, 'gap': 3627, 'ballet': 3628, 'unreal': 3629, 'andr': 3630, 'feminist': 3631, 'biographi': 3632, 'eager': 3633, 'rider': 3634, 'commend': 3635, 'worm': 3636, 'mario': 3637, 'morri': 3638, 'victori': 3639, 'kingdom': 3640, 'franco': 3641, 'composit': 3642, 'nostalg': 3643, 'skull': 3644, 'safeti': 3645, 'leo': 3646, 'blunt': 3647, 'util': 3648, 'vice': 3649, 'repress': 3650, 'hung': 3651, 'macarthur': 3652, 'snap': 3653, 'confin': 3654, 'wore': 3655, 'sandra': 3656, 'prequel': 3657, 'charlott': 3658, 'mutant': 3659, 'properti': 3660, 'similarli': 3661, 'psychopath': 3662, 'sappi': 3663, 'owen': 3664, 'exit': 3665, 'nervou': 3666, 'rocki': 3667, 'thru': 3668, 'pattern': 3669, 'recycl': 3670, 'bumbl': 3671, 'whoopi': 3672, '1972': 3673, 'strand': 3674, 'rambl': 3675, 'acquir': 3676, 'hyde': 3677, 'campbel': 3678, 'bonu': 3679, 'compens': 3680, 'dalton': 3681, 'valuabl': 3682, 'bow': 3683, 'del': 3684, 'dust': 3685, 'compass': 3686, 'rope': 3687, 'emperor': 3688, 'miseri': 3689, 'latin': 3690, 'snl': 3691, 'drain': 3692, 'deed': 3693, 'despair': 3694, 'bergman': 3695, 'cg': 3696, 'speci': 3697, 'drum': 3698, 'tail': 3699, 'farrel': 3700, 'heartbreak': 3701, 'repli': 3702, 'kyle': 3703, 'tad': 3704, 'montana': 3705, 'mistress': 3706, 'contempl': 3707, 'pour': 3708, 'radic': 3709, 'tonight': 3710, 'chess': 3711, 'bleed': 3712, 'oppress': 3713, 'romp': 3714, 'percept': 3715, 'orson': 3716, 'rotten': 3717, '35': 3718, 'martian': 3719, 'da': 3720, 'downhil': 3721, 'rapist': 3722, 'wacki': 3723, 'slug': 3724, 'olli': 3725, 'gal': 3726, 'airport': 3727, 'carradin': 3728, 'gimmick': 3729, 'roth': 3730, 'slash': 3731, 'arc': 3732, 'preach': 3733, 'mislead': 3734, 'banal': 3735, 'edgar': 3736, 'heal': 3737, 'arguabl': 3738, 'taught': 3739, 'pervert': 3740, 'belt': 3741, 'stilt': 3742, '1983': 3743, 'attorney': 3744, 'shelley': 3745, 'unpredict': 3746, 'pursuit': 3747, 'tackl': 3748, 'tooth': 3749, 'dazzl': 3750, 'melodi': 3751, 'champion': 3752, 'programm': 3753, 'pervers': 3754, 'paltrow': 3755, 'employe': 3756, 'mesmer': 3757, 'passeng': 3758, 'chicken': 3759, 'bela': 3760, 'cleverli': 3761, 'sensat': 3762, 'graham': 3763, 'uplift': 3764, 'conneri': 3765, 'vocal': 3766, 'closest': 3767, 'rubi': 3768, 'duval': 3769, 'maid': 3770, 'vengeanc': 3771, 'franki': 3772, 'gambl': 3773, 'virginia': 3774, 'raymond': 3775, 'orang': 3776, 'plight': 3777, 'poem': 3778, 'tiresom': 3779, 'dixon': 3780, 'marti': 3781, 'habit': 3782, 'numb': 3783, 'giggl': 3784, 'amitabh': 3785, 'profan': 3786, 'quarter': 3787, 'scottish': 3788, 'yawn': 3789, '1968': 3790, 'convincingli': 3791, 'engross': 3792, 'iran': 3793, 'secretli': 3794, 'swallow': 3795, 'calm': 3796, 'bay': 3797, 'suffic': 3798, 'clone': 3799, 'inject': 3800, 'tube': 3801, 'lundgren': 3802, 'pokemon': 3803, 'gerard': 3804, 'mute': 3805, 'climact': 3806, 'outing': 3807, 'crystal': 3808, 'whine': 3809, 'monologu': 3810, 'volum': 3811, 'extens': 3812, 'paranoia': 3813, 'abraham': 3814, 'sirk': 3815, 'junior': 3816, 'trend': 3817, 'frankenstein': 3818, 'grotesqu': 3819, 'abort': 3820, 'fed': 3821, 'backward': 3822, 'surpass': 3823, 'linger': 3824, 'ethan': 3825, 'poetri': 3826, 'taxi': 3827, 'franci': 3828, 'earl': 3829, 'plod': 3830, 'profess': 3831, 'spock': 3832, 'underst': 3833, 'dispos': 3834, 'expand': 3835, 'nichola': 3836, 'bend': 3837, 'meander': 3838, 'chicago': 3839, 'richardson': 3840, 'im': 3841, 'lowest': 3842, 'austen': 3843, 'septemb': 3844, 'muddl': 3845, 'stallon': 3846, 'mundan': 3847, 'spoke': 3848, 'literatur': 3849, 'tourist': 3850, 'catchi': 3851, 'descent': 3852, 'lure': 3853, 'compliment': 3854, 'dysfunct': 3855, 'econom': 3856, 'instrument': 3857, 'rant': 3858, 'eugen': 3859, 'household': 3860, 'myth': 3861, 'cannon': 3862, 'greedi': 3863, 'hum': 3864, 'simplic': 3865, 'waitress': 3866, 'nostalgia': 3867, 'rubber': 3868, 'sue': 3869, 'der': 3870, 'crucial': 3871, 'duck': 3872, 'hello': 3873, 'mortal': 3874, 'map': 3875, 'occupi': 3876, 'furi': 3877, 'dictat': 3878, 'firstli': 3879, 'recognis': 3880, 'phoni': 3881, 'insur': 3882, 'phantom': 3883, 'dement': 3884, 'flee': 3885, 'recognit': 3886, 'mankind': 3887, 'june': 3888, 'alongsid': 3889, 'omen': 3890, 'irrelev': 3891, 'cent': 3892, 'sissi': 3893, 'eaten': 3894, 'deaf': 3895, 'lang': 3896, 'stale': 3897, 'louis': 3898, 'randi': 3899, 'carel': 3900, 'bacal': 3901, 'equival': 3902, 'damon': 3903, 'molli': 3904, 'coast': 3905, 'freez': 3906, 'labor': 3907, 'damm': 3908, 'lengthi': 3909, '1973': 3910, 'onlin': 3911, 'cyborg': 3912, 'heel': 3913, 'antwon': 3914, 'grayson': 3915, 'newli': 3916, 'reign': 3917, 'rooney': 3918, 'daisi': 3919, 'bike': 3920, 'blackmail': 3921, 'loyalti': 3922, 'wisdom': 3923, 'twilight': 3924, 'drake': 3925, 'rude': 3926, 'ashley': 3927, 'bump': 3928, 'dreari': 3929, 'distinguish': 3930, 'likewis': 3931, 'biko': 3932, 'buffalo': 3933, 'startl': 3934, 'unorigin': 3935, 'interior': 3936, 'pink': 3937, 'baddi': 3938, 'prey': 3939, 'provoc': 3940, 'attribut': 3941, 'boxer': 3942, 'sailor': 3943, 'inher': 3944, 'tunnel': 3945, 'vein': 3946, 'proce': 3947, 'emphas': 3948, 'nineti': 3949, 'incorpor': 3950, 'keith': 3951, 'barrymor': 3952, 'butler': 3953, 'chronicl': 3954, 'exposur': 3955, 'basketbal': 3956, 'ridden': 3957, 'approv': 3958, 'analysi': 3959, 'worn': 3960, 'condemn': 3961, 'degrad': 3962, 'millionair': 3963, 'drift': 3964, 'mighti': 3965, 'bunni': 3966, 'unrel': 3967, 'hypnot': 3968, 'meyer': 3969, 'undeni': 3970, 'er': 3971, 'predat': 3972, 'robbin': 3973, 'meg': 3974, 'fleet': 3975, 'barrel': 3976, 'elm': 3977, 'carla': 3978, 'stalker': 3979, 'othello': 3980, 'substitut': 3981, 'simmon': 3982, 'underli': 3983, 'improvis': 3984, 'walsh': 3985, 'julian': 3986, 'belushi': 3987, 'nicol': 3988, 'indiffer': 3989, 'mormon': 3990, 'errol': 3991, 'warmth': 3992, 'disord': 3993, 'edgi': 3994, 'agenda': 3995, 'nyc': 3996, 'hay': 3997, 'mtv': 3998, 'roof': 3999, 'alarm': 4000, 'exquisit': 4001, 'rukh': 4002, 'alison': 4003, 'unawar': 4004, 'dolph': 4005, 'novak': 4006, '3d': 4007, 'enthusiasm': 4008, 'marion': 4009, 'priceless': 4010, 'lampoon': 4011, 'palac': 4012, 'watson': 4013, 'firm': 4014, 'greed': 4015, 'shove': 4016, 'reid': 4017, 'vital': 4018, 'campaign': 4019, 'gestur': 4020, 'glanc': 4021, 'peril': 4022, 'distort': 4023, 'what': 4024, 'thompson': 4025, 'angela': 4026, 'randomli': 4027, 'drip': 4028, 'spain': 4029, 'crown': 4030, 'session': 4031, 'simultan': 4032, 'pamela': 4033, 'eastern': 4034, 'orlean': 4035, 'cassidi': 4036, 'peck': 4037, 'preserv': 4038, 'valentin': 4039, 'israel': 4040, 'coup': 4041, 'profit': 4042, 'nun': 4043, 'beatl': 4044, 'iraq': 4045, '1933': 4046, 'minimum': 4047, 'ponder': 4048, 'petti': 4049, 'testament': 4050, 'showdown': 4051, '13th': 4052, 'unleash': 4053, 'championship': 4054, 'sergeant': 4055, 'zizek': 4056, 'gentleman': 4057, 'climat': 4058, 'stake': 4059, 'unimagin': 4060, 'empathi': 4061, 'mon': 4062, 'restrain': 4063, 'perpetu': 4064, 'jan': 4065, 'regist': 4066, '1984': 4067, 'rout': 4068, 'crow': 4069, 'scotland': 4070, 'brenda': 4071, 'stroke': 4072, 'travesti': 4073, 'exposit': 4074, 'crawl': 4075, 'wig': 4076, 'calib': 4077, 'represent': 4078, 'han': 4079, 'quinn': 4080, 'reson': 4081, 'shootout': 4082, 'buster': 4083, 'cream': 4084, 'cooki': 4085, 'bro': 4086, 'sabrina': 4087, 'kurosawa': 4088, 'contradict': 4089, 'realm': 4090, 'valley': 4091, 'din': 4092, 'miyazaki': 4093, 'fido': 4094, 'soderbergh': 4095, 'geek': 4096, 'pole': 4097, 'shaki': 4098, 'wax': 4099, 'traumat': 4100, 'greg': 4101, 'passabl': 4102, 'ross': 4103, 'femm': 4104, 'sammi': 4105, 'unsatisfi': 4106, 'sucker': 4107, '1987': 4108, 'spacey': 4109, 'baldwin': 4110, 'businessman': 4111, 'pretens': 4112, 'censor': 4113, 'shoddi': 4114, 'delic': 4115, 'absent': 4116, 'compromis': 4117, '1997': 4118, 'darren': 4119, 'warrant': 4120, 'perceiv': 4121, 'crawford': 4122, 'fuller': 4123, 'distress': 4124, 'tacki': 4125, 'abomin': 4126, 'monoton': 4127, 'ustinov': 4128, 'mclaglen': 4129, 'cloud': 4130, 'painter': 4131, 'derang': 4132, 'stargat': 4133, 'dana': 4134, 'josh': 4135, 'unseen': 4136, 'meryl': 4137, 'demis': 4138, 'wholli': 4139, 'fog': 4140, '1993': 4141, 'seal': 4142, 'uncov': 4143, 'furiou': 4144, 'accuraci': 4145, 'primit': 4146, 'anchor': 4147, 'exclus': 4148, 'deceas': 4149, 'click': 4150, 'norm': 4151, 'jewel': 4152, 'tarantino': 4153, 'correctli': 4154, 'unravel': 4155, 'kumar': 4156, 'valid': 4157, 'antonioni': 4158, 'nathan': 4159, 'expedit': 4160, 'tech': 4161, 'verbal': 4162, 'judgment': 4163, 'fenc': 4164, 'deniro': 4165, 'clash': 4166, 'polici': 4167, 'austin': 4168, 'sid': 4169, 'reluct': 4170, 'dee': 4171, 'seldom': 4172, 'unfair': 4173, 'hallucin': 4174, 'enforc': 4175, 'pocket': 4176, 'tax': 4177, 'fart': 4178, 'conduct': 4179, 'debt': 4180, '1971': 4181, 'trait': 4182, 'sand': 4183, 'mode': 4184, 'darn': 4185, 'wang': 4186, 'sheet': 4187, 'sustain': 4188, 'slam': 4189, 'wretch': 4190, 'logan': 4191, '1995': 4192, 'nicola': 4193, 'fabric': 4194, 'shanghai': 4195, 'joel': 4196, 'roller': 4197, 'patienc': 4198, 'bake': 4199, 'dreck': 4200, 'ritual': 4201, 'behold': 4202, 'clerk': 4203, 'malon': 4204, '2008': 4205, 'temper': 4206, 'alec': 4207, 'murray': 4208, 'crippl': 4209, 'fought': 4210, 'vanc': 4211, 'sunni': 4212, '3000': 4213, 'scriptwrit': 4214, 'bridget': 4215, 'grief': 4216, 'fundament': 4217, 'clau': 4218, 'sweep': 4219, 'runner': 4220, 'schedul': 4221, 'guitar': 4222, 'isabel': 4223, 'squad': 4224, 'bias': 4225, 'soup': 4226, 'divid': 4227, 'canyon': 4228, 'tactic': 4229, 'outlin': 4230, 'stark': 4231, 'stuart': 4232, 'conscious': 4233, 'shell': 4234, 'legaci': 4235, 'penni': 4236, 'pete': 4237, 'technicolor': 4238, 'phil': 4239, 'helpless': 4240, 'robber': 4241, 'rita': 4242, 'preposter': 4243, 'despis': 4244, 'preston': 4245, 'exhaust': 4246, 'critiqu': 4247, 'inabl': 4248, 'sentinel': 4249, 'rehash': 4250, 'alley': 4251, 'russia': 4252, 'sniper': 4253, 'liberti': 4254, 'drove': 4255, 'gregori': 4256, 'restrict': 4257, 'cigarett': 4258, 'culmin': 4259, 'bloom': 4260, 'boyl': 4261, 'consciou': 4262, 'agenc': 4263, 'newman': 4264, 'downey': 4265, 'palanc': 4266, 'flair': 4267, 'invad': 4268, 'marc': 4269, 'connor': 4270, 'jodi': 4271, 'propos': 4272, 'delv': 4273, 'vomit': 4274, 'jacket': 4275, 'implic': 4276, 'passag': 4277, 'unexpectedli': 4278, 'alicia': 4279, 'kansa': 4280, 'rear': 4281, 'sugar': 4282, 'lacklust': 4283, 'pale': 4284, 'vet': 4285, 'behaviour': 4286, 'cap': 4287, 'lush': 4288, 'sharon': 4289, 'karl': 4290, 'aesthet': 4291, 'foxx': 4292, 'improb': 4293, 'mccoy': 4294, 'awhil': 4295, 'asylum': 4296, 'ladder': 4297, '1936': 4298, 'chainsaw': 4299, 'yeti': 4300, 'feat': 4301, 'rehears': 4302, 'kolchak': 4303, 'bacon': 4304, 'delet': 4305, 'rod': 4306, 'arrow': 4307, 'horn': 4308, 'tripe': 4309, 'rampag': 4310, 'wrench': 4311, 'tendenc': 4312, '22': 4313, 'basing': 4314, 'financ': 4315, 'visitor': 4316, 'suspicion': 4317, 'suffici': 4318, 'stream': 4319, 'newcom': 4320, 'tomorrow': 4321, 'loneli': 4322, 'lurk': 4323, 'weav': 4324, 'el': 4325, 'underneath': 4326, 'rhythm': 4327, 'elit': 4328, 'coaster': 4329, 'paramount': 4330, 'filler': 4331, '19th': 4332, '1988': 4333, 'shortcom': 4334, 'rumor': 4335, 'wildli': 4336, 'paradis': 4337, '1978': 4338, 'scoop': 4339, 'hackney': 4340, 'amazon': 4341, 'spice': 4342, 'wagner': 4343, '1920': 4344, 'hungri': 4345, 'hulk': 4346, 'globe': 4347, 'prank': 4348, 'conscienc': 4349, 'sung': 4350, 'tasteless': 4351, 'fright': 4352, 'minu': 4353, 'aristocrat': 4354, 'thunderbird': 4355, 'naughti': 4356, 'abrupt': 4357, 'paxton': 4358, 'iv': 4359, 'impos': 4360, 'minist': 4361, 'counterpart': 4362, 'heist': 4363, 'springer': 4364, 'straightforward': 4365, 'literari': 4366, 'brit': 4367, 'choppi': 4368, 'beverli': 4369, 'ingeni': 4370, 'recogniz': 4371, 'en': 4372, '1989': 4373, 'curli': 4374, 'dirt': 4375, 'leigh': 4376, 'immers': 4377, 'cancer': 4378, 'entranc': 4379, 'hopkin': 4380, 'posey': 4381, 'secondari': 4382, 'ram': 4383, 'chavez': 4384, 'grudg': 4385, '75': 4386, '1939': 4387, 'quietli': 4388, 'standout': 4389, 'worship': 4390, 'couch': 4391, 'inmat': 4392, 'atroc': 4393, 'lectur': 4394, 'chamberlain': 4395, 'penn': 4396, 'rub': 4397, 'smell': 4398, 'tierney': 4399, 'teas': 4400, 'bread': 4401, 'wwe': 4402, 'transcend': 4403, 'enthral': 4404, 'clan': 4405, 'heartfelt': 4406, 'misguid': 4407, 'policeman': 4408, 'sublim': 4409, 'moreov': 4410, 'ratso': 4411, 'convert': 4412, 'morbid': 4413, '1986': 4414, 'ace': 4415, 'duel': 4416, 'attenborough': 4417, 'net': 4418, 'yearn': 4419, 'skeptic': 4420, 'watcher': 4421, 'cattl': 4422, 'variat': 4423, 'missil': 4424, 'injuri': 4425, 'geni': 4426, 'nemesi': 4427, 'lindsay': 4428, 'laurenc': 4429, 'entitl': 4430, 'bernard': 4431, 'quaid': 4432, 'esther': 4433, 'sassi': 4434, 'nolan': 4435, '1979': 4436, 'characteris': 4437, 'carlito': 4438, 'diari': 4439, 'uncut': 4440, 'kitti': 4441, 'mytholog': 4442, 'grin': 4443, 'rosemari': 4444, 'graini': 4445, 'obstacl': 4446, 'buzz': 4447, 'cruelti': 4448, 'vader': 4449, 'dont': 4450, 'setup': 4451, 'poe': 4452, 'hk': 4453, 'steadi': 4454, 'moder': 4455, 'out': 4456, 'hopelessli': 4457, 'brood': 4458, 'spiral': 4459, 'facil': 4460, 'bye': 4461, 'reliabl': 4462, 'enabl': 4463, 'artsi': 4464, 'egg': 4465, 'puppi': 4466, 'youngest': 4467, 'unexplain': 4468, 'tyler': 4469, 'bean': 4470, 'kidman': 4471, 'effici': 4472, 'spontan': 4473, 'acquaint': 4474, 'despic': 4475, 'christin': 4476, 'fuel': 4477, 'niec': 4478, 'hammi': 4479, 'disastr': 4480, 'weather': 4481, 'athlet': 4482, '1969': 4483, 'gina': 4484, 'martha': 4485, 'brendan': 4486, 'bronson': 4487, 'exterior': 4488, 'patricia': 4489, 'underworld': 4490, 'oblig': 4491, 'bounc': 4492, 'heap': 4493, 'baffl': 4494, 'clueless': 4495, 'bewar': 4496, 'decept': 4497, 'sweat': 4498, 'hain': 4499, 'narrow': 4500, 'gillian': 4501, 'kline': 4502, 'preming': 4503, 'uh': 4504, 'loath': 4505, 'virtu': 4506, 'rome': 4507, 'sooner': 4508, 'lester': 4509, 'viewpoint': 4510, '73': 4511, 'mayhem': 4512, 'dilemma': 4513, 'biker': 4514, 'renaiss': 4515, '19': 4516, 'analyz': 4517, 'sleepwalk': 4518, 'trigger': 4519, 'headach': 4520, 'enlist': 4521, 'harmless': 4522, 'preachi': 4523, 'astound': 4524, 'suprem': 4525, 'loi': 4526, 'shatter': 4527, 'tick': 4528, 'fontain': 4529, 'mermaid': 4530, 'candl': 4531, 'outlaw': 4532, 'dandi': 4533, 'taboo': 4534, 'circu': 4535, 'scar': 4536, 'hepburn': 4537, 'angst': 4538, 'injur': 4539, 'goof': 4540, 'housewif': 4541, 'insipid': 4542, 'foolish': 4543, 'amor': 4544, 'hostag': 4545, 'ariel': 4546, 'stair': 4547, 'tripl': 4548, 'zoom': 4549, 'hooker': 4550, 'intric': 4551, 'contempt': 4552, 'overlong': 4553, 'surgeri': 4554, 'dismal': 4555, 'steer': 4556, 'phenomenon': 4557, 'bent': 4558, 'gere': 4559, 'fluff': 4560, 'redund': 4561, 'whore': 4562, 'slimi': 4563, 'stimul': 4564, 'guin': 4565, 'camcord': 4566, 'hokey': 4567, 'ebert': 4568, 'salt': 4569, 'idol': 4570, 'cassavet': 4571, 'immatur': 4572, 'claustrophob': 4573, 'sox': 4574, 'oldest': 4575, 'scorses': 4576, 'glorifi': 4577, 'spade': 4578, 'boston': 4579, 'dish': 4580, 'macho': 4581, 'filth': 4582, 'corbett': 4583, 'shred': 4584, 'keen': 4585, 'schlock': 4586, 'widescreen': 4587, 'proport': 4588, 'preced': 4589, 'muscl': 4590, 'radiat': 4591, 'astronaut': 4592, 'antagonist': 4593, '1981': 4594, 'cush': 4595, 'beard': 4596, 'mutual': 4597, 'mount': 4598, 'margin': 4599, 'faint': 4600, 'flag': 4601, 'conquer': 4602, '1976': 4603, 'spinal': 4604, 'cow': 4605, 'zane': 4606, 'gasp': 4607, 'fascist': 4608, 'naschi': 4609, 'dwarf': 4610, 'flirt': 4611, 'frantic': 4612, 'trivia': 4613, 'obligatori': 4614, 'cohen': 4615, 'transplant': 4616, 'corman': 4617, 'shield': 4618, 'perman': 4619, 'harold': 4620, 'flashi': 4621, 'nolt': 4622, 'joker': 4623, 'alvin': 4624, 'strongest': 4625, 'rhyme': 4626, 'remad': 4627, 'messi': 4628, 'down': 4629, 'assert': 4630, 'gabl': 4631, 'spree': 4632, 'strive': 4633, '1945': 4634, 'mobil': 4635, 'raj': 4636, 'vaniti': 4637, 'archiv': 4638, 'mol': 4639, 'fishburn': 4640, 'persuad': 4641, 'sensual': 4642, 'flock': 4643, 'wield': 4644, 'claud': 4645, 'someday': 4646, 'off': 4647, 'deer': 4648, '95': 4649, 'info': 4650, 'interestingli': 4651, 'divin': 4652, 'bitten': 4653, 'boob': 4654, 'repris': 4655, 'discern': 4656, 'departur': 4657, 'instruct': 4658, 'hara': 4659, 'carey': 4660, 'resum': 4661, 'ritchi': 4662, 'brush': 4663, 'scandal': 4664, 'www': 4665, 'triangl': 4666, '28': 4667, 'bachelor': 4668, 'aborigin': 4669, 'barn': 4670, 'danish': 4671, 'inflict': 4672, 'neurot': 4673, 'hilar': 4674, 'cliffhang': 4675, 'rot': 4676, 'harrison': 4677, 'bate': 4678, 'undermin': 4679, 'helm': 4680, 'vibrant': 4681, 'anton': 4682, 'pacif': 4683, 'dame': 4684, 'proclaim': 4685, 'parson': 4686, 'traffic': 4687, 'jade': 4688, 'kathryn': 4689, 'axe': 4690, 'dylan': 4691, 'timberlak': 4692, 'heartwarm': 4693, 'biblic': 4694, 'pixar': 4695, 'fragil': 4696, 'senior': 4697, 'wendigo': 4698, 'banter': 4699, 'neill': 4700, 'submit': 4701, 'hug': 4702, 'mobster': 4703, 'dim': 4704, 'casino': 4705, 'recit': 4706, 'miracul': 4707, 'luka': 4708, 'earnest': 4709, 'artwork': 4710, 'melissa': 4711, 'loretta': 4712, 'colin': 4713, 'hapless': 4714, 'frontier': 4715, 'clad': 4716, 'ish': 4717, 'cycl': 4718, 'cb': 4719, 'prophet': 4720, 'cher': 4721, 'pickford': 4722, 'carlo': 4723, 'europa': 4724, 'misfortun': 4725, 'aris': 4726, 'seedi': 4727, 'foil': 4728, 'orphan': 4729, 'sicken': 4730, 'bondag': 4731, 'nope': 4732, 'feast': 4733, 'akin': 4734, 'antholog': 4735, 'breakfast': 4736, 'rooki': 4737, 'toronto': 4738, 'shepherd': 4739, 'token': 4740, 'lui': 4741, 'pc': 4742, 'static': 4743, 'estrang': 4744, 'cerebr': 4745, 'illus': 4746, 'jo': 4747, 'bikini': 4748, 'razor': 4749, 'http': 4750, 'mason': 4751, 'isra': 4752, 'venom': 4753, 'milo': 4754, 'alexandr': 4755, 'electron': 4756, 'vile': 4757, 'choke': 4758, 'winchest': 4759, 'northern': 4760, 'uma': 4761, 'marlon': 4762, 'redneck': 4763, 'lucil': 4764, 'articl': 4765, 'holocaust': 4766, 'wardrob': 4767, 'eli': 4768, 'blatantli': 4769, 'vanessa': 4770, 'flavor': 4771, 'jordan': 4772, 'trier': 4773, 'legitim': 4774, 'mathieu': 4775, 'abund': 4776, 'feminin': 4777, 'turd': 4778, 'frog': 4779, 'tack': 4780, 'smack': 4781, 'gilbert': 4782, 'audrey': 4783, 'ideolog': 4784, 'comprehend': 4785, 'deem': 4786, 'swept': 4787, 'linear': 4788, 'retriev': 4789, 'clinic': 4790, 'cartoonish': 4791, 'disregard': 4792, 'outdat': 4793, 'oppon': 4794, 'howl': 4795, 'peer': 4796, 'nightclub': 4797, 'ceremoni': 4798, 'affleck': 4799, 'psych': 4800, 'huston': 4801, 'leather': 4802, 'highway': 4803, 'fifth': 4804, 'wrestler': 4805, 'dudley': 4806, 'charlton': 4807, 'styliz': 4808, 'knightley': 4809, 'glare': 4810, 'boyer': 4811, 'shorter': 4812, 'magician': 4813, 'gunga': 4814, 'breakdown': 4815, 'sleaz': 4816, 'tara': 4817, 'spawn': 4818, 'energet': 4819, 'durat': 4820, 'conrad': 4821, 'goldsworthi': 4822, 'spine': 4823, 'salman': 4824, 'corn': 4825, '1994': 4826, 'greet': 4827, 'moe': 4828, 'boo': 4829, 'evolut': 4830, 'phenomen': 4831, 'toe': 4832, 'cuban': 4833, 'cemeteri': 4834, '1991': 4835, 'monument': 4836, 'chip': 4837, 'lighter': 4838, 'lavish': 4839, 'summar': 4840, 'btw': 4841, 'senat': 4842, 'snatch': 4843, 'client': 4844, 'compris': 4845, 'plate': 4846, 'bastard': 4847, 'braveheart': 4848, 'collector': 4849, '4th': 4850, 'potter': 4851, 'bogu': 4852, 'uniformli': 4853, 'newer': 4854, 'einstein': 4855, 'lifeless': 4856, 'whack': 4857, 'deliver': 4858, 'mitch': 4859, 'replay': 4860, 'signal': 4861, 'ie': 4862, 'spectacl': 4863, '1974': 4864, 'jare': 4865, 'armstrong': 4866, 'evelyn': 4867, 'outright': 4868, 'appl': 4869, 'lex': 4870, 'belli': 4871, 'ol': 4872, 'bori': 4873, 'kazan': 4874, 'undertak': 4875, 'bulk': 4876, 'eleven': 4877, 'luxuri': 4878, 'kent': 4879, 'nina': 4880, 'liu': 4881, '1977': 4882, 'inaccuraci': 4883, 'jedi': 4884, 'embark': 4885, 'neatli': 4886, 'firmli': 4887, 'wtf': 4888, 'cecil': 4889, 'constitut': 4890, 'clara': 4891, 'mcqueen': 4892, 'fluid': 4893, 'gilliam': 4894, 'jam': 4895, 'historian': 4896, 'creek': 4897, 'sorrow': 4898, 'randolph': 4899, 'healthi': 4900, 'occup': 4901, 'pronounc': 4902, 'capot': 4903, 'jule': 4904, 'judd': 4905, 'trauma': 4906, 'undead': 4907, 'alleg': 4908, 'comprehens': 4909, 'bsg': 4910, 'paula': 4911, 'blur': 4912, 'groan': 4913, 'bait': 4914, 'comb': 4915, 'cape': 4916, 'meal': 4917, 'inclus': 4918, 'lanc': 4919, 'inaccur': 4920, 'unattract': 4921, 'aussi': 4922, 'genet': 4923, 'id': 4924, 'tokyo': 4925, 'relentless': 4926, 'ash': 4927, 'truman': 4928, 'vignett': 4929, '1985': 4930, 'rosario': 4931, 'basket': 4932, 'propheci': 4933, 'unsuspect': 4934, 'forgiven': 4935, 'decapit': 4936, 'galaxi': 4937, 'mum': 4938, 'abound': 4939, 'miami': 4940, 'palm': 4941, 'knee': 4942, 'conan': 4943, 'vain': 4944, 'carmen': 4945, 'congratul': 4946, 'pioneer': 4947, 'antonio': 4948, 'miniseri': 4949, 'goldblum': 4950, 'spray': 4951, 'fruit': 4952, 'curtain': 4953, 'subtli': 4954, 'kiddi': 4955, 'porter': 4956, 'lauren': 4957, 'roar': 4958, 'walt': 4959, 'sidewalk': 4960, 'poker': 4961, 'pepper': 4962, 'sacrif': 4963, 'frontal': 4964, 'hostil': 4965, 'dubiou': 4966, 'ghetto': 4967, 'incorrect': 4968, 'spill': 4969, 'assort': 4970, 'victorian': 4971, 'macabr': 4972, 'verg': 4973, 'ingrid': 4974, 'epitom': 4975, 'weari': 4976, 'monti': 4977, 'hackman': 4978, 'jill': 4979, 'handicap': 4980, 'sparkl': 4981, 'reincarn': 4982, 'asset': 4983, 'motorcycl': 4984, 'profil': 4985, 'substanti': 4986, 'modest': 4987, 'scariest': 4988, 'mice': 4989, 'cypher': 4990, 'vastli': 4991, 'masterson': 4992, '21st': 4993, 'detach': 4994, 'playboy': 4995, 'optimist': 4996, 'sophi': 4997, 'rapidli': 4998, 'weaker': 4999}\n"
     ]
    }
   ],
   "source": [
    "# TODO: Use this space to determine the five most frequently appearing words in the training set.\n",
    "print(word_dict)\n"
   ]
  },
  {
   "cell_type": "markdown",
   "metadata": {},
   "source": [
    "### Save `word_dict`\n",
    "\n",
    "Later on when we construct an endpoint which processes a submitted review we will need to make use of the `word_dict` which we have created. As such, we will save it to a file now for future use."
   ]
  },
  {
   "cell_type": "code",
   "execution_count": 15,
   "metadata": {},
   "outputs": [],
   "source": [
    "data_dir = '../data/pytorch' # The folder we will use for storing data\n",
    "if not os.path.exists(data_dir): # Make sure that the folder exists\n",
    "    os.makedirs(data_dir)"
   ]
  },
  {
   "cell_type": "code",
   "execution_count": 16,
   "metadata": {},
   "outputs": [],
   "source": [
    "with open(os.path.join(data_dir, 'word_dict.pkl'), \"wb\") as f:\n",
    "    pickle.dump(word_dict, f)"
   ]
  },
  {
   "cell_type": "markdown",
   "metadata": {},
   "source": [
    "### Transform the reviews\n",
    "\n",
    "Now that we have our word dictionary which allows us to transform the words appearing in the reviews into integers, it is time to make use of it and convert our reviews to their integer sequence representation, making sure to pad or truncate to a fixed length, which in our case is `500`."
   ]
  },
  {
   "cell_type": "code",
   "execution_count": 17,
   "metadata": {},
   "outputs": [],
   "source": [
    "def convert_and_pad(word_dict, sentence, pad=500):\n",
    "    NOWORD = 0 # We will use 0 to represent the 'no word' category\n",
    "    INFREQ = 1 # and we use 1 to represent the infrequent words, i.e., words not appearing in word_dict\n",
    "    \n",
    "    working_sentence = [NOWORD] * pad\n",
    "    \n",
    "    for word_index, word in enumerate(sentence[:pad]):\n",
    "        if word in word_dict:\n",
    "            working_sentence[word_index] = word_dict[word]\n",
    "        else:\n",
    "            working_sentence[word_index] = INFREQ\n",
    "            \n",
    "    return working_sentence, min(len(sentence), pad)\n",
    "\n",
    "def convert_and_pad_data(word_dict, data, pad=500):\n",
    "    result = []\n",
    "    lengths = []\n",
    "    \n",
    "    for sentence in data:\n",
    "        converted, leng = convert_and_pad(word_dict, sentence, pad)\n",
    "        result.append(converted)\n",
    "        lengths.append(leng)\n",
    "        \n",
    "    return np.array(result), np.array(lengths)"
   ]
  },
  {
   "cell_type": "code",
   "execution_count": 18,
   "metadata": {},
   "outputs": [],
   "source": [
    "train_X, train_X_len = convert_and_pad_data(word_dict, train_X)\n",
    "test_X, test_X_len = convert_and_pad_data(word_dict, test_X)"
   ]
  },
  {
   "cell_type": "markdown",
   "metadata": {},
   "source": [
    "As a quick check to make sure that things are working as intended, check to see what one of the reviews in the training set looks like after having been processeed. Does this look reasonable? What is the length of a review in the training set?"
   ]
  },
  {
   "cell_type": "code",
   "execution_count": 19,
   "metadata": {},
   "outputs": [
    {
     "name": "stdout",
     "output_type": "stream",
     "text": [
      "[ 625  202    1  673   13   32  588    7  117   14  117   24  119    7\n",
      "  785 2309   14    1 2926  260  197   20 2332   43   52  176    1    1\n",
      " 2484    1    1 4593  376  831   94    1    1    1 2986    1  996  107\n",
      "  237    1 3426    1 3942  861  119  662   52  104  156  141  749  823\n",
      " 3247    0    0    0    0    0    0    0    0    0    0    0    0    0\n",
      "    0    0    0    0    0    0    0    0    0    0    0    0    0    0\n",
      "    0    0    0    0    0    0    0    0    0    0    0    0    0    0\n",
      "    0    0    0    0    0    0    0    0    0    0    0    0    0    0\n",
      "    0    0    0    0    0    0    0    0    0    0    0    0    0    0\n",
      "    0    0    0    0    0    0    0    0    0    0    0    0    0    0\n",
      "    0    0    0    0    0    0    0    0    0    0    0    0    0    0\n",
      "    0    0    0    0    0    0    0    0    0    0    0    0    0    0\n",
      "    0    0    0    0    0    0    0    0    0    0    0    0    0    0\n",
      "    0    0    0    0    0    0    0    0    0    0    0    0    0    0\n",
      "    0    0    0    0    0    0    0    0    0    0    0    0    0    0\n",
      "    0    0    0    0    0    0    0    0    0    0    0    0    0    0\n",
      "    0    0    0    0    0    0    0    0    0    0    0    0    0    0\n",
      "    0    0    0    0    0    0    0    0    0    0    0    0    0    0\n",
      "    0    0    0    0    0    0    0    0    0    0    0    0    0    0\n",
      "    0    0    0    0    0    0    0    0    0    0    0    0    0    0\n",
      "    0    0    0    0    0    0    0    0    0    0    0    0    0    0\n",
      "    0    0    0    0    0    0    0    0    0    0    0    0    0    0\n",
      "    0    0    0    0    0    0    0    0    0    0    0    0    0    0\n",
      "    0    0    0    0    0    0    0    0    0    0    0    0    0    0\n",
      "    0    0    0    0    0    0    0    0    0    0    0    0    0    0\n",
      "    0    0    0    0    0    0    0    0    0    0    0    0    0    0\n",
      "    0    0    0    0    0    0    0    0    0    0    0    0    0    0\n",
      "    0    0    0    0    0    0    0    0    0    0    0    0    0    0\n",
      "    0    0    0    0    0    0    0    0    0    0    0    0    0    0\n",
      "    0    0    0    0    0    0    0    0    0    0    0    0    0    0\n",
      "    0    0    0    0    0    0    0    0    0    0    0    0    0    0\n",
      "    0    0    0    0    0    0    0    0    0    0    0    0    0    0\n",
      "    0    0    0    0    0    0    0    0    0    0    0    0    0    0\n",
      "    0    0    0    0    0    0    0    0    0    0    0    0    0    0\n",
      "    0    0    0    0    0    0    0    0    0    0    0    0    0    0\n",
      "    0    0    0    0    0    0    0    0    0    0]\n",
      "500\n",
      "57\n"
     ]
    }
   ],
   "source": [
    "# Use this cell to examine one of the processed reviews to make sure everything is working as intended.\n",
    "print(train_X[100])\n",
    "print(len(train_X[100]))\n",
    "print(train_X_len[100])"
   ]
  },
  {
   "cell_type": "markdown",
   "metadata": {},
   "source": [
    "**Question:** In the cells above we use the `preprocess_data` and `convert_and_pad_data` methods to process both the training and testing set. Why or why not might this be a problem?"
   ]
  },
  {
   "cell_type": "markdown",
   "metadata": {},
   "source": [
    "**Answer:**\n",
    "\n",
    "The 'preprocess_data' method converts the text to a set of words, removes stop words and stems them, which might lead to some of the significant information being lost. For example, when the words are stemmed, the information added by the suffix or prefix is lost, and sometimes it can change the meaning into its complete opposite. Similarly, when stop words like 'not' are removed, it changes the whole meaning of the sentence. For example, the sentences \"It was a good movie\" and \"It was not a good movie\" means the same thing.\n",
    "\n",
    "The convert_and_pad_data method creates a mapping of the words with the frequency of that words in the dataset and pads it appropriately. Additionally, 0 and 1 are used to represent no word and infrequent word respectively. However, the mapping is designed in such a way that the most frequent words are indexed with lower values. So the most frequent words are indexed 2, 3 and so on. There is not much difference numerically between the indexes 1 and  2, but the difference in their frequency is significant. So that might be a problem as it's represented incorrectly. \n"
   ]
  },
  {
   "cell_type": "markdown",
   "metadata": {},
   "source": [
    "## Step 3: Upload the data to S3\n",
    "\n",
    "As in the XGBoost notebook, we will need to upload the training dataset to S3 in order for our training code to access it. For now we will save it locally and we will upload to S3 later on.\n",
    "\n",
    "### Save the processed training dataset locally\n",
    "\n",
    "It is important to note the format of the data that we are saving as we will need to know it when we write the training code. In our case, each row of the dataset has the form `label`, `length`, `review[500]` where `review[500]` is a sequence of `500` integers representing the words in the review."
   ]
  },
  {
   "cell_type": "code",
   "execution_count": 20,
   "metadata": {},
   "outputs": [],
   "source": [
    "import pandas as pd\n",
    "    \n",
    "pd.concat([pd.DataFrame(train_y), pd.DataFrame(train_X_len), pd.DataFrame(train_X)], axis=1) \\\n",
    "        .to_csv(os.path.join(data_dir, 'train.csv'), header=False, index=False)"
   ]
  },
  {
   "cell_type": "markdown",
   "metadata": {},
   "source": [
    "### Uploading the training data\n",
    "\n",
    "\n",
    "Next, we need to upload the training data to the SageMaker default S3 bucket so that we can provide access to it while training our model."
   ]
  },
  {
   "cell_type": "code",
   "execution_count": 21,
   "metadata": {},
   "outputs": [],
   "source": [
    "import sagemaker\n",
    "\n",
    "sagemaker_session = sagemaker.Session()\n",
    "\n",
    "bucket = sagemaker_session.default_bucket()\n",
    "prefix = 'sagemaker/sentiment_rnn'\n",
    "\n",
    "role = sagemaker.get_execution_role()"
   ]
  },
  {
   "cell_type": "code",
   "execution_count": 22,
   "metadata": {},
   "outputs": [],
   "source": [
    "input_data = sagemaker_session.upload_data(path=data_dir, bucket=bucket, key_prefix=prefix)"
   ]
  },
  {
   "cell_type": "markdown",
   "metadata": {},
   "source": [
    "**NOTE:** The cell above uploads the entire contents of our data directory. This includes the `word_dict.pkl` file. This is fortunate as we will need this later on when we create an endpoint that accepts an arbitrary review. For now, we will just take note of the fact that it resides in the data directory (and so also in the S3 training bucket) and that we will need to make sure it gets saved in the model directory."
   ]
  },
  {
   "cell_type": "markdown",
   "metadata": {},
   "source": [
    "## Step 4: Build and Train the PyTorch Model\n",
    "\n",
    "In the XGBoost notebook we discussed what a model is in the SageMaker framework. In particular, a model comprises three objects\n",
    "\n",
    " - Model Artifacts,\n",
    " - Training Code, and\n",
    " - Inference Code,\n",
    " \n",
    "each of which interact with one another. In the XGBoost example we used training and inference code that was provided by Amazon. Here we will still be using containers provided by Amazon with the added benefit of being able to include our own custom code.\n",
    "\n",
    "We will start by implementing our own neural network in PyTorch along with a training script. For the purposes of this project we have provided the necessary model object in the `model.py` file, inside of the `train` folder. You can see the provided implementation by running the cell below."
   ]
  },
  {
   "cell_type": "code",
   "execution_count": 23,
   "metadata": {},
   "outputs": [
    {
     "name": "stdout",
     "output_type": "stream",
     "text": [
      "\u001b[34mimport\u001b[39;49;00m \u001b[04m\u001b[36mtorch.nn\u001b[39;49;00m \u001b[34mas\u001b[39;49;00m \u001b[04m\u001b[36mnn\u001b[39;49;00m\r\n",
      "\r\n",
      "\u001b[34mclass\u001b[39;49;00m \u001b[04m\u001b[32mLSTMClassifier\u001b[39;49;00m(nn.Module):\r\n",
      "    \u001b[33m\"\"\"\u001b[39;49;00m\r\n",
      "\u001b[33m    This is the simple RNN model we will be using to perform Sentiment Analysis.\u001b[39;49;00m\r\n",
      "\u001b[33m    \"\"\"\u001b[39;49;00m\r\n",
      "\r\n",
      "    \u001b[34mdef\u001b[39;49;00m \u001b[32m__init__\u001b[39;49;00m(\u001b[36mself\u001b[39;49;00m, embedding_dim, hidden_dim, vocab_size):\r\n",
      "        \u001b[33m\"\"\"\u001b[39;49;00m\r\n",
      "\u001b[33m        Initialize the model by settingg up the various layers.\u001b[39;49;00m\r\n",
      "\u001b[33m        \"\"\"\u001b[39;49;00m\r\n",
      "        \u001b[36msuper\u001b[39;49;00m(LSTMClassifier, \u001b[36mself\u001b[39;49;00m).\u001b[32m__init__\u001b[39;49;00m()\r\n",
      "\r\n",
      "        \u001b[36mself\u001b[39;49;00m.embedding = nn.Embedding(vocab_size, embedding_dim, padding_idx=\u001b[34m0\u001b[39;49;00m)\r\n",
      "        \u001b[36mself\u001b[39;49;00m.lstm = nn.LSTM(embedding_dim, hidden_dim)\r\n",
      "        \u001b[36mself\u001b[39;49;00m.dense = nn.Linear(in_features=hidden_dim, out_features=\u001b[34m1\u001b[39;49;00m)\r\n",
      "        \u001b[36mself\u001b[39;49;00m.sig = nn.Sigmoid()\r\n",
      "        \r\n",
      "        \u001b[36mself\u001b[39;49;00m.word_dict = \u001b[36mNone\u001b[39;49;00m\r\n",
      "\r\n",
      "    \u001b[34mdef\u001b[39;49;00m \u001b[32mforward\u001b[39;49;00m(\u001b[36mself\u001b[39;49;00m, x):\r\n",
      "        \u001b[33m\"\"\"\u001b[39;49;00m\r\n",
      "\u001b[33m        Perform a forward pass of our model on some input.\u001b[39;49;00m\r\n",
      "\u001b[33m        \"\"\"\u001b[39;49;00m\r\n",
      "        x = x.t()\r\n",
      "        lengths = x[\u001b[34m0\u001b[39;49;00m,:]\r\n",
      "        reviews = x[\u001b[34m1\u001b[39;49;00m:,:]\r\n",
      "        embeds = \u001b[36mself\u001b[39;49;00m.embedding(reviews)\r\n",
      "        lstm_out, _ = \u001b[36mself\u001b[39;49;00m.lstm(embeds)\r\n",
      "        out = \u001b[36mself\u001b[39;49;00m.dense(lstm_out)\r\n",
      "        out = out[lengths - \u001b[34m1\u001b[39;49;00m, \u001b[36mrange\u001b[39;49;00m(\u001b[36mlen\u001b[39;49;00m(lengths))]\r\n",
      "        \u001b[34mreturn\u001b[39;49;00m \u001b[36mself\u001b[39;49;00m.sig(out.squeeze())\r\n"
     ]
    }
   ],
   "source": [
    "!pygmentize train/model.py"
   ]
  },
  {
   "cell_type": "markdown",
   "metadata": {},
   "source": [
    "The important takeaway from the implementation provided is that there are three parameters that we may wish to tweak to improve the performance of our model. These are the embedding dimension, the hidden dimension and the size of the vocabulary. We will likely want to make these parameters configurable in the training script so that if we wish to modify them we do not need to modify the script itself. We will see how to do this later on. To start we will write some of the training code in the notebook so that we can more easily diagnose any issues that arise.\n",
    "\n",
    "First we will load a small portion of the training data set to use as a sample. It would be very time consuming to try and train the model completely in the notebook as we do not have access to a gpu and the compute instance that we are using is not particularly powerful. However, we can work on a small bit of the data to get a feel for how our training script is behaving."
   ]
  },
  {
   "cell_type": "code",
   "execution_count": 24,
   "metadata": {},
   "outputs": [],
   "source": [
    "import torch\n",
    "import torch.utils.data\n",
    "\n",
    "# Read in only the first 250 rows\n",
    "train_sample = pd.read_csv(os.path.join(data_dir, 'train.csv'), header=None, names=None, nrows=250)\n",
    "\n",
    "# Turn the input pandas dataframe into tensors\n",
    "train_sample_y = torch.from_numpy(train_sample[[0]].values).float().squeeze()\n",
    "train_sample_X = torch.from_numpy(train_sample.drop([0], axis=1).values).long()\n",
    "\n",
    "# Build the dataset\n",
    "train_sample_ds = torch.utils.data.TensorDataset(train_sample_X, train_sample_y)\n",
    "# Build the dataloader\n",
    "train_sample_dl = torch.utils.data.DataLoader(train_sample_ds, batch_size=50)"
   ]
  },
  {
   "cell_type": "markdown",
   "metadata": {},
   "source": [
    "### (TODO) Writing the training method\n",
    "\n",
    "Next we need to write the training code itself. This should be very similar to training methods that you have written before to train PyTorch models. We will leave any difficult aspects such as model saving / loading and parameter loading until a little later."
   ]
  },
  {
   "cell_type": "code",
   "execution_count": 25,
   "metadata": {},
   "outputs": [],
   "source": [
    "def train(model, train_loader, epochs, optimizer, loss_fn, device):\n",
    "    for epoch in range(1, epochs + 1):\n",
    "        model.train()\n",
    "        total_loss = 0\n",
    "        \n",
    "        for batch in train_loader:         \n",
    "            batch_X, batch_y = batch\n",
    "            \n",
    "            batch_X = batch_X.to(device)\n",
    "            batch_y = batch_y.to(device)\n",
    "            \n",
    "            # TODO: Complete this train method to train the model provided.\n",
    "            \n",
    "            optimizer.zero_grad()\n",
    "            \n",
    "            output = model.forward(batch_X)\n",
    "            loss = loss_fn(output,batch_y)\n",
    "            loss.backward()\n",
    "            \n",
    "            optimizer.step()\n",
    "            \n",
    "            total_loss += loss.data.item()\n",
    "        print(\"Epoch: {}, BCELoss: {}\".format(epoch, total_loss / len(train_loader)))"
   ]
  },
  {
   "cell_type": "markdown",
   "metadata": {},
   "source": [
    "Supposing we have the training method above, we will test that it is working by writing a bit of code in the notebook that executes our training method on the small sample training set that we loaded earlier. The reason for doing this in the notebook is so that we have an opportunity to fix any errors that arise early when they are easier to diagnose."
   ]
  },
  {
   "cell_type": "code",
   "execution_count": 26,
   "metadata": {},
   "outputs": [
    {
     "name": "stdout",
     "output_type": "stream",
     "text": [
      "cpu\n",
      "Epoch: 1, BCELoss: 0.6916956424713134\n",
      "Epoch: 2, BCELoss: 0.6805495977401733\n",
      "Epoch: 3, BCELoss: 0.670571255683899\n",
      "Epoch: 4, BCELoss: 0.6594351768493653\n",
      "Epoch: 5, BCELoss: 0.6457682371139526\n"
     ]
    }
   ],
   "source": [
    "import torch.optim as optim\n",
    "from train.model import LSTMClassifier\n",
    "\n",
    "device = torch.device(\"cuda\" if torch.cuda.is_available() else \"cpu\")\n",
    "print(device)\n",
    "model = LSTMClassifier(32, 100, 5000).to(device)\n",
    "optimizer = optim.Adam(model.parameters())\n",
    "loss_fn = torch.nn.BCELoss()\n",
    "\n",
    "train(model, train_sample_dl, 5, optimizer, loss_fn, device)"
   ]
  },
  {
   "cell_type": "markdown",
   "metadata": {},
   "source": [
    "In order to construct a PyTorch model using SageMaker we must provide SageMaker with a training script. We may optionally include a directory which will be copied to the container and from which our training code will be run. When the training container is executed it will check the uploaded directory (if there is one) for a `requirements.txt` file and install any required Python libraries, after which the training script will be run."
   ]
  },
  {
   "cell_type": "markdown",
   "metadata": {},
   "source": [
    "### (TODO) Training the model\n",
    "\n",
    "When a PyTorch model is constructed in SageMaker, an entry point must be specified. This is the Python file which will be executed when the model is trained. Inside of the `train` directory is a file called `train.py` which has been provided and which contains most of the necessary code to train our model. The only thing that is missing is the implementation of the `train()` method which you wrote earlier in this notebook.\n",
    "\n",
    "**TODO**: Copy the `train()` method written above and paste it into the `train/train.py` file where required.\n",
    "\n",
    "The way that SageMaker passes hyperparameters to the training script is by way of arguments. These arguments can then be parsed and used in the training script. To see how this is done take a look at the provided `train/train.py` file."
   ]
  },
  {
   "cell_type": "code",
   "execution_count": 27,
   "metadata": {},
   "outputs": [
    {
     "name": "stdout",
     "output_type": "stream",
     "text": [
      "Overwriting train/train.py\n"
     ]
    }
   ],
   "source": [
    "%%writefile train/train.py\n",
    "import argparse\n",
    "import json\n",
    "import os\n",
    "import pickle\n",
    "import sys\n",
    "import sagemaker_containers\n",
    "import pandas as pd\n",
    "import torch\n",
    "import torch.optim as optim\n",
    "import torch.utils.data\n",
    "\n",
    "from model import LSTMClassifier\n",
    "\n",
    "def model_fn(model_dir):\n",
    "    \"\"\"Load the PyTorch model from the `model_dir` directory.\"\"\"\n",
    "    print(\"Loading model.\")\n",
    "\n",
    "    # First, load the parameters used to create the model.\n",
    "    model_info = {}\n",
    "    model_info_path = os.path.join(model_dir, 'model_info.pth')\n",
    "    with open(model_info_path, 'rb') as f:\n",
    "        model_info = torch.load(f)\n",
    "\n",
    "    print(\"model_info: {}\".format(model_info))\n",
    "\n",
    "    # Determine the device and construct the model.\n",
    "    device = torch.device(\"cuda\" if torch.cuda.is_available() else \"cpu\")\n",
    "    model = LSTMClassifier(model_info['embedding_dim'], model_info['hidden_dim'], model_info['vocab_size'])\n",
    "\n",
    "    # Load the stored model parameters.\n",
    "    model_path = os.path.join(model_dir, 'model.pth')\n",
    "    with open(model_path, 'rb') as f:\n",
    "        model.load_state_dict(torch.load(f))\n",
    "\n",
    "    # Load the saved word_dict.\n",
    "    word_dict_path = os.path.join(model_dir, 'word_dict.pkl')\n",
    "    with open(word_dict_path, 'rb') as f:\n",
    "        model.word_dict = pickle.load(f)\n",
    "\n",
    "    model.to(device).eval()\n",
    "\n",
    "    print(\"Done loading model.\")\n",
    "    return model\n",
    "\n",
    "def _get_train_data_loader(batch_size, training_dir):\n",
    "    print(\"Get train data loader.\")\n",
    "\n",
    "    train_data = pd.read_csv(os.path.join(training_dir, \"train.csv\"), header=None, names=None)\n",
    "\n",
    "    train_y = torch.from_numpy(train_data[[0]].values).float().squeeze()\n",
    "    train_X = torch.from_numpy(train_data.drop([0], axis=1).values).long()\n",
    "\n",
    "    train_ds = torch.utils.data.TensorDataset(train_X, train_y)\n",
    "\n",
    "    return torch.utils.data.DataLoader(train_ds, batch_size=batch_size)\n",
    "\n",
    "\n",
    "def train(model, train_loader, epochs, optimizer, loss_fn, device):\n",
    "    \"\"\"\n",
    "    This is the training method that is called by the PyTorch training script. The parameters\n",
    "    passed are as follows:\n",
    "    model        - The PyTorch model that we wish to train.\n",
    "    train_loader - The PyTorch DataLoader that should be used during training.\n",
    "    epochs       - The total number of epochs to train for.\n",
    "    optimizer    - The optimizer to use during training.\n",
    "    loss_fn      - The loss function used for training.\n",
    "    device       - Where the model and data should be loaded (gpu or cpu).\n",
    "    \"\"\"\n",
    "    \n",
    "    # TODO: Paste the train() method developed in the notebook here.\n",
    "    \n",
    "    for epoch in range(1, epochs + 1):\n",
    "        model.train()\n",
    "        total_loss = 0\n",
    "        \n",
    "        for batch in train_loader:         \n",
    "            batch_X, batch_y = batch\n",
    "            \n",
    "            batch_X = batch_X.to(device)\n",
    "            batch_y = batch_y.to(device)\n",
    "            \n",
    "            # TODO: Complete this train method to train the model provided.\n",
    "            \n",
    "            optimizer.zero_grad()\n",
    "            \n",
    "            output = model.forward(batch_X)\n",
    "            loss = loss_fn(output,batch_y)\n",
    "            loss.backward()\n",
    "            \n",
    "            optimizer.step()\n",
    "            \n",
    "            total_loss += loss.data.item()\n",
    "        print(\"Epoch: {}, BCELoss: {}\".format(epoch, total_loss / len(train_loader)))\n",
    "\n",
    "\n",
    "\n",
    "if __name__ == '__main__':\n",
    "    # All of the model parameters and training parameters are sent as arguments when the script\n",
    "    # is executed. Here we set up an argument parser to easily access the parameters.\n",
    "\n",
    "    parser = argparse.ArgumentParser()\n",
    "\n",
    "    # Training Parameters\n",
    "    parser.add_argument('--batch-size', type=int, default=512, metavar='N',\n",
    "                        help='input batch size for training (default: 512)')\n",
    "    parser.add_argument('--epochs', type=int, default=10, metavar='N',\n",
    "                        help='number of epochs to train (default: 10)')\n",
    "    parser.add_argument('--seed', type=int, default=1, metavar='S',\n",
    "                        help='random seed (default: 1)')\n",
    "\n",
    "    # Model Parameters\n",
    "    parser.add_argument('--embedding_dim', type=int, default=32, metavar='N',\n",
    "                        help='size of the word embeddings (default: 32)')\n",
    "    parser.add_argument('--hidden_dim', type=int, default=100, metavar='N',\n",
    "                        help='size of the hidden dimension (default: 100)')\n",
    "    parser.add_argument('--vocab_size', type=int, default=5000, metavar='N',\n",
    "                        help='size of the vocabulary (default: 5000)')\n",
    "\n",
    "    # SageMaker Parameters\n",
    "    parser.add_argument('--hosts', type=list, default=json.loads(os.environ['SM_HOSTS']))\n",
    "    parser.add_argument('--current-host', type=str, default=os.environ['SM_CURRENT_HOST'])\n",
    "    parser.add_argument('--model-dir', type=str, default=os.environ['SM_MODEL_DIR'])\n",
    "    parser.add_argument('--data-dir', type=str, default=os.environ['SM_CHANNEL_TRAINING'])\n",
    "    parser.add_argument('--num-gpus', type=int, default=os.environ['SM_NUM_GPUS'])\n",
    "\n",
    "    args = parser.parse_args()\n",
    "\n",
    "    device = torch.device(\"cuda\" if torch.cuda.is_available() else \"cpu\")\n",
    "    print(\"Using device {}.\".format(device))\n",
    "\n",
    "    torch.manual_seed(args.seed)\n",
    "\n",
    "    # Load the training data.\n",
    "    train_loader = _get_train_data_loader(args.batch_size, args.data_dir)\n",
    "\n",
    "    # Build the model.\n",
    "    model = LSTMClassifier(args.embedding_dim, args.hidden_dim, args.vocab_size).to(device)\n",
    "\n",
    "    with open(os.path.join(args.data_dir, \"word_dict.pkl\"), \"rb\") as f:\n",
    "        model.word_dict = pickle.load(f)\n",
    "\n",
    "    print(\"Model loaded with embedding_dim {}, hidden_dim {}, vocab_size {}.\".format(\n",
    "        args.embedding_dim, args.hidden_dim, args.vocab_size\n",
    "    ))\n",
    "\n",
    "    # Train the model.\n",
    "    optimizer = optim.Adam(model.parameters())\n",
    "    loss_fn = torch.nn.BCELoss()\n",
    "\n",
    "    train(model, train_loader, args.epochs, optimizer, loss_fn, device)\n",
    "\n",
    "    # Save the parameters used to construct the model\n",
    "    model_info_path = os.path.join(args.model_dir, 'model_info.pth')\n",
    "    with open(model_info_path, 'wb') as f:\n",
    "        model_info = {\n",
    "            'embedding_dim': args.embedding_dim,\n",
    "            'hidden_dim': args.hidden_dim,\n",
    "            'vocab_size': args.vocab_size,\n",
    "        }\n",
    "        torch.save(model_info, f)\n",
    "\n",
    "\t# Save the word_dict\n",
    "    word_dict_path = os.path.join(args.model_dir, 'word_dict.pkl')\n",
    "    with open(word_dict_path, 'wb') as f:\n",
    "        pickle.dump(model.word_dict, f)\n",
    "\n",
    "\t# Save the model parameters\n",
    "    model_path = os.path.join(args.model_dir, 'model.pth')\n",
    "    with open(model_path, 'wb') as f:\n",
    "        torch.save(model.cpu().state_dict(), f)"
   ]
  },
  {
   "cell_type": "code",
   "execution_count": 54,
   "metadata": {},
   "outputs": [],
   "source": [
    "from sagemaker.pytorch import PyTorch\n",
    "\n",
    "estimator = PyTorch(entry_point=\"train.py\",\n",
    "                    source_dir=\"train\",\n",
    "                    role=role,\n",
    "                    framework_version='0.4.0',\n",
    "                    train_instance_count=1,\n",
    "                    train_instance_type='ml.p2.xlarge',\n",
    "                    hyperparameters={\n",
    "                        'epochs': 10,\n",
    "                        'hidden_dim': 200,\n",
    "                    })"
   ]
  },
  {
   "cell_type": "code",
   "execution_count": 55,
   "metadata": {},
   "outputs": [
    {
     "name": "stdout",
     "output_type": "stream",
     "text": [
      "2019-05-24 10:55:57 Starting - Starting the training job...\n",
      "2019-05-24 10:55:58 Starting - Launching requested ML instances......\n",
      "2019-05-24 10:57:02 Starting - Preparing the instances for training......\n",
      "2019-05-24 10:58:07 Downloading - Downloading input data...\n",
      "2019-05-24 10:58:37 Training - Downloading the training image...\n",
      "\u001b[31mbash: cannot set terminal process group (-1): Inappropriate ioctl for device\u001b[0m\n",
      "\u001b[31mbash: no job control in this shell\u001b[0m\n",
      "\u001b[31m2019-05-24 10:59:16,352 sagemaker-containers INFO     Imported framework sagemaker_pytorch_container.training\u001b[0m\n",
      "\u001b[31m2019-05-24 10:59:16,375 sagemaker_pytorch_container.training INFO     Block until all host DNS lookups succeed.\u001b[0m\n",
      "\u001b[31m2019-05-24 10:59:19,383 sagemaker_pytorch_container.training INFO     Invoking user training script.\u001b[0m\n",
      "\u001b[31m2019-05-24 10:59:19,622 sagemaker-containers INFO     Module train does not provide a setup.py. \u001b[0m\n",
      "\u001b[31mGenerating setup.py\u001b[0m\n",
      "\u001b[31m2019-05-24 10:59:19,622 sagemaker-containers INFO     Generating setup.cfg\u001b[0m\n",
      "\u001b[31m2019-05-24 10:59:19,623 sagemaker-containers INFO     Generating MANIFEST.in\u001b[0m\n",
      "\u001b[31m2019-05-24 10:59:19,623 sagemaker-containers INFO     Installing module with the following command:\u001b[0m\n",
      "\u001b[31m/usr/bin/python -m pip install -U . -r requirements.txt\u001b[0m\n",
      "\u001b[31mProcessing /opt/ml/code\u001b[0m\n",
      "\u001b[31mCollecting pandas (from -r requirements.txt (line 1))\u001b[0m\n",
      "\u001b[31m  Downloading https://files.pythonhosted.org/packages/74/24/0cdbf8907e1e3bc5a8da03345c23cbed7044330bb8f73bb12e711a640a00/pandas-0.24.2-cp35-cp35m-manylinux1_x86_64.whl (10.0MB)\u001b[0m\n",
      "\u001b[31mCollecting numpy (from -r requirements.txt (line 2))\u001b[0m\n",
      "\u001b[31m  Downloading https://files.pythonhosted.org/packages/f6/f3/cc6c6745347c1e997cc3e58390584a250b8e22b6dfc45414a7d69a3df016/numpy-1.16.3-cp35-cp35m-manylinux1_x86_64.whl (17.2MB)\u001b[0m\n",
      "\u001b[31mCollecting nltk (from -r requirements.txt (line 3))\n",
      "  Downloading https://files.pythonhosted.org/packages/73/56/90178929712ce427ebad179f8dc46c8deef4e89d4c853092bee1efd57d05/nltk-3.4.1.zip (3.1MB)\u001b[0m\n",
      "\u001b[31mCollecting beautifulsoup4 (from -r requirements.txt (line 4))\n",
      "  Downloading https://files.pythonhosted.org/packages/1d/5d/3260694a59df0ec52f8b4883f5d23b130bc237602a1411fa670eae12351e/beautifulsoup4-4.7.1-py3-none-any.whl (94kB)\u001b[0m\n",
      "\u001b[31mCollecting html5lib (from -r requirements.txt (line 5))\n",
      "  Downloading https://files.pythonhosted.org/packages/a5/62/bbd2be0e7943ec8504b517e62bab011b4946e1258842bc159e5dfde15b96/html5lib-1.0.1-py2.py3-none-any.whl (117kB)\u001b[0m\n",
      "\u001b[31mRequirement already satisfied, skipping upgrade: python-dateutil>=2.5.0 in /usr/local/lib/python3.5/dist-packages (from pandas->-r requirements.txt (line 1)) (2.7.5)\u001b[0m\n",
      "\u001b[31mCollecting pytz>=2011k (from pandas->-r requirements.txt (line 1))\n",
      "  Downloading https://files.pythonhosted.org/packages/3d/73/fe30c2daaaa0713420d0382b16fbb761409f532c56bdcc514bf7b6262bb6/pytz-2019.1-py2.py3-none-any.whl (510kB)\u001b[0m\n",
      "\u001b[31mRequirement already satisfied, skipping upgrade: six in /usr/local/lib/python3.5/dist-packages (from nltk->-r requirements.txt (line 3)) (1.11.0)\u001b[0m\n",
      "\u001b[31mCollecting soupsieve>=1.2 (from beautifulsoup4->-r requirements.txt (line 4))\n",
      "  Downloading https://files.pythonhosted.org/packages/b9/a5/7ea40d0f8676bde6e464a6435a48bc5db09b1a8f4f06d41dd997b8f3c616/soupsieve-1.9.1-py2.py3-none-any.whl\u001b[0m\n",
      "\u001b[31mCollecting webencodings (from html5lib->-r requirements.txt (line 5))\n",
      "  Downloading https://files.pythonhosted.org/packages/f4/24/2a3e3df732393fed8b3ebf2ec078f05546de641fe1b667ee316ec1dcf3b7/webencodings-0.5.1-py2.py3-none-any.whl\u001b[0m\n",
      "\u001b[31mBuilding wheels for collected packages: nltk, train\n",
      "  Running setup.py bdist_wheel for nltk: started\u001b[0m\n",
      "\u001b[31m  Running setup.py bdist_wheel for nltk: finished with status 'done'\n",
      "  Stored in directory: /root/.cache/pip/wheels/97/8a/10/d646015f33c525688e91986c4544c68019b19a473cb33d3b55\n",
      "  Running setup.py bdist_wheel for train: started\u001b[0m\n",
      "\u001b[31m  Running setup.py bdist_wheel for train: finished with status 'done'\n",
      "  Stored in directory: /tmp/pip-ephem-wheel-cache-2eup2ihx/wheels/35/24/16/37574d11bf9bde50616c67372a334f94fa8356bc7164af8ca3\u001b[0m\n",
      "\u001b[31mSuccessfully built nltk train\u001b[0m\n",
      "\u001b[31mInstalling collected packages: numpy, pytz, pandas, nltk, soupsieve, beautifulsoup4, webencodings, html5lib, train\n",
      "  Found existing installation: numpy 1.15.4\n",
      "    Uninstalling numpy-1.15.4:\n",
      "      Successfully uninstalled numpy-1.15.4\u001b[0m\n",
      "\u001b[31mSuccessfully installed beautifulsoup4-4.7.1 html5lib-1.0.1 nltk-3.4.1 numpy-1.16.3 pandas-0.24.2 pytz-2019.1 soupsieve-1.9.1 train-1.0.0 webencodings-0.5.1\u001b[0m\n",
      "\u001b[31mYou are using pip version 18.1, however version 19.1.1 is available.\u001b[0m\n",
      "\u001b[31mYou should consider upgrading via the 'pip install --upgrade pip' command.\u001b[0m\n",
      "\u001b[31m2019-05-24 10:59:31,237 sagemaker-containers INFO     Invoking user script\n",
      "\u001b[0m\n",
      "\u001b[31mTraining Env:\n",
      "\u001b[0m\n",
      "\u001b[31m{\n",
      "    \"output_dir\": \"/opt/ml/output\",\n",
      "    \"additional_framework_parameters\": {},\n",
      "    \"log_level\": 20,\n",
      "    \"hosts\": [\n",
      "        \"algo-1\"\n",
      "    ],\n",
      "    \"current_host\": \"algo-1\",\n",
      "    \"input_data_config\": {\n",
      "        \"training\": {\n",
      "            \"S3DistributionType\": \"FullyReplicated\",\n",
      "            \"TrainingInputMode\": \"File\",\n",
      "            \"RecordWrapperType\": \"None\"\n",
      "        }\n",
      "    },\n",
      "    \"input_config_dir\": \"/opt/ml/input/config\",\n",
      "    \"model_dir\": \"/opt/ml/model\",\n",
      "    \"resource_config\": {\n",
      "        \"network_interface_name\": \"ethwe\",\n",
      "        \"hosts\": [\n",
      "            \"algo-1\"\n",
      "        ],\n",
      "        \"current_host\": \"algo-1\"\n",
      "    },\n",
      "    \"hyperparameters\": {\n",
      "        \"hidden_dim\": 200,\n",
      "        \"epochs\": 10\n",
      "    },\n",
      "    \"user_entry_point\": \"train.py\",\n",
      "    \"module_dir\": \"s3://sagemaker-ap-south-1-674386208739/sagemaker-pytorch-2019-05-24-10-55-55-342/source/sourcedir.tar.gz\",\n",
      "    \"channel_input_dirs\": {\n",
      "        \"training\": \"/opt/ml/input/data/training\"\n",
      "    },\n",
      "    \"input_dir\": \"/opt/ml/input\",\n",
      "    \"job_name\": \"sagemaker-pytorch-2019-05-24-10-55-55-342\",\n",
      "    \"network_interface_name\": \"ethwe\",\n",
      "    \"module_name\": \"train\",\n",
      "    \"output_data_dir\": \"/opt/ml/output/data\",\n",
      "    \"num_cpus\": 4,\n",
      "    \"framework_module\": \"sagemaker_pytorch_container.training:main\",\n",
      "    \"output_intermediate_dir\": \"/opt/ml/output/intermediate\",\n",
      "    \"num_gpus\": 1\u001b[0m\n",
      "\u001b[31m}\n",
      "\u001b[0m\n",
      "\u001b[31mEnvironment variables:\n",
      "\u001b[0m\n",
      "\u001b[31mSM_MODEL_DIR=/opt/ml/model\u001b[0m\n",
      "\u001b[31mSM_INPUT_DATA_CONFIG={\"training\":{\"RecordWrapperType\":\"None\",\"S3DistributionType\":\"FullyReplicated\",\"TrainingInputMode\":\"File\"}}\u001b[0m\n",
      "\u001b[31mSM_LOG_LEVEL=20\u001b[0m\n",
      "\u001b[31mSM_HPS={\"epochs\":10,\"hidden_dim\":200}\u001b[0m\n",
      "\u001b[31mSM_INPUT_DIR=/opt/ml/input\u001b[0m\n",
      "\u001b[31mSM_CHANNELS=[\"training\"]\u001b[0m\n",
      "\u001b[31mSM_NUM_GPUS=1\u001b[0m\n",
      "\u001b[31mSM_CHANNEL_TRAINING=/opt/ml/input/data/training\u001b[0m\n",
      "\u001b[31mSM_MODULE_NAME=train\u001b[0m\n",
      "\u001b[31mSM_CURRENT_HOST=algo-1\u001b[0m\n",
      "\u001b[31mSM_RESOURCE_CONFIG={\"current_host\":\"algo-1\",\"hosts\":[\"algo-1\"],\"network_interface_name\":\"ethwe\"}\u001b[0m\n",
      "\u001b[31mSM_USER_ARGS=[\"--epochs\",\"10\",\"--hidden_dim\",\"200\"]\u001b[0m\n",
      "\u001b[31mSM_INPUT_CONFIG_DIR=/opt/ml/input/config\u001b[0m\n",
      "\u001b[31mSM_OUTPUT_DATA_DIR=/opt/ml/output/data\u001b[0m\n",
      "\u001b[31mSM_OUTPUT_DIR=/opt/ml/output\u001b[0m\n",
      "\u001b[31mSM_MODULE_DIR=s3://sagemaker-ap-south-1-674386208739/sagemaker-pytorch-2019-05-24-10-55-55-342/source/sourcedir.tar.gz\u001b[0m\n",
      "\u001b[31mSM_HP_EPOCHS=10\u001b[0m\n",
      "\u001b[31mSM_TRAINING_ENV={\"additional_framework_parameters\":{},\"channel_input_dirs\":{\"training\":\"/opt/ml/input/data/training\"},\"current_host\":\"algo-1\",\"framework_module\":\"sagemaker_pytorch_container.training:main\",\"hosts\":[\"algo-1\"],\"hyperparameters\":{\"epochs\":10,\"hidden_dim\":200},\"input_config_dir\":\"/opt/ml/input/config\",\"input_data_config\":{\"training\":{\"RecordWrapperType\":\"None\",\"S3DistributionType\":\"FullyReplicated\",\"TrainingInputMode\":\"File\"}},\"input_dir\":\"/opt/ml/input\",\"job_name\":\"sagemaker-pytorch-2019-05-24-10-55-55-342\",\"log_level\":20,\"model_dir\":\"/opt/ml/model\",\"module_dir\":\"s3://sagemaker-ap-south-1-674386208739/sagemaker-pytorch-2019-05-24-10-55-55-342/source/sourcedir.tar.gz\",\"module_name\":\"train\",\"network_interface_name\":\"ethwe\",\"num_cpus\":4,\"num_gpus\":1,\"output_data_dir\":\"/opt/ml/output/data\",\"output_dir\":\"/opt/ml/output\",\"output_intermediate_dir\":\"/opt/ml/output/intermediate\",\"resource_config\":{\"current_host\":\"algo-1\",\"hosts\":[\"algo-1\"],\"network_interface_name\":\"ethwe\"},\"user_entry_point\":\"train.py\"}\u001b[0m\n",
      "\u001b[31mSM_FRAMEWORK_PARAMS={}\u001b[0m\n",
      "\u001b[31mSM_NETWORK_INTERFACE_NAME=ethwe\u001b[0m\n",
      "\u001b[31mSM_NUM_CPUS=4\u001b[0m\n",
      "\u001b[31mSM_USER_ENTRY_POINT=train.py\u001b[0m\n",
      "\u001b[31mSM_OUTPUT_INTERMEDIATE_DIR=/opt/ml/output/intermediate\u001b[0m\n",
      "\u001b[31mSM_FRAMEWORK_MODULE=sagemaker_pytorch_container.training:main\u001b[0m\n",
      "\u001b[31mSM_HOSTS=[\"algo-1\"]\u001b[0m\n",
      "\u001b[31mSM_HP_HIDDEN_DIM=200\u001b[0m\n",
      "\u001b[31mPYTHONPATH=/usr/local/bin:/usr/lib/python35.zip:/usr/lib/python3.5:/usr/lib/python3.5/plat-x86_64-linux-gnu:/usr/lib/python3.5/lib-dynload:/usr/local/lib/python3.5/dist-packages:/usr/lib/python3/dist-packages\n",
      "\u001b[0m\n",
      "\u001b[31mInvoking script with the following command:\n",
      "\u001b[0m\n",
      "\u001b[31m/usr/bin/python -m train --epochs 10 --hidden_dim 200\n",
      "\n",
      "\u001b[0m\n",
      "\u001b[31mUsing device cuda.\u001b[0m\n",
      "\u001b[31mGet train data loader.\u001b[0m\n"
     ]
    },
    {
     "name": "stdout",
     "output_type": "stream",
     "text": [
      "\u001b[31mModel loaded with embedding_dim 32, hidden_dim 200, vocab_size 5000.\u001b[0m\n",
      "\n",
      "2019-05-24 10:59:45 Training - Training image download completed. Training in progress.\u001b[31mEpoch: 1, BCELoss: 0.6676811296112684\u001b[0m\n",
      "\u001b[31mEpoch: 2, BCELoss: 0.590050390788487\u001b[0m\n",
      "\u001b[31mEpoch: 3, BCELoss: 0.4899488821321604\u001b[0m\n",
      "\u001b[31mEpoch: 4, BCELoss: 0.43150281541201535\u001b[0m\n",
      "\u001b[31mEpoch: 5, BCELoss: 0.3827749022415706\u001b[0m\n",
      "\u001b[31mEpoch: 6, BCELoss: 0.34809774099564067\u001b[0m\n",
      "\u001b[31mEpoch: 7, BCELoss: 0.32510283224436703\u001b[0m\n",
      "\u001b[31mEpoch: 8, BCELoss: 0.30887019543015226\u001b[0m\n",
      "\u001b[31mEpoch: 9, BCELoss: 0.31818822117484347\u001b[0m\n",
      "\u001b[31mEpoch: 10, BCELoss: 0.28481826064537985\u001b[0m\n",
      "\u001b[31m2019-05-24 11:02:33,051 sagemaker-containers INFO     Reporting training SUCCESS\u001b[0m\n",
      "\n",
      "2019-05-24 11:02:43 Uploading - Uploading generated training model\n",
      "2019-05-24 11:02:43 Completed - Training job completed\n",
      "Billable seconds: 276\n"
     ]
    }
   ],
   "source": [
    "estimator.fit({'training': input_data})"
   ]
  },
  {
   "cell_type": "markdown",
   "metadata": {},
   "source": [
    "## Step 5: Testing the model\n",
    "\n",
    "As mentioned at the top of this notebook, we will be testing this model by first deploying it and then sending the testing data to the deployed endpoint. We will do this so that we can make sure that the deployed model is working correctly.\n",
    "\n",
    "## Step 6: Deploy the model for testing\n",
    "\n",
    "Now that we have trained our model, we would like to test it to see how it performs. Currently our model takes input of the form `review_length, review[500]` where `review[500]` is a sequence of `500` integers which describe the words present in the review, encoded using `word_dict`. Fortunately for us, SageMaker provides built-in inference code for models with simple inputs such as this.\n",
    "\n",
    "There is one thing that we need to provide, however, and that is a function which loads the saved model. This function must be called `model_fn()` and takes as its only parameter a path to the directory where the model artifacts are stored. This function must also be present in the python file which we specified as the entry point. In our case the model loading function has been provided and so no changes need to be made.\n",
    "\n",
    "**NOTE**: When the built-in inference code is run it must import the `model_fn()` method from the `train.py` file. This is why the training code is wrapped in a main guard ( ie, `if __name__ == '__main__':` )\n",
    "\n",
    "Since we don't need to change anything in the code that was uploaded during training, we can simply deploy the current model as-is.\n",
    "\n",
    "**NOTE:** When deploying a model you are asking SageMaker to launch an compute instance that will wait for data to be sent to it. As a result, this compute instance will continue to run until *you* shut it down. This is important to know since the cost of a deployed endpoint depends on how long it has been running for.\n",
    "\n",
    "In other words **If you are no longer using a deployed endpoint, shut it down!**\n",
    "\n",
    "**TODO:** Deploy the trained model."
   ]
  },
  {
   "cell_type": "code",
   "execution_count": 56,
   "metadata": {},
   "outputs": [
    {
     "name": "stdout",
     "output_type": "stream",
     "text": [
      "-------------------------------------------------------------------------------------------------------!"
     ]
    }
   ],
   "source": [
    "# TODO: Deploy the trained model\n",
    "predictor = estimator.deploy(initial_instance_count=1, instance_type='ml.p2.xlarge')"
   ]
  },
  {
   "cell_type": "markdown",
   "metadata": {},
   "source": [
    "## Step 7 - Use the model for testing\n",
    "\n",
    "Once deployed, we can read in the test data and send it off to our deployed model to get some results. Once we collect all of the results we can determine how accurate our model is."
   ]
  },
  {
   "cell_type": "code",
   "execution_count": 57,
   "metadata": {},
   "outputs": [],
   "source": [
    "test_X = pd.concat([pd.DataFrame(test_X_len), pd.DataFrame(test_X)], axis=1)"
   ]
  },
  {
   "cell_type": "code",
   "execution_count": 58,
   "metadata": {},
   "outputs": [
    {
     "name": "stdout",
     "output_type": "stream",
     "text": [
      "25000\n"
     ]
    }
   ],
   "source": [
    "print(len(test_X_len))"
   ]
  },
  {
   "cell_type": "code",
   "execution_count": 59,
   "metadata": {},
   "outputs": [],
   "source": [
    "# We split the data into chunks and send each chunk seperately, accumulating the results.\n",
    "\n",
    "def predict(data, rows=512):\n",
    "    split_array = np.array_split(data, int(data.shape[0] / float(rows) + 1))\n",
    "    predictions = np.array([])\n",
    "    for array in split_array:\n",
    "        predictions = np.append(predictions, predictor.predict(array))\n",
    "    \n",
    "    return predictions"
   ]
  },
  {
   "cell_type": "code",
   "execution_count": 60,
   "metadata": {},
   "outputs": [],
   "source": [
    "predictions = predict(test_X.values)\n",
    "predictions = [round(num) for num in predictions]"
   ]
  },
  {
   "cell_type": "code",
   "execution_count": 61,
   "metadata": {},
   "outputs": [
    {
     "data": {
      "text/plain": [
       "0.83608"
      ]
     },
     "execution_count": 61,
     "metadata": {},
     "output_type": "execute_result"
    }
   ],
   "source": [
    "from sklearn.metrics import accuracy_score\n",
    "accuracy_score(test_y, predictions)"
   ]
  },
  {
   "cell_type": "markdown",
   "metadata": {},
   "source": [
    "**Question:** How does this model compare to the XGBoost model you created earlier? Why might these two models perform differently on this dataset? Which do *you* think is better for sentiment analysis?"
   ]
  },
  {
   "cell_type": "markdown",
   "metadata": {},
   "source": [
    "**Answer:**\n",
    "The accuracy score of the untuned XGBoost model was better than this RNN model. (XGBoost- 0.85344 / RNN- 0.83608 ). Tuning the hyperparameters of the XGBoost model would gain another  2%  of accuracy approximately. \n",
    "\n",
    "XGBoost performs well for tabular data than neural networks. Neural networks perform better when it comes to unstructured data like images and voice. RNNs in general and LSTMs, in particular, have success when working with sequences of words and paragraphs. Hence, it should be a good fit for Sentiment analysis.\n",
    "\n",
    "However, in this dataset XGBoost performs much better. This probably is because RNNs require a huge amount of data to perform better. So for this sentiment analysis dataset, I believe XGBoost would perform better and would be more efficient too."
   ]
  },
  {
   "cell_type": "markdown",
   "metadata": {},
   "source": [
    "### (TODO) More testing\n",
    "\n",
    "We now have a trained model which has been deployed and which we can send processed reviews to and which returns the predicted sentiment. However, ultimately we would like to be able to send our model an unprocessed review. That is, we would like to send the review itself as a string. For example, suppose we wish to send the following review to our model."
   ]
  },
  {
   "cell_type": "code",
   "execution_count": 62,
   "metadata": {},
   "outputs": [],
   "source": [
    "test_review = 'The simplest pleasures in life are the best, and this film is one of them. Combining a rather basic storyline of love and adventure this movie transcends the usual weekend fair with wit and unmitigated charm.'"
   ]
  },
  {
   "cell_type": "markdown",
   "metadata": {},
   "source": [
    "The question we now need to answer is, how do we send this review to our model?\n",
    "\n",
    "Recall in the first section of this notebook we did a bunch of data processing to the IMDb dataset. In particular, we did two specific things to the provided reviews.\n",
    " - Removed any html tags and stemmed the input\n",
    " - Encoded the review as a sequence of integers using `word_dict`\n",
    " \n",
    "In order process the review we will need to repeat these two steps.\n",
    "\n",
    "**TODO**: Using the `review_to_words` and `convert_and_pad` methods from section one, convert `test_review` into a numpy array `test_data` suitable to send to our model. Remember that our model expects input of the form `review_length, review[500]`."
   ]
  },
  {
   "cell_type": "code",
   "execution_count": 63,
   "metadata": {},
   "outputs": [],
   "source": [
    "# TODO: Convert test_review into a form usable by the model and save the results in test_data\n",
    " \n",
    "review_words, review_words_len = convert_and_pad(word_dict, review_to_words(test_review), 500)\n",
    "data = [[review_words_len]+ review_words]\n",
    "test_data =  pd.DataFrame(data)"
   ]
  },
  {
   "cell_type": "code",
   "execution_count": 64,
   "metadata": {},
   "outputs": [
    {
     "name": "stdout",
     "output_type": "stream",
     "text": [
      "   0    1     2    3    4    5    6    7    8    9   ...   491  492  493  494  \\\n",
      "0   20    1  1374   50   53    3    4  878  173  392 ...     0    0    0    0   \n",
      "\n",
      "   495  496  497  498  499  500  \n",
      "0    0    0    0    0    0    0  \n",
      "\n",
      "[1 rows x 501 columns]\n"
     ]
    }
   ],
   "source": [
    "print(test_data)"
   ]
  },
  {
   "cell_type": "markdown",
   "metadata": {},
   "source": [
    "Now that we have processed the review, we can send the resulting array to our model to predict the sentiment of the review."
   ]
  },
  {
   "cell_type": "code",
   "execution_count": 65,
   "metadata": {},
   "outputs": [
    {
     "data": {
      "text/plain": [
       "array(0.9342659, dtype=float32)"
      ]
     },
     "execution_count": 65,
     "metadata": {},
     "output_type": "execute_result"
    }
   ],
   "source": [
    "predictor.predict(test_data)"
   ]
  },
  {
   "cell_type": "markdown",
   "metadata": {},
   "source": [
    "Since the return value of our model is close to `1`, we can be certain that the review we submitted is positive."
   ]
  },
  {
   "cell_type": "markdown",
   "metadata": {},
   "source": [
    "### Delete the endpoint\n",
    "\n",
    "Of course, just like in the XGBoost notebook, once we've deployed an endpoint it continues to run until we tell it to shut down. Since we are done using our endpoint for now, we can delete it."
   ]
  },
  {
   "cell_type": "code",
   "execution_count": 66,
   "metadata": {},
   "outputs": [],
   "source": [
    "estimator.delete_endpoint()"
   ]
  },
  {
   "cell_type": "markdown",
   "metadata": {},
   "source": [
    "## Step 6 (again) - Deploy the model for the web app\n",
    "\n",
    "Now that we know that our model is working, it's time to create some custom inference code so that we can send the model a review which has not been processed and have it determine the sentiment of the review.\n",
    "\n",
    "As we saw above, by default the estimator which we created, when deployed, will use the entry script and directory which we provided when creating the model. However, since we now wish to accept a string as input and our model expects a processed review, we need to write some custom inference code.\n",
    "\n",
    "We will store the code that we write in the `serve` directory. Provided in this directory is the `model.py` file that we used to construct our model, a `utils.py` file which contains the `review_to_words` and `convert_and_pad` pre-processing functions which we used during the initial data processing, and `predict.py`, the file which will contain our custom inference code. Note also that `requirements.txt` is present which will tell SageMaker what Python libraries are required by our custom inference code.\n",
    "\n",
    "When deploying a PyTorch model in SageMaker, you are expected to provide four functions which the SageMaker inference container will use.\n",
    " - `model_fn`: This function is the same function that we used in the training script and it tells SageMaker how to load our model.\n",
    " - `input_fn`: This function receives the raw serialized input that has been sent to the model's endpoint and its job is to de-serialize and make the input available for the inference code.\n",
    " - `output_fn`: This function takes the output of the inference code and its job is to serialize this output and return it to the caller of the model's endpoint.\n",
    " - `predict_fn`: The heart of the inference script, this is where the actual prediction is done and is the function which you will need to complete.\n",
    "\n",
    "For the simple website that we are constructing during this project, the `input_fn` and `output_fn` methods are relatively straightforward. We only require being able to accept a string as input and we expect to return a single value as output. You might imagine though that in a more complex application the input or output may be image data or some other binary data which would require some effort to serialize.\n",
    "\n",
    "### (TODO) Writing inference code\n",
    "\n",
    "Before writing our custom inference code, we will begin by taking a look at the code which has been provided."
   ]
  },
  {
   "cell_type": "code",
   "execution_count": 67,
   "metadata": {},
   "outputs": [
    {
     "name": "stdout",
     "output_type": "stream",
     "text": [
      "\u001b[37m# %load serve/predict.py\u001b[39;49;00m\r\n",
      "\u001b[34mimport\u001b[39;49;00m \u001b[04m\u001b[36margparse\u001b[39;49;00m\r\n",
      "\u001b[34mimport\u001b[39;49;00m \u001b[04m\u001b[36mjson\u001b[39;49;00m\r\n",
      "\u001b[34mimport\u001b[39;49;00m \u001b[04m\u001b[36mos\u001b[39;49;00m\r\n",
      "\u001b[34mimport\u001b[39;49;00m \u001b[04m\u001b[36mpickle\u001b[39;49;00m\r\n",
      "\u001b[34mimport\u001b[39;49;00m \u001b[04m\u001b[36msys\u001b[39;49;00m\r\n",
      "\u001b[34mimport\u001b[39;49;00m \u001b[04m\u001b[36msagemaker_containers\u001b[39;49;00m\r\n",
      "\u001b[34mimport\u001b[39;49;00m \u001b[04m\u001b[36mpandas\u001b[39;49;00m \u001b[34mas\u001b[39;49;00m \u001b[04m\u001b[36mpd\u001b[39;49;00m\r\n",
      "\u001b[34mimport\u001b[39;49;00m \u001b[04m\u001b[36mnumpy\u001b[39;49;00m \u001b[34mas\u001b[39;49;00m \u001b[04m\u001b[36mnp\u001b[39;49;00m\r\n",
      "\u001b[34mimport\u001b[39;49;00m \u001b[04m\u001b[36mtorch\u001b[39;49;00m\r\n",
      "\u001b[34mimport\u001b[39;49;00m \u001b[04m\u001b[36mtorch.nn\u001b[39;49;00m \u001b[34mas\u001b[39;49;00m \u001b[04m\u001b[36mnn\u001b[39;49;00m\r\n",
      "\u001b[34mimport\u001b[39;49;00m \u001b[04m\u001b[36mtorch.optim\u001b[39;49;00m \u001b[34mas\u001b[39;49;00m \u001b[04m\u001b[36moptim\u001b[39;49;00m\r\n",
      "\u001b[34mimport\u001b[39;49;00m \u001b[04m\u001b[36mtorch.utils.data\u001b[39;49;00m\r\n",
      "\r\n",
      "\u001b[34mfrom\u001b[39;49;00m \u001b[04m\u001b[36mmodel\u001b[39;49;00m \u001b[34mimport\u001b[39;49;00m LSTMClassifier\r\n",
      "\r\n",
      "\u001b[34mfrom\u001b[39;49;00m \u001b[04m\u001b[36mutils\u001b[39;49;00m \u001b[34mimport\u001b[39;49;00m review_to_words, convert_and_pad\r\n",
      "\r\n",
      "\u001b[34mdef\u001b[39;49;00m \u001b[32mmodel_fn\u001b[39;49;00m(model_dir):\r\n",
      "    \u001b[33m\"\"\"Load the PyTorch model from the `model_dir` directory.\"\"\"\u001b[39;49;00m\r\n",
      "    \u001b[34mprint\u001b[39;49;00m(\u001b[33m\"\u001b[39;49;00m\u001b[33mLoading model.\u001b[39;49;00m\u001b[33m\"\u001b[39;49;00m)\r\n",
      "\r\n",
      "    \u001b[37m# First, load the parameters used to create the model.\u001b[39;49;00m\r\n",
      "    model_info = {}\r\n",
      "    model_info_path = os.path.join(model_dir, \u001b[33m'\u001b[39;49;00m\u001b[33mmodel_info.pth\u001b[39;49;00m\u001b[33m'\u001b[39;49;00m)\r\n",
      "    \u001b[34mwith\u001b[39;49;00m \u001b[36mopen\u001b[39;49;00m(model_info_path, \u001b[33m'\u001b[39;49;00m\u001b[33mrb\u001b[39;49;00m\u001b[33m'\u001b[39;49;00m) \u001b[34mas\u001b[39;49;00m f:\r\n",
      "        model_info = torch.load(f)\r\n",
      "\r\n",
      "    \u001b[34mprint\u001b[39;49;00m(\u001b[33m\"\u001b[39;49;00m\u001b[33mmodel_info: {}\u001b[39;49;00m\u001b[33m\"\u001b[39;49;00m.format(model_info))\r\n",
      "\r\n",
      "    \u001b[37m# Determine the device and construct the model.\u001b[39;49;00m\r\n",
      "    device = torch.device(\u001b[33m\"\u001b[39;49;00m\u001b[33mcuda\u001b[39;49;00m\u001b[33m\"\u001b[39;49;00m \u001b[34mif\u001b[39;49;00m torch.cuda.is_available() \u001b[34melse\u001b[39;49;00m \u001b[33m\"\u001b[39;49;00m\u001b[33mcpu\u001b[39;49;00m\u001b[33m\"\u001b[39;49;00m)\r\n",
      "    model = LSTMClassifier(model_info[\u001b[33m'\u001b[39;49;00m\u001b[33membedding_dim\u001b[39;49;00m\u001b[33m'\u001b[39;49;00m], model_info[\u001b[33m'\u001b[39;49;00m\u001b[33mhidden_dim\u001b[39;49;00m\u001b[33m'\u001b[39;49;00m], model_info[\u001b[33m'\u001b[39;49;00m\u001b[33mvocab_size\u001b[39;49;00m\u001b[33m'\u001b[39;49;00m])\r\n",
      "\r\n",
      "    \u001b[37m# Load the store model parameters.\u001b[39;49;00m\r\n",
      "    model_path = os.path.join(model_dir, \u001b[33m'\u001b[39;49;00m\u001b[33mmodel.pth\u001b[39;49;00m\u001b[33m'\u001b[39;49;00m)\r\n",
      "    \u001b[34mwith\u001b[39;49;00m \u001b[36mopen\u001b[39;49;00m(model_path, \u001b[33m'\u001b[39;49;00m\u001b[33mrb\u001b[39;49;00m\u001b[33m'\u001b[39;49;00m) \u001b[34mas\u001b[39;49;00m f:\r\n",
      "        model.load_state_dict(torch.load(f))\r\n",
      "\r\n",
      "    \u001b[37m# Load the saved word_dict.\u001b[39;49;00m\r\n",
      "    word_dict_path = os.path.join(model_dir, \u001b[33m'\u001b[39;49;00m\u001b[33mword_dict.pkl\u001b[39;49;00m\u001b[33m'\u001b[39;49;00m)\r\n",
      "    \u001b[34mwith\u001b[39;49;00m \u001b[36mopen\u001b[39;49;00m(word_dict_path, \u001b[33m'\u001b[39;49;00m\u001b[33mrb\u001b[39;49;00m\u001b[33m'\u001b[39;49;00m) \u001b[34mas\u001b[39;49;00m f:\r\n",
      "        model.word_dict = pickle.load(f)\r\n",
      "\r\n",
      "    model.to(device).eval()\r\n",
      "\r\n",
      "    \u001b[34mprint\u001b[39;49;00m(\u001b[33m\"\u001b[39;49;00m\u001b[33mDone loading model.\u001b[39;49;00m\u001b[33m\"\u001b[39;49;00m)\r\n",
      "    \u001b[34mreturn\u001b[39;49;00m model\r\n",
      "\r\n",
      "\u001b[34mdef\u001b[39;49;00m \u001b[32minput_fn\u001b[39;49;00m(serialized_input_data, content_type):\r\n",
      "    \u001b[34mprint\u001b[39;49;00m(\u001b[33m'\u001b[39;49;00m\u001b[33mDeserializing the input data.\u001b[39;49;00m\u001b[33m'\u001b[39;49;00m)\r\n",
      "    \u001b[34mif\u001b[39;49;00m content_type == \u001b[33m'\u001b[39;49;00m\u001b[33mtext/plain\u001b[39;49;00m\u001b[33m'\u001b[39;49;00m:\r\n",
      "        data = serialized_input_data.decode(\u001b[33m'\u001b[39;49;00m\u001b[33mutf-8\u001b[39;49;00m\u001b[33m'\u001b[39;49;00m)\r\n",
      "        \u001b[34mreturn\u001b[39;49;00m data\r\n",
      "    \u001b[34mraise\u001b[39;49;00m \u001b[36mException\u001b[39;49;00m(\u001b[33m'\u001b[39;49;00m\u001b[33mRequested unsupported ContentType in content_type: \u001b[39;49;00m\u001b[33m'\u001b[39;49;00m + content_type)\r\n",
      "\r\n",
      "\u001b[34mdef\u001b[39;49;00m \u001b[32moutput_fn\u001b[39;49;00m(prediction_output, accept):\r\n",
      "    \u001b[34mprint\u001b[39;49;00m(\u001b[33m'\u001b[39;49;00m\u001b[33mSerializing the generated output.\u001b[39;49;00m\u001b[33m'\u001b[39;49;00m)\r\n",
      "    \u001b[34mreturn\u001b[39;49;00m \u001b[36mstr\u001b[39;49;00m(prediction_output)\r\n",
      "\r\n",
      "\u001b[34mdef\u001b[39;49;00m \u001b[32mpredict_fn\u001b[39;49;00m(input_data, model):\r\n",
      "    \u001b[34mprint\u001b[39;49;00m(\u001b[33m'\u001b[39;49;00m\u001b[33mInferring sentiment of input data.\u001b[39;49;00m\u001b[33m'\u001b[39;49;00m)\r\n",
      "\r\n",
      "    device = torch.device(\u001b[33m\"\u001b[39;49;00m\u001b[33mcuda\u001b[39;49;00m\u001b[33m\"\u001b[39;49;00m \u001b[34mif\u001b[39;49;00m torch.cuda.is_available() \u001b[34melse\u001b[39;49;00m \u001b[33m\"\u001b[39;49;00m\u001b[33mcpu\u001b[39;49;00m\u001b[33m\"\u001b[39;49;00m)\r\n",
      "    \r\n",
      "    \u001b[34mif\u001b[39;49;00m model.word_dict \u001b[35mis\u001b[39;49;00m \u001b[36mNone\u001b[39;49;00m:\r\n",
      "        \u001b[34mraise\u001b[39;49;00m \u001b[36mException\u001b[39;49;00m(\u001b[33m'\u001b[39;49;00m\u001b[33mModel has not been loaded properly, no word_dict.\u001b[39;49;00m\u001b[33m'\u001b[39;49;00m)\r\n",
      "    \r\n",
      "    \u001b[37m# TODO: Process input_data so that it is ready to be sent to our model.\u001b[39;49;00m\r\n",
      "    \u001b[37m#       You should produce two variables:\u001b[39;49;00m\r\n",
      "    \u001b[37m#         data_X   - A sequence of length 500 which represents the converted review\u001b[39;49;00m\r\n",
      "    \u001b[37m#         data_len - The length of the review\u001b[39;49;00m\r\n",
      "\r\n",
      "    data_X , data_len = convert_and_pad(model.word_dict, review_to_words(input_data), \u001b[34m500\u001b[39;49;00m)\r\n",
      "\r\n",
      "    \u001b[37m# Using data_X and data_len we construct an appropriate input tensor. Remember\u001b[39;49;00m\r\n",
      "    \u001b[37m# that our model expects input data of the form 'len, review[500]'.\u001b[39;49;00m\r\n",
      "    data_pack = np.hstack((data_len, data_X))\r\n",
      "    data_pack = data_pack.reshape(\u001b[34m1\u001b[39;49;00m, -\u001b[34m1\u001b[39;49;00m)\r\n",
      "\r\n",
      "    data = torch.from_numpy(data_pack)\r\n",
      "    data = data.to(device)\r\n",
      "\r\n",
      "    \u001b[37m# Make sure to put the model into evaluation mode\u001b[39;49;00m\r\n",
      "    model.eval()\r\n",
      "\r\n",
      "    \u001b[37m# TODO: Compute the result of applying the model to the input data. The variable `result` should\u001b[39;49;00m\r\n",
      "    \u001b[37m#       be a numpy array which contains a single integer which is either 1 or 0\u001b[39;49;00m\r\n",
      "    result = model(data)\r\n",
      "    result = \u001b[36mround\u001b[39;49;00m(result.item())\r\n",
      "\r\n",
      "    \u001b[34mreturn\u001b[39;49;00m result\r\n"
     ]
    }
   ],
   "source": [
    "!pygmentize serve/predict.py"
   ]
  },
  {
   "cell_type": "code",
   "execution_count": 68,
   "metadata": {},
   "outputs": [
    {
     "name": "stdout",
     "output_type": "stream",
     "text": [
      "Overwriting serve/predict.py\n"
     ]
    }
   ],
   "source": [
    "%%writefile serve/predict.py\n",
    "# %load serve/predict.py\n",
    "import argparse\n",
    "import json\n",
    "import os\n",
    "import pickle\n",
    "import sys\n",
    "import sagemaker_containers\n",
    "import pandas as pd\n",
    "import numpy as np\n",
    "import torch\n",
    "import torch.nn as nn\n",
    "import torch.optim as optim\n",
    "import torch.utils.data\n",
    "\n",
    "from model import LSTMClassifier\n",
    "\n",
    "from utils import review_to_words, convert_and_pad\n",
    "\n",
    "def model_fn(model_dir):\n",
    "    \"\"\"Load the PyTorch model from the `model_dir` directory.\"\"\"\n",
    "    print(\"Loading model.\")\n",
    "\n",
    "    # First, load the parameters used to create the model.\n",
    "    model_info = {}\n",
    "    model_info_path = os.path.join(model_dir, 'model_info.pth')\n",
    "    with open(model_info_path, 'rb') as f:\n",
    "        model_info = torch.load(f)\n",
    "\n",
    "    print(\"model_info: {}\".format(model_info))\n",
    "\n",
    "    # Determine the device and construct the model.\n",
    "    device = torch.device(\"cuda\" if torch.cuda.is_available() else \"cpu\")\n",
    "    model = LSTMClassifier(model_info['embedding_dim'], model_info['hidden_dim'], model_info['vocab_size'])\n",
    "\n",
    "    # Load the store model parameters.\n",
    "    model_path = os.path.join(model_dir, 'model.pth')\n",
    "    with open(model_path, 'rb') as f:\n",
    "        model.load_state_dict(torch.load(f))\n",
    "\n",
    "    # Load the saved word_dict.\n",
    "    word_dict_path = os.path.join(model_dir, 'word_dict.pkl')\n",
    "    with open(word_dict_path, 'rb') as f:\n",
    "        model.word_dict = pickle.load(f)\n",
    "\n",
    "    model.to(device).eval()\n",
    "\n",
    "    print(\"Done loading model.\")\n",
    "    return model\n",
    "\n",
    "def input_fn(serialized_input_data, content_type):\n",
    "    print('Deserializing the input data.')\n",
    "    if content_type == 'text/plain':\n",
    "        data = serialized_input_data.decode('utf-8')\n",
    "        return data\n",
    "    raise Exception('Requested unsupported ContentType in content_type: ' + content_type)\n",
    "\n",
    "def output_fn(prediction_output, accept):\n",
    "    print('Serializing the generated output.')\n",
    "    return str(prediction_output)\n",
    "\n",
    "def predict_fn(input_data, model):\n",
    "    print('Inferring sentiment of input data.')\n",
    "\n",
    "    device = torch.device(\"cuda\" if torch.cuda.is_available() else \"cpu\")\n",
    "    \n",
    "    if model.word_dict is None:\n",
    "        raise Exception('Model has not been loaded properly, no word_dict.')\n",
    "    \n",
    "    # TODO: Process input_data so that it is ready to be sent to our model.\n",
    "    #       You should produce two variables:\n",
    "    #         data_X   - A sequence of length 500 which represents the converted review\n",
    "    #         data_len - The length of the review\n",
    "\n",
    "    data_X , data_len = convert_and_pad(model.word_dict, review_to_words(input_data), 500)\n",
    "\n",
    "    # Using data_X and data_len we construct an appropriate input tensor. Remember\n",
    "    # that our model expects input data of the form 'len, review[500]'.\n",
    "    data_pack = np.hstack((data_len, data_X))\n",
    "    data_pack = data_pack.reshape(1, -1)\n",
    "\n",
    "    data = torch.from_numpy(data_pack)\n",
    "    data = data.to(device)\n",
    "\n",
    "    # Make sure to put the model into evaluation mode\n",
    "    model.eval()\n",
    "\n",
    "    # TODO: Compute the result of applying the model to the input data. The variable `result` should\n",
    "    #       be a numpy array which contains a single integer which is either 1 or 0\n",
    "    result = model(data)\n",
    "    result = round(result.item())\n",
    "\n",
    "    return result\n"
   ]
  },
  {
   "cell_type": "markdown",
   "metadata": {},
   "source": [
    "As mentioned earlier, the `model_fn` method is the same as the one provided in the training code and the `input_fn` and `output_fn` methods are very simple and your task will be to complete the `predict_fn` method. Make sure that you save the completed file as `predict.py` in the `serve` directory.\n",
    "\n",
    "**TODO**: Complete the `predict_fn()` method in the `serve/predict.py` file."
   ]
  },
  {
   "cell_type": "markdown",
   "metadata": {},
   "source": [
    "### Deploying the model\n",
    "\n",
    "Now that the custom inference code has been written, we will create and deploy our model. To begin with, we need to construct a new PyTorchModel object which points to the model artifacts created during training and also points to the inference code that we wish to use. Then we can call the deploy method to launch the deployment container.\n",
    "\n",
    "**NOTE**: The default behaviour for a deployed PyTorch model is to assume that any input passed to the predictor is a `numpy` array. In our case we want to send a string so we need to construct a simple wrapper around the `RealTimePredictor` class to accomodate simple strings. In a more complicated situation you may want to provide a serialization object, for example if you wanted to sent image data."
   ]
  },
  {
   "cell_type": "code",
   "execution_count": 69,
   "metadata": {},
   "outputs": [
    {
     "name": "stdout",
     "output_type": "stream",
     "text": [
      "--------------------------------------------------------------------------------------!"
     ]
    }
   ],
   "source": [
    "from sagemaker.predictor import RealTimePredictor\n",
    "from sagemaker.pytorch import PyTorchModel\n",
    "\n",
    "class StringPredictor(RealTimePredictor):\n",
    "    def __init__(self, endpoint_name, sagemaker_session):\n",
    "        super(StringPredictor, self).__init__(endpoint_name, sagemaker_session, content_type='text/plain')\n",
    "\n",
    "model = PyTorchModel(model_data=estimator.model_data,\n",
    "                     role = role,\n",
    "                     framework_version='0.4.0',\n",
    "                     entry_point='predict.py',\n",
    "                     source_dir='serve',\n",
    "                     predictor_cls=StringPredictor)\n",
    "predictor = model.deploy(initial_instance_count=1, instance_type='ml.m4.xlarge')"
   ]
  },
  {
   "cell_type": "markdown",
   "metadata": {},
   "source": [
    "### Testing the model\n",
    "\n",
    "Now that we have deployed our model with the custom inference code, we should test to see if everything is working. Here we test our model by loading the first `250` positive and negative reviews and send them to the endpoint, then collect the results. The reason for only sending some of the data is that the amount of time it takes for our model to process the input and then perform inference is quite long and so testing the entire data set would be prohibitive."
   ]
  },
  {
   "cell_type": "code",
   "execution_count": 70,
   "metadata": {},
   "outputs": [],
   "source": [
    "import glob\n",
    "\n",
    "def test_reviews(data_dir='../data/aclImdb', stop=250):\n",
    "    \n",
    "    results = []\n",
    "    ground = []\n",
    "    \n",
    "    # We make sure to test both positive and negative reviews    \n",
    "    for sentiment in ['pos', 'neg']:\n",
    "        \n",
    "        path = os.path.join(data_dir, 'test', sentiment, '*.txt')\n",
    "        files = glob.glob(path)\n",
    "        \n",
    "        files_read = 0\n",
    "        \n",
    "        print('Starting ', sentiment, ' files')\n",
    "        \n",
    "        # Iterate through the files and send them to the predictor\n",
    "        for f in files:\n",
    "            with open(f) as review:\n",
    "                # First, we store the ground truth (was the review positive or negative)\n",
    "                if sentiment == 'pos':\n",
    "                    ground.append(1)\n",
    "                else:\n",
    "                    ground.append(0)\n",
    "                # Read in the review and convert to 'utf-8' for transmission via HTTP\n",
    "                review_input = review.read().encode('utf-8')\n",
    "                # Send the review to the predictor and store the results\n",
    "                results.append(int(predictor.predict(review_input)))\n",
    "                \n",
    "            # Sending reviews to our endpoint one at a time takes a while so we\n",
    "            # only send a small number of reviews\n",
    "            files_read += 1\n",
    "            if files_read == stop:\n",
    "                break\n",
    "            \n",
    "    return ground, results"
   ]
  },
  {
   "cell_type": "code",
   "execution_count": 71,
   "metadata": {},
   "outputs": [
    {
     "name": "stdout",
     "output_type": "stream",
     "text": [
      "Starting  pos  files\n",
      "Starting  neg  files\n"
     ]
    }
   ],
   "source": [
    "ground, results = test_reviews()"
   ]
  },
  {
   "cell_type": "code",
   "execution_count": 72,
   "metadata": {},
   "outputs": [
    {
     "data": {
      "text/plain": [
       "0.86"
      ]
     },
     "execution_count": 72,
     "metadata": {},
     "output_type": "execute_result"
    }
   ],
   "source": [
    "from sklearn.metrics import accuracy_score\n",
    "accuracy_score(ground, results)"
   ]
  },
  {
   "cell_type": "markdown",
   "metadata": {},
   "source": [
    "As an additional test, we can try sending the `test_review` that we looked at earlier."
   ]
  },
  {
   "cell_type": "code",
   "execution_count": 73,
   "metadata": {},
   "outputs": [
    {
     "data": {
      "text/plain": [
       "b'1'"
      ]
     },
     "execution_count": 73,
     "metadata": {},
     "output_type": "execute_result"
    }
   ],
   "source": [
    "predictor.predict(test_review)"
   ]
  },
  {
   "cell_type": "markdown",
   "metadata": {},
   "source": [
    "Now that we know our endpoint is working as expected, we can set up the web page that will interact with it. If you don't have time to finish the project now, make sure to skip down to the end of this notebook and shut down your endpoint. You can deploy it again when you come back."
   ]
  },
  {
   "cell_type": "markdown",
   "metadata": {},
   "source": [
    "## Step 7 (again): Use the model for the web app\n",
    "\n",
    "> **TODO:** This entire section and the next contain tasks for you to complete, mostly using the AWS console.\n",
    "\n",
    "So far we have been accessing our model endpoint by constructing a predictor object which uses the endpoint and then just using the predictor object to perform inference. What if we wanted to create a web app which accessed our model? The way things are set up currently makes that not possible since in order to access a SageMaker endpoint the app would first have to authenticate with AWS using an IAM role which included access to SageMaker endpoints. However, there is an easier way! We just need to use some additional AWS services.\n",
    "\n",
    "<img src=\"Web App Diagram.svg\">\n",
    "\n",
    "The diagram above gives an overview of how the various services will work together. On the far right is the model which we trained above and which is deployed using SageMaker. On the far left is our web app that collects a user's movie review, sends it off and expects a positive or negative sentiment in return.\n",
    "\n",
    "In the middle is where some of the magic happens. We will construct a Lambda function, which you can think of as a straightforward Python function that can be executed whenever a specified event occurs. We will give this function permission to send and recieve data from a SageMaker endpoint.\n",
    "\n",
    "Lastly, the method we will use to execute the Lambda function is a new endpoint that we will create using API Gateway. This endpoint will be a url that listens for data to be sent to it. Once it gets some data it will pass that data on to the Lambda function and then return whatever the Lambda function returns. Essentially it will act as an interface that lets our web app communicate with the Lambda function.\n",
    "\n",
    "### Setting up a Lambda function\n",
    "\n",
    "The first thing we are going to do is set up a Lambda function. This Lambda function will be executed whenever our public API has data sent to it. When it is executed it will receive the data, perform any sort of processing that is required, send the data (the review) to the SageMaker endpoint we've created and then return the result.\n",
    "\n",
    "#### Part A: Create an IAM Role for the Lambda function\n",
    "\n",
    "Since we want the Lambda function to call a SageMaker endpoint, we need to make sure that it has permission to do so. To do this, we will construct a role that we can later give the Lambda function.\n",
    "\n",
    "Using the AWS Console, navigate to the **IAM** page and click on **Roles**. Then, click on **Create role**. Make sure that the **AWS service** is the type of trusted entity selected and choose **Lambda** as the service that will use this role, then click **Next: Permissions**.\n",
    "\n",
    "In the search box type `sagemaker` and select the check box next to the **AmazonSageMakerFullAccess** policy. Then, click on **Next: Review**.\n",
    "\n",
    "Lastly, give this role a name. Make sure you use a name that you will remember later on, for example `LambdaSageMakerRole`. Then, click on **Create role**.\n",
    "\n",
    "#### Part B: Create a Lambda function\n",
    "\n",
    "Now it is time to actually create the Lambda function.\n",
    "\n",
    "Using the AWS Console, navigate to the AWS Lambda page and click on **Create a function**. When you get to the next page, make sure that **Author from scratch** is selected. Now, name your Lambda function, using a name that you will remember later on, for example `sentiment_analysis_func`. Make sure that the **Python 3.6** runtime is selected and then choose the role that you created in the previous part. Then, click on **Create Function**.\n",
    "\n",
    "On the next page you will see some information about the Lambda function you've just created. If you scroll down you should see an editor in which you can write the code that will be executed when your Lambda function is triggered. In our example, we will use the code below. \n",
    "\n",
    "```python\n",
    "# We need to use the low-level library to interact with SageMaker since the SageMaker API\n",
    "# is not available natively through Lambda.\n",
    "import boto3\n",
    "\n",
    "def lambda_handler(event, context):\n",
    "\n",
    "    # The SageMaker runtime is what allows us to invoke the endpoint that we've created.\n",
    "    runtime = boto3.Session().client('sagemaker-runtime')\n",
    "\n",
    "    # Now we use the SageMaker runtime to invoke our endpoint, sending the review we were given\n",
    "    response = runtime.invoke_endpoint(EndpointName = '**ENDPOINT NAME HERE**',    # The name of the endpoint we created\n",
    "                                       ContentType = 'text/plain',                 # The data format that is expected\n",
    "                                       Body = event['body'])                       # The actual review\n",
    "\n",
    "    # The response is an HTTP response whose body contains the result of our inference\n",
    "    result = response['Body'].read().decode('utf-8')\n",
    "\n",
    "    return {\n",
    "        'statusCode' : 200,\n",
    "        'headers' : { 'Content-Type' : 'text/plain', 'Access-Control-Allow-Origin' : '*' },\n",
    "        'body' : result\n",
    "    }\n",
    "```\n",
    "\n",
    "Once you have copy and pasted the code above into the Lambda code editor, replace the `**ENDPOINT NAME HERE**` portion with the name of the endpoint that we deployed earlier. You can determine the name of the endpoint using the code cell below."
   ]
  },
  {
   "cell_type": "code",
   "execution_count": 74,
   "metadata": {},
   "outputs": [
    {
     "data": {
      "text/plain": [
       "'sagemaker-pytorch-2019-05-24-11-39-11-682'"
      ]
     },
     "execution_count": 74,
     "metadata": {},
     "output_type": "execute_result"
    }
   ],
   "source": [
    "predictor.endpoint"
   ]
  },
  {
   "cell_type": "markdown",
   "metadata": {},
   "source": [
    "Once you have added the endpoint name to the Lambda function, click on **Save**. Your Lambda function is now up and running. Next we need to create a way for our web app to execute the Lambda function.\n",
    "\n",
    "### Setting up API Gateway\n",
    "\n",
    "Now that our Lambda function is set up, it is time to create a new API using API Gateway that will trigger the Lambda function we have just created.\n",
    "\n",
    "Using AWS Console, navigate to **Amazon API Gateway** and then click on **Get started**.\n",
    "\n",
    "On the next page, make sure that **New API** is selected and give the new api a name, for example, `sentiment_analysis_api`. Then, click on **Create API**.\n",
    "\n",
    "Now we have created an API, however it doesn't currently do anything. What we want it to do is to trigger the Lambda function that we created earlier.\n",
    "\n",
    "Select the **Actions** dropdown menu and click **Create Method**. A new blank method will be created, select its dropdown menu and select **POST**, then click on the check mark beside it.\n",
    "\n",
    "For the integration point, make sure that **Lambda Function** is selected and click on the **Use Lambda Proxy integration**. This option makes sure that the data that is sent to the API is then sent directly to the Lambda function with no processing. It also means that the return value must be a proper response object as it will also not be processed by API Gateway.\n",
    "\n",
    "Type the name of the Lambda function you created earlier into the **Lambda Function** text entry box and then click on **Save**. Click on **OK** in the pop-up box that then appears, giving permission to API Gateway to invoke the Lambda function you created.\n",
    "\n",
    "The last step in creating the API Gateway is to select the **Actions** dropdown and click on **Deploy API**. You will need to create a new Deployment stage and name it anything you like, for example `prod`.\n",
    "\n",
    "You have now successfully set up a public API to access your SageMaker model. Make sure to copy or write down the URL provided to invoke your newly created public API as this will be needed in the next step. This URL can be found at the top of the page, highlighted in blue next to the text **Invoke URL**."
   ]
  },
  {
   "cell_type": "markdown",
   "metadata": {},
   "source": [
    "## Step 4: Deploying our web app\n",
    "\n",
    "Now that we have a publicly available API, we can start using it in a web app. For our purposes, we have provided a simple static html file which can make use of the public api you created earlier.\n",
    "\n",
    "In the `website` folder there should be a file called `index.html`. Download the file to your computer and open that file up in a text editor of your choice. There should be a line which contains **\\*\\*REPLACE WITH PUBLIC API URL\\*\\***. Replace this string with the url that you wrote down in the last step and then save the file.\n",
    "\n",
    "Now, if you open `index.html` on your local computer, your browser will behave as a local web server and you can use the provided site to interact with your SageMaker model.\n",
    "\n",
    "If you'd like to go further, you can host this html file anywhere you'd like, for example using github or hosting a static site on Amazon's S3. Once you have done this you can share the link with anyone you'd like and have them play with it too!\n",
    "\n",
    "> **Important Note** In order for the web app to communicate with the SageMaker endpoint, the endpoint has to actually be deployed and running. This means that you are paying for it. Make sure that the endpoint is running when you want to use the web app but that you shut it down when you don't need it, otherwise you will end up with a surprisingly large AWS bill.\n",
    "\n",
    "**TODO:** Make sure that you include the edited `index.html` file in your project submission."
   ]
  },
  {
   "cell_type": "markdown",
   "metadata": {},
   "source": [
    "Now that your web app is working, trying playing around with it and see how well it works.\n",
    "\n",
    "**Question**: Give an example of a review that you entered into your web app. What was the predicted sentiment of your example review?"
   ]
  },
  {
   "cell_type": "markdown",
   "metadata": {},
   "source": [
    "**Answer:** They gave $300,000,000 for this movie, but it doesn't look like that big of a movie, right? WB really did something. They've disposed of movie's original composers. They've re-edited and rewrote the whole movie. They've brought a new guy, who doesn't care about the characters or bother to know them, as a writer and director to make the movie look more like a Disney movie. And with that guy, they added a bunch of reshoots which doesn't add too much to the movie other than garbageness and a bad CGI mouth. This version of Justice League is just wrong, doesn't add up, doesn't lead anywhere. Every storyline that we started, every future we were building up to gone with this movie. It just depressing. \n",
    "\n",
    "The review was predicted correctly to be Negative.\n"
   ]
  },
  {
   "cell_type": "markdown",
   "metadata": {},
   "source": [
    "### Delete the endpoint\n",
    "\n",
    "Remember to always shut down your endpoint if you are no longer using it. You are charged for the length of time that the endpoint is running so if you forget and leave it on you could end up with an unexpectedly large bill."
   ]
  },
  {
   "cell_type": "code",
   "execution_count": 75,
   "metadata": {},
   "outputs": [],
   "source": [
    "predictor.delete_endpoint()"
   ]
  }
 ],
 "metadata": {
  "kernelspec": {
   "display_name": "conda_pytorch_p36",
   "language": "python",
   "name": "conda_pytorch_p36"
  },
  "language_info": {
   "codemirror_mode": {
    "name": "ipython",
    "version": 3
   },
   "file_extension": ".py",
   "mimetype": "text/x-python",
   "name": "python",
   "nbconvert_exporter": "python",
   "pygments_lexer": "ipython3",
   "version": "3.6.5"
  }
 },
 "nbformat": 4,
 "nbformat_minor": 2
}
